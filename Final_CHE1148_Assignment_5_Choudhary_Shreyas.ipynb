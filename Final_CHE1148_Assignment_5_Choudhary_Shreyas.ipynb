{
  "nbformat": 4,
  "nbformat_minor": 0,
  "metadata": {
    "colab": {
      "name": "Final_CHE1148_Assignment_5_Choudhary_Shreyas.ipynb",
      "provenance": [],
      "collapsed_sections": []
    },
    "kernelspec": {
      "name": "python3",
      "display_name": "Python 3"
    }
  },
  "cells": [
    {
      "cell_type": "markdown",
      "metadata": {
        "id": "wkoGjOTRWtAK"
      },
      "source": [
        "#Importing necessary libraries and loading dataset"
      ]
    },
    {
      "cell_type": "code",
      "metadata": {
        "id": "2dk52hxaa3nP"
      },
      "source": [
        "#Importing the necessary libraries\n",
        "import pandas as pd\n",
        "import numpy as np\n",
        "import math\n",
        "import matplotlib.pyplot as plt\n",
        "import statistics as st\n",
        "import seaborn as sns\n",
        "from sklearn.preprocessing import StandardScaler\n",
        "from sklearn.model_selection import train_test_split\n",
        "from sklearn.linear_model import LogisticRegression, LinearRegression\n",
        "from sklearn.metrics import r2_score,classification_report,accuracy_score,confusion_matrix, mean_squared_error\n",
        "from sklearn.tree import DecisionTreeClassifier, plot_tree\n",
        "import plotly.express as px\n",
        "from sklearn.svm import SVC\n",
        "from sklearn.metrics import accuracy_score\n",
        "from sklearn.linear_model import Lasso\n",
        "from sklearn import metrics\n",
        "from sklearn.svm import SVR\n",
        "from sklearn.tree import DecisionTreeRegressor \n",
        "from numpy import arange\n",
        "from sklearn.model_selection import GridSearchCV\n",
        "from sklearn.model_selection import RepeatedKFold\n",
        "import matplotlib.patches as patches\n",
        "%matplotlib inline"
      ],
      "execution_count": 1,
      "outputs": []
    },
    {
      "cell_type": "code",
      "metadata": {
        "id": "vu8Xp4EPbLIn"
      },
      "source": [
        "#Reading the data into a dataframe\n",
        "carbigdf = pd.read_csv('https://raw.githubusercontent.com/shreyaschoudhary/Process-Data-Analytics/master/Carbig.csv')"
      ],
      "execution_count": 2,
      "outputs": []
    },
    {
      "cell_type": "code",
      "metadata": {
        "id": "Z-VHrQA8bRTc",
        "colab": {
          "base_uri": "https://localhost:8080/",
          "height": 407
        },
        "outputId": "66f6fd6a-8ef2-417e-8e29-57a72c765f4f"
      },
      "source": [
        "#Displaying the read dataframe\n",
        "carbigdf"
      ],
      "execution_count": 3,
      "outputs": [
        {
          "output_type": "execute_result",
          "data": {
            "text/html": [
              "<div>\n",
              "<style scoped>\n",
              "    .dataframe tbody tr th:only-of-type {\n",
              "        vertical-align: middle;\n",
              "    }\n",
              "\n",
              "    .dataframe tbody tr th {\n",
              "        vertical-align: top;\n",
              "    }\n",
              "\n",
              "    .dataframe thead th {\n",
              "        text-align: right;\n",
              "    }\n",
              "</style>\n",
              "<table border=\"1\" class=\"dataframe\">\n",
              "  <thead>\n",
              "    <tr style=\"text-align: right;\">\n",
              "      <th></th>\n",
              "      <th>Acceleration</th>\n",
              "      <th>Cylinders</th>\n",
              "      <th>Displacement</th>\n",
              "      <th>Horsepower</th>\n",
              "      <th>MPG</th>\n",
              "      <th>Weight</th>\n",
              "    </tr>\n",
              "  </thead>\n",
              "  <tbody>\n",
              "    <tr>\n",
              "      <th>0</th>\n",
              "      <td>12.0</td>\n",
              "      <td>8.0</td>\n",
              "      <td>307.0</td>\n",
              "      <td>130.0</td>\n",
              "      <td>18.0</td>\n",
              "      <td>3500.0</td>\n",
              "    </tr>\n",
              "    <tr>\n",
              "      <th>1</th>\n",
              "      <td>11.5</td>\n",
              "      <td>8.0</td>\n",
              "      <td>350.0</td>\n",
              "      <td>165.0</td>\n",
              "      <td>15.0</td>\n",
              "      <td>3690.0</td>\n",
              "    </tr>\n",
              "    <tr>\n",
              "      <th>2</th>\n",
              "      <td>11.0</td>\n",
              "      <td>8.0</td>\n",
              "      <td>318.0</td>\n",
              "      <td>150.0</td>\n",
              "      <td>18.0</td>\n",
              "      <td>3440.0</td>\n",
              "    </tr>\n",
              "    <tr>\n",
              "      <th>3</th>\n",
              "      <td>12.0</td>\n",
              "      <td>8.0</td>\n",
              "      <td>304.0</td>\n",
              "      <td>150.0</td>\n",
              "      <td>16.0</td>\n",
              "      <td>3430.0</td>\n",
              "    </tr>\n",
              "    <tr>\n",
              "      <th>4</th>\n",
              "      <td>10.5</td>\n",
              "      <td>8.0</td>\n",
              "      <td>302.0</td>\n",
              "      <td>140.0</td>\n",
              "      <td>17.0</td>\n",
              "      <td>3450.0</td>\n",
              "    </tr>\n",
              "    <tr>\n",
              "      <th>...</th>\n",
              "      <td>...</td>\n",
              "      <td>...</td>\n",
              "      <td>...</td>\n",
              "      <td>...</td>\n",
              "      <td>...</td>\n",
              "      <td>...</td>\n",
              "    </tr>\n",
              "    <tr>\n",
              "      <th>401</th>\n",
              "      <td>15.6</td>\n",
              "      <td>4.0</td>\n",
              "      <td>140.0</td>\n",
              "      <td>86.0</td>\n",
              "      <td>27.0</td>\n",
              "      <td>2790.0</td>\n",
              "    </tr>\n",
              "    <tr>\n",
              "      <th>402</th>\n",
              "      <td>24.6</td>\n",
              "      <td>4.0</td>\n",
              "      <td>97.0</td>\n",
              "      <td>52.0</td>\n",
              "      <td>44.0</td>\n",
              "      <td>2130.0</td>\n",
              "    </tr>\n",
              "    <tr>\n",
              "      <th>403</th>\n",
              "      <td>11.6</td>\n",
              "      <td>4.0</td>\n",
              "      <td>135.0</td>\n",
              "      <td>84.0</td>\n",
              "      <td>32.0</td>\n",
              "      <td>2300.0</td>\n",
              "    </tr>\n",
              "    <tr>\n",
              "      <th>404</th>\n",
              "      <td>18.6</td>\n",
              "      <td>4.0</td>\n",
              "      <td>120.0</td>\n",
              "      <td>79.0</td>\n",
              "      <td>28.0</td>\n",
              "      <td>2630.0</td>\n",
              "    </tr>\n",
              "    <tr>\n",
              "      <th>405</th>\n",
              "      <td>19.4</td>\n",
              "      <td>4.0</td>\n",
              "      <td>119.0</td>\n",
              "      <td>82.0</td>\n",
              "      <td>31.0</td>\n",
              "      <td>2720.0</td>\n",
              "    </tr>\n",
              "  </tbody>\n",
              "</table>\n",
              "<p>406 rows × 6 columns</p>\n",
              "</div>"
            ],
            "text/plain": [
              "     Acceleration  Cylinders  Displacement  Horsepower   MPG  Weight\n",
              "0            12.0        8.0         307.0       130.0  18.0  3500.0\n",
              "1            11.5        8.0         350.0       165.0  15.0  3690.0\n",
              "2            11.0        8.0         318.0       150.0  18.0  3440.0\n",
              "3            12.0        8.0         304.0       150.0  16.0  3430.0\n",
              "4            10.5        8.0         302.0       140.0  17.0  3450.0\n",
              "..            ...        ...           ...         ...   ...     ...\n",
              "401          15.6        4.0         140.0        86.0  27.0  2790.0\n",
              "402          24.6        4.0          97.0        52.0  44.0  2130.0\n",
              "403          11.6        4.0         135.0        84.0  32.0  2300.0\n",
              "404          18.6        4.0         120.0        79.0  28.0  2630.0\n",
              "405          19.4        4.0         119.0        82.0  31.0  2720.0\n",
              "\n",
              "[406 rows x 6 columns]"
            ]
          },
          "metadata": {
            "tags": []
          },
          "execution_count": 3
        }
      ]
    },
    {
      "cell_type": "markdown",
      "metadata": {
        "id": "xcSD_vVb1W6s"
      },
      "source": [
        "#Data pre-processing"
      ]
    },
    {
      "cell_type": "markdown",
      "metadata": {
        "id": "0ywtm_ixVdfd"
      },
      "source": [
        "First step is to replace the NaN values in the dataframe"
      ]
    },
    {
      "cell_type": "code",
      "metadata": {
        "id": "QUEMmSxYdJSA",
        "colab": {
          "base_uri": "https://localhost:8080/"
        },
        "outputId": "98bb01dc-bec4-4f38-c7e5-13345eaf74d7"
      },
      "source": [
        "#Checking the dataframe for NaN values\n",
        "carbigdf.isnull().any()"
      ],
      "execution_count": 4,
      "outputs": [
        {
          "output_type": "execute_result",
          "data": {
            "text/plain": [
              "Acceleration    False\n",
              "Cylinders       False\n",
              "Displacement    False\n",
              "Horsepower       True\n",
              "MPG              True\n",
              "Weight          False\n",
              "dtype: bool"
            ]
          },
          "metadata": {
            "tags": []
          },
          "execution_count": 4
        }
      ]
    },
    {
      "cell_type": "markdown",
      "metadata": {
        "id": "wTEQIl1sVoHu"
      },
      "source": [
        "Now, it is known that columns Horsepower and MPG contain NaN values. Checking how many values in the columns are NaN values."
      ]
    },
    {
      "cell_type": "code",
      "metadata": {
        "id": "QRK_YxaQdL1L",
        "colab": {
          "base_uri": "https://localhost:8080/"
        },
        "outputId": "1c11ab12-2c66-4989-dc01-91fb7d33eb78"
      },
      "source": [
        "#Checking the number of NaN values in the columns found to have NaN values\n",
        "print(\"Total number of NaN values in 'Horsepower' column is\", carbigdf['Horsepower'].isnull().sum())\n",
        "print(\"Total number of NaN values in 'MPG' column is\",carbigdf['MPG'].isnull().sum())"
      ],
      "execution_count": 5,
      "outputs": [
        {
          "output_type": "stream",
          "text": [
            "Total number of NaN values in 'Horsepower' column is 6\n",
            "Total number of NaN values in 'MPG' column is 8\n"
          ],
          "name": "stdout"
        }
      ]
    },
    {
      "cell_type": "markdown",
      "metadata": {
        "id": "7tKEpTmbPyst"
      },
      "source": [
        "For imputing the Nan values from the categorical variable dataset, it doesn't make sense to replace the values with mean, hence replacing the NaN values with the most common/frequently appearing values in the particular column respectively."
      ]
    },
    {
      "cell_type": "code",
      "metadata": {
        "id": "HYwcSTTHzz_U"
      },
      "source": [
        "#Imputing the rows containing NaN Values with the average of the column\n",
        "carbigdf['Horsepower'].fillna(carbigdf['Horsepower'].value_counts().index[0], inplace = True)\n",
        "carbigdf['MPG'].fillna(carbigdf['MPG'].value_counts().index[0], inplace = True)"
      ],
      "execution_count": 6,
      "outputs": []
    },
    {
      "cell_type": "code",
      "metadata": {
        "colab": {
          "base_uri": "https://localhost:8080/"
        },
        "id": "NB9yTXhC0KQt",
        "outputId": "97f7130a-a90b-48fd-f0e0-fc1086164cae"
      },
      "source": [
        "#Checking after imputing the NaN values\n",
        "carbigdf.isnull().any()"
      ],
      "execution_count": 7,
      "outputs": [
        {
          "output_type": "execute_result",
          "data": {
            "text/plain": [
              "Acceleration    False\n",
              "Cylinders       False\n",
              "Displacement    False\n",
              "Horsepower      False\n",
              "MPG             False\n",
              "Weight          False\n",
              "dtype: bool"
            ]
          },
          "metadata": {
            "tags": []
          },
          "execution_count": 7
        }
      ]
    },
    {
      "cell_type": "markdown",
      "metadata": {
        "id": "JXr9GAIxWm_I"
      },
      "source": [
        "Now, we also found that the dataframe contains very few values in the target variable that aren't of any value in the analysis (i.e the values of 3 and 5 cylinders). Hence, getting rid of those values here."
      ]
    },
    {
      "cell_type": "code",
      "metadata": {
        "id": "UH8MM_08dRWu"
      },
      "source": [
        "#Removing the cylinder values of 3 and 5\n",
        "carbigdf = carbigdf[carbigdf.Cylinders != 3]\n",
        "carbigdf = carbigdf[carbigdf.Cylinders != 5]"
      ],
      "execution_count": 8,
      "outputs": []
    },
    {
      "cell_type": "markdown",
      "metadata": {
        "id": "wKxwZiLaW48M"
      },
      "source": [
        "Displaying the final pre-processed dataframe"
      ]
    },
    {
      "cell_type": "code",
      "metadata": {
        "colab": {
          "base_uri": "https://localhost:8080/",
          "height": 407
        },
        "id": "AmXfB5U-OJAL",
        "outputId": "3ae694cb-47d1-4d78-a6f4-6688080ceb00"
      },
      "source": [
        "#Displaying the dataset after removing NaN values rows and 3,5 cylinder values row\n",
        "carbigdf"
      ],
      "execution_count": 9,
      "outputs": [
        {
          "output_type": "execute_result",
          "data": {
            "text/html": [
              "<div>\n",
              "<style scoped>\n",
              "    .dataframe tbody tr th:only-of-type {\n",
              "        vertical-align: middle;\n",
              "    }\n",
              "\n",
              "    .dataframe tbody tr th {\n",
              "        vertical-align: top;\n",
              "    }\n",
              "\n",
              "    .dataframe thead th {\n",
              "        text-align: right;\n",
              "    }\n",
              "</style>\n",
              "<table border=\"1\" class=\"dataframe\">\n",
              "  <thead>\n",
              "    <tr style=\"text-align: right;\">\n",
              "      <th></th>\n",
              "      <th>Acceleration</th>\n",
              "      <th>Cylinders</th>\n",
              "      <th>Displacement</th>\n",
              "      <th>Horsepower</th>\n",
              "      <th>MPG</th>\n",
              "      <th>Weight</th>\n",
              "    </tr>\n",
              "  </thead>\n",
              "  <tbody>\n",
              "    <tr>\n",
              "      <th>0</th>\n",
              "      <td>12.0</td>\n",
              "      <td>8.0</td>\n",
              "      <td>307.0</td>\n",
              "      <td>130.0</td>\n",
              "      <td>18.0</td>\n",
              "      <td>3500.0</td>\n",
              "    </tr>\n",
              "    <tr>\n",
              "      <th>1</th>\n",
              "      <td>11.5</td>\n",
              "      <td>8.0</td>\n",
              "      <td>350.0</td>\n",
              "      <td>165.0</td>\n",
              "      <td>15.0</td>\n",
              "      <td>3690.0</td>\n",
              "    </tr>\n",
              "    <tr>\n",
              "      <th>2</th>\n",
              "      <td>11.0</td>\n",
              "      <td>8.0</td>\n",
              "      <td>318.0</td>\n",
              "      <td>150.0</td>\n",
              "      <td>18.0</td>\n",
              "      <td>3440.0</td>\n",
              "    </tr>\n",
              "    <tr>\n",
              "      <th>3</th>\n",
              "      <td>12.0</td>\n",
              "      <td>8.0</td>\n",
              "      <td>304.0</td>\n",
              "      <td>150.0</td>\n",
              "      <td>16.0</td>\n",
              "      <td>3430.0</td>\n",
              "    </tr>\n",
              "    <tr>\n",
              "      <th>4</th>\n",
              "      <td>10.5</td>\n",
              "      <td>8.0</td>\n",
              "      <td>302.0</td>\n",
              "      <td>140.0</td>\n",
              "      <td>17.0</td>\n",
              "      <td>3450.0</td>\n",
              "    </tr>\n",
              "    <tr>\n",
              "      <th>...</th>\n",
              "      <td>...</td>\n",
              "      <td>...</td>\n",
              "      <td>...</td>\n",
              "      <td>...</td>\n",
              "      <td>...</td>\n",
              "      <td>...</td>\n",
              "    </tr>\n",
              "    <tr>\n",
              "      <th>401</th>\n",
              "      <td>15.6</td>\n",
              "      <td>4.0</td>\n",
              "      <td>140.0</td>\n",
              "      <td>86.0</td>\n",
              "      <td>27.0</td>\n",
              "      <td>2790.0</td>\n",
              "    </tr>\n",
              "    <tr>\n",
              "      <th>402</th>\n",
              "      <td>24.6</td>\n",
              "      <td>4.0</td>\n",
              "      <td>97.0</td>\n",
              "      <td>52.0</td>\n",
              "      <td>44.0</td>\n",
              "      <td>2130.0</td>\n",
              "    </tr>\n",
              "    <tr>\n",
              "      <th>403</th>\n",
              "      <td>11.6</td>\n",
              "      <td>4.0</td>\n",
              "      <td>135.0</td>\n",
              "      <td>84.0</td>\n",
              "      <td>32.0</td>\n",
              "      <td>2300.0</td>\n",
              "    </tr>\n",
              "    <tr>\n",
              "      <th>404</th>\n",
              "      <td>18.6</td>\n",
              "      <td>4.0</td>\n",
              "      <td>120.0</td>\n",
              "      <td>79.0</td>\n",
              "      <td>28.0</td>\n",
              "      <td>2630.0</td>\n",
              "    </tr>\n",
              "    <tr>\n",
              "      <th>405</th>\n",
              "      <td>19.4</td>\n",
              "      <td>4.0</td>\n",
              "      <td>119.0</td>\n",
              "      <td>82.0</td>\n",
              "      <td>31.0</td>\n",
              "      <td>2720.0</td>\n",
              "    </tr>\n",
              "  </tbody>\n",
              "</table>\n",
              "<p>399 rows × 6 columns</p>\n",
              "</div>"
            ],
            "text/plain": [
              "     Acceleration  Cylinders  Displacement  Horsepower   MPG  Weight\n",
              "0            12.0        8.0         307.0       130.0  18.0  3500.0\n",
              "1            11.5        8.0         350.0       165.0  15.0  3690.0\n",
              "2            11.0        8.0         318.0       150.0  18.0  3440.0\n",
              "3            12.0        8.0         304.0       150.0  16.0  3430.0\n",
              "4            10.5        8.0         302.0       140.0  17.0  3450.0\n",
              "..            ...        ...           ...         ...   ...     ...\n",
              "401          15.6        4.0         140.0        86.0  27.0  2790.0\n",
              "402          24.6        4.0          97.0        52.0  44.0  2130.0\n",
              "403          11.6        4.0         135.0        84.0  32.0  2300.0\n",
              "404          18.6        4.0         120.0        79.0  28.0  2630.0\n",
              "405          19.4        4.0         119.0        82.0  31.0  2720.0\n",
              "\n",
              "[399 rows x 6 columns]"
            ]
          },
          "metadata": {
            "tags": []
          },
          "execution_count": 9
        }
      ]
    },
    {
      "cell_type": "code",
      "metadata": {
        "colab": {
          "base_uri": "https://localhost:8080/",
          "height": 407
        },
        "id": "MKVQUzZL4sC-",
        "outputId": "0340ec40-de11-47d7-a077-c51d2fb112de"
      },
      "source": [
        "#Dataset without the cylinder column\n",
        "carbigdfwtoutop = carbigdf.drop(columns='Cylinders')\n",
        "carbigdfwtoutop"
      ],
      "execution_count": 10,
      "outputs": [
        {
          "output_type": "execute_result",
          "data": {
            "text/html": [
              "<div>\n",
              "<style scoped>\n",
              "    .dataframe tbody tr th:only-of-type {\n",
              "        vertical-align: middle;\n",
              "    }\n",
              "\n",
              "    .dataframe tbody tr th {\n",
              "        vertical-align: top;\n",
              "    }\n",
              "\n",
              "    .dataframe thead th {\n",
              "        text-align: right;\n",
              "    }\n",
              "</style>\n",
              "<table border=\"1\" class=\"dataframe\">\n",
              "  <thead>\n",
              "    <tr style=\"text-align: right;\">\n",
              "      <th></th>\n",
              "      <th>Acceleration</th>\n",
              "      <th>Displacement</th>\n",
              "      <th>Horsepower</th>\n",
              "      <th>MPG</th>\n",
              "      <th>Weight</th>\n",
              "    </tr>\n",
              "  </thead>\n",
              "  <tbody>\n",
              "    <tr>\n",
              "      <th>0</th>\n",
              "      <td>12.0</td>\n",
              "      <td>307.0</td>\n",
              "      <td>130.0</td>\n",
              "      <td>18.0</td>\n",
              "      <td>3500.0</td>\n",
              "    </tr>\n",
              "    <tr>\n",
              "      <th>1</th>\n",
              "      <td>11.5</td>\n",
              "      <td>350.0</td>\n",
              "      <td>165.0</td>\n",
              "      <td>15.0</td>\n",
              "      <td>3690.0</td>\n",
              "    </tr>\n",
              "    <tr>\n",
              "      <th>2</th>\n",
              "      <td>11.0</td>\n",
              "      <td>318.0</td>\n",
              "      <td>150.0</td>\n",
              "      <td>18.0</td>\n",
              "      <td>3440.0</td>\n",
              "    </tr>\n",
              "    <tr>\n",
              "      <th>3</th>\n",
              "      <td>12.0</td>\n",
              "      <td>304.0</td>\n",
              "      <td>150.0</td>\n",
              "      <td>16.0</td>\n",
              "      <td>3430.0</td>\n",
              "    </tr>\n",
              "    <tr>\n",
              "      <th>4</th>\n",
              "      <td>10.5</td>\n",
              "      <td>302.0</td>\n",
              "      <td>140.0</td>\n",
              "      <td>17.0</td>\n",
              "      <td>3450.0</td>\n",
              "    </tr>\n",
              "    <tr>\n",
              "      <th>...</th>\n",
              "      <td>...</td>\n",
              "      <td>...</td>\n",
              "      <td>...</td>\n",
              "      <td>...</td>\n",
              "      <td>...</td>\n",
              "    </tr>\n",
              "    <tr>\n",
              "      <th>401</th>\n",
              "      <td>15.6</td>\n",
              "      <td>140.0</td>\n",
              "      <td>86.0</td>\n",
              "      <td>27.0</td>\n",
              "      <td>2790.0</td>\n",
              "    </tr>\n",
              "    <tr>\n",
              "      <th>402</th>\n",
              "      <td>24.6</td>\n",
              "      <td>97.0</td>\n",
              "      <td>52.0</td>\n",
              "      <td>44.0</td>\n",
              "      <td>2130.0</td>\n",
              "    </tr>\n",
              "    <tr>\n",
              "      <th>403</th>\n",
              "      <td>11.6</td>\n",
              "      <td>135.0</td>\n",
              "      <td>84.0</td>\n",
              "      <td>32.0</td>\n",
              "      <td>2300.0</td>\n",
              "    </tr>\n",
              "    <tr>\n",
              "      <th>404</th>\n",
              "      <td>18.6</td>\n",
              "      <td>120.0</td>\n",
              "      <td>79.0</td>\n",
              "      <td>28.0</td>\n",
              "      <td>2630.0</td>\n",
              "    </tr>\n",
              "    <tr>\n",
              "      <th>405</th>\n",
              "      <td>19.4</td>\n",
              "      <td>119.0</td>\n",
              "      <td>82.0</td>\n",
              "      <td>31.0</td>\n",
              "      <td>2720.0</td>\n",
              "    </tr>\n",
              "  </tbody>\n",
              "</table>\n",
              "<p>399 rows × 5 columns</p>\n",
              "</div>"
            ],
            "text/plain": [
              "     Acceleration  Displacement  Horsepower   MPG  Weight\n",
              "0            12.0         307.0       130.0  18.0  3500.0\n",
              "1            11.5         350.0       165.0  15.0  3690.0\n",
              "2            11.0         318.0       150.0  18.0  3440.0\n",
              "3            12.0         304.0       150.0  16.0  3430.0\n",
              "4            10.5         302.0       140.0  17.0  3450.0\n",
              "..            ...           ...         ...   ...     ...\n",
              "401          15.6         140.0        86.0  27.0  2790.0\n",
              "402          24.6          97.0        52.0  44.0  2130.0\n",
              "403          11.6         135.0        84.0  32.0  2300.0\n",
              "404          18.6         120.0        79.0  28.0  2630.0\n",
              "405          19.4         119.0        82.0  31.0  2720.0\n",
              "\n",
              "[399 rows x 5 columns]"
            ]
          },
          "metadata": {
            "tags": []
          },
          "execution_count": 10
        }
      ]
    },
    {
      "cell_type": "markdown",
      "metadata": {
        "id": "guLcXZ6h1bjD"
      },
      "source": [
        "After pre-processing, the final dataframe has 399 rows an 6 columns, with the target 'Cylinders' column included."
      ]
    },
    {
      "cell_type": "markdown",
      "metadata": {
        "id": "gdGFTu4C1maz"
      },
      "source": [
        "#Exploratory Data Analysis and Feature Selection\n",
        "\n"
      ]
    },
    {
      "cell_type": "markdown",
      "metadata": {
        "id": "l3a5PLSuPXw9"
      },
      "source": [
        "##Parallel Coordinate Plot"
      ]
    },
    {
      "cell_type": "code",
      "metadata": {
        "colab": {
          "base_uri": "https://localhost:8080/",
          "height": 542
        },
        "id": "cnEf2jB_9We_",
        "outputId": "540eb0be-d1c0-4e88-f351-7c1e068c691f"
      },
      "source": [
        "#Parallel Corrdinate plot on the original dataframe\n",
        "fig = px.parallel_coordinates(carbigdf, color=\"Cylinders\", labels={\"4\", \"6\" ,\"8\"},\n",
        "                             color_continuous_scale=px.colors.diverging.Tealrose,\n",
        "                             color_continuous_midpoint=2)\n",
        "\n",
        "fig.update_layout(\n",
        "    title={\n",
        "        'text': \"Parallel Coordinate Plot\",\n",
        "        'y':1.0,\n",
        "        'x':0.5,\n",
        "        'xanchor': 'center',\n",
        "        'yanchor': 'top',\n",
        "        })\n",
        "\n",
        "fig.show()"
      ],
      "execution_count": 11,
      "outputs": [
        {
          "output_type": "display_data",
          "data": {
            "text/html": [
              "<html>\n",
              "<head><meta charset=\"utf-8\" /></head>\n",
              "<body>\n",
              "    <div>\n",
              "            <script src=\"https://cdnjs.cloudflare.com/ajax/libs/mathjax/2.7.5/MathJax.js?config=TeX-AMS-MML_SVG\"></script><script type=\"text/javascript\">if (window.MathJax) {MathJax.Hub.Config({SVG: {font: \"STIX-Web\"}});}</script>\n",
              "                <script type=\"text/javascript\">window.PlotlyConfig = {MathJaxConfig: 'local'};</script>\n",
              "        <script src=\"https://cdn.plot.ly/plotly-latest.min.js\"></script>    \n",
              "            <div id=\"405ddfe7-27a0-4004-bb6c-4f3bd3737e03\" class=\"plotly-graph-div\" style=\"height:525px; width:100%;\"></div>\n",
              "            <script type=\"text/javascript\">\n",
              "                \n",
              "                    window.PLOTLYENV=window.PLOTLYENV || {};\n",
              "                    \n",
              "                if (document.getElementById(\"405ddfe7-27a0-4004-bb6c-4f3bd3737e03\")) {\n",
              "                    Plotly.newPlot(\n",
              "                        '405ddfe7-27a0-4004-bb6c-4f3bd3737e03',\n",
              "                        [{\"dimensions\": [{\"label\": \"Acceleration\", \"values\": [12.0, 11.5, 11.0, 12.0, 10.5, 10.0, 9.0, 8.5, 10.0, 8.5, 17.5, 11.5, 11.0, 10.5, 11.0, 10.0, 8.0, 8.0, 9.5, 10.0, 15.0, 15.5, 15.5, 16.0, 14.5, 20.5, 17.5, 14.5, 17.5, 12.5, 15.0, 14.0, 15.0, 13.5, 18.5, 14.5, 15.5, 14.0, 19.0, 20.0, 13.0, 15.5, 15.5, 15.5, 15.5, 12.0, 11.5, 13.5, 13.0, 11.5, 12.0, 12.0, 13.5, 19.0, 15.0, 14.5, 14.0, 14.0, 19.5, 14.5, 19.0, 18.0, 19.0, 20.5, 15.5, 17.0, 23.5, 19.5, 16.5, 12.0, 12.0, 13.5, 13.0, 11.5, 11.0, 13.5, 13.5, 12.5, 12.5, 14.0, 16.0, 14.0, 14.5, 18.0, 19.5, 18.0, 16.0, 17.0, 14.5, 15.0, 16.5, 13.0, 11.5, 13.0, 14.5, 12.5, 11.5, 12.0, 13.0, 14.5, 11.0, 11.0, 11.0, 16.5, 18.0, 16.0, 16.5, 16.0, 21.0, 14.0, 12.5, 13.0, 12.5, 15.0, 19.0, 19.5, 16.5, 18.5, 14.0, 15.5, 13.0, 9.5, 19.5, 15.5, 14.0, 15.5, 11.0, 14.0, 13.5, 11.0, 16.5, 17.0, 16.0, 17.0, 19.0, 16.5, 21.0, 17.0, 17.0, 18.0, 16.5, 14.0, 14.5, 13.5, 16.0, 15.5, 16.5, 15.5, 14.5, 16.5, 19.0, 14.5, 15.5, 14.0, 15.0, 15.5, 16.0, 16.0, 16.0, 21.0, 19.5, 11.5, 14.0, 14.5, 13.5, 21.0, 18.5, 19.0, 19.0, 15.0, 13.5, 12.0, 16.0, 17.0, 16.0, 18.5, 13.5, 16.5, 17.0, 14.5, 14.0, 17.0, 15.0, 17.0, 14.5, 13.5, 17.5, 15.5, 16.9, 14.9, 17.7, 15.3, 13.0, 13.0, 13.9, 12.8, 15.4, 14.5, 17.6, 17.6, 22.2, 22.1, 14.2, 17.4, 17.7, 21.0, 16.2, 17.8, 12.2, 17.0, 16.4, 13.6, 15.7, 13.2, 21.9, 15.5, 16.7, 12.1, 12.0, 15.0, 14.0, 18.5, 14.8, 18.6, 15.5, 16.8, 12.5, 19.0, 13.7, 14.9, 16.4, 16.9, 17.7, 19.0, 11.1, 11.4, 12.2, 14.5, 14.5, 16.0, 18.2, 15.8, 17.0, 15.9, 16.4, 14.1, 14.5, 12.8, 21.5, 14.4, 19.4, 18.6, 16.4, 15.5, 13.2, 12.8, 19.2, 18.2, 15.8, 15.4, 17.2, 17.2, 15.8, 16.7, 18.7, 15.1, 13.2, 13.4, 11.2, 13.7, 16.5, 14.2, 14.7, 14.5, 14.8, 16.7, 17.6, 14.9, 13.6, 15.7, 15.8, 14.9, 16.6, 15.4, 18.2, 17.3, 18.2, 16.6, 15.4, 13.4, 13.2, 15.2, 14.9, 14.3, 15.0, 13.0, 14.0, 15.2, 14.4, 15.0, 17.4, 24.8, 22.2, 13.2, 14.9, 19.2, 14.7, 16.0, 11.3, 12.9, 13.2, 14.7, 18.8, 15.5, 16.4, 16.5, 18.1, 20.1, 18.7, 15.8, 15.5, 17.5, 15.0, 15.2, 17.9, 14.4, 19.2, 21.7, 23.7, 21.8, 13.8, 17.3, 18.0, 15.3, 11.4, 15.1, 14.3, 17.0, 15.7, 16.4, 14.4, 12.6, 12.9, 16.9, 16.4, 16.1, 17.8, 19.4, 17.3, 16.0, 14.9, 16.2, 20.7, 14.2, 15.8, 14.4, 16.8, 14.8, 18.3, 20.4, 15.4, 19.6, 12.6, 13.8, 15.8, 19.0, 17.1, 16.6, 19.6, 18.6, 18.0, 16.2, 16.0, 18.0, 16.4, 20.5, 15.3, 18.2, 17.6, 14.7, 17.3, 14.5, 14.5, 16.9, 15.0, 15.7, 16.2, 16.4, 17.0, 14.5, 14.7, 13.9, 13.0, 17.3, 15.6, 24.6, 11.6, 18.6, 19.4]}, {\"label\": \"Cylinders\", \"values\": [8.0, 8.0, 8.0, 8.0, 8.0, 8.0, 8.0, 8.0, 8.0, 8.0, 4.0, 8.0, 8.0, 8.0, 8.0, 8.0, 8.0, 8.0, 8.0, 8.0, 4.0, 6.0, 6.0, 6.0, 4.0, 4.0, 4.0, 4.0, 4.0, 4.0, 6.0, 8.0, 8.0, 8.0, 8.0, 4.0, 4.0, 4.0, 4.0, 4.0, 6.0, 6.0, 6.0, 6.0, 6.0, 8.0, 8.0, 8.0, 8.0, 8.0, 8.0, 8.0, 6.0, 4.0, 6.0, 6.0, 4.0, 4.0, 4.0, 4.0, 4.0, 4.0, 4.0, 4.0, 4.0, 4.0, 4.0, 4.0, 4.0, 8.0, 8.0, 8.0, 8.0, 8.0, 8.0, 8.0, 8.0, 8.0, 8.0, 8.0, 8.0, 8.0, 4.0, 4.0, 4.0, 4.0, 4.0, 4.0, 4.0, 4.0, 4.0, 8.0, 8.0, 8.0, 8.0, 8.0, 8.0, 8.0, 8.0, 8.0, 8.0, 8.0, 8.0, 6.0, 6.0, 6.0, 6.0, 6.0, 4.0, 8.0, 8.0, 8.0, 8.0, 6.0, 4.0, 4.0, 4.0, 4.0, 6.0, 4.0, 8.0, 8.0, 4.0, 4.0, 4.0, 4.0, 8.0, 4.0, 6.0, 8.0, 6.0, 6.0, 6.0, 6.0, 4.0, 4.0, 4.0, 4.0, 6.0, 6.0, 6.0, 8.0, 8.0, 8.0, 8.0, 8.0, 4.0, 4.0, 4.0, 4.0, 4.0, 4.0, 4.0, 4.0, 4.0, 4.0, 4.0, 6.0, 6.0, 6.0, 6.0, 8.0, 8.0, 8.0, 8.0, 6.0, 6.0, 6.0, 6.0, 6.0, 8.0, 8.0, 4.0, 4.0, 6.0, 4.0, 4.0, 4.0, 4.0, 6.0, 4.0, 6.0, 4.0, 4.0, 4.0, 4.0, 4.0, 4.0, 4.0, 4.0, 4.0, 4.0, 8.0, 8.0, 8.0, 8.0, 6.0, 6.0, 6.0, 6.0, 4.0, 4.0, 4.0, 4.0, 6.0, 6.0, 6.0, 6.0, 4.0, 4.0, 4.0, 4.0, 4.0, 8.0, 4.0, 6.0, 6.0, 8.0, 8.0, 8.0, 8.0, 4.0, 4.0, 4.0, 4.0, 4.0, 8.0, 8.0, 8.0, 8.0, 6.0, 6.0, 6.0, 6.0, 8.0, 8.0, 8.0, 8.0, 4.0, 4.0, 4.0, 4.0, 4.0, 4.0, 4.0, 4.0, 6.0, 4.0, 4.0, 4.0, 4.0, 4.0, 4.0, 8.0, 8.0, 8.0, 6.0, 6.0, 6.0, 4.0, 6.0, 6.0, 6.0, 6.0, 6.0, 6.0, 8.0, 6.0, 8.0, 8.0, 4.0, 4.0, 4.0, 4.0, 4.0, 4.0, 4.0, 4.0, 6.0, 4.0, 6.0, 4.0, 4.0, 6.0, 6.0, 4.0, 6.0, 6.0, 8.0, 8.0, 8.0, 8.0, 8.0, 8.0, 8.0, 8.0, 4.0, 4.0, 4.0, 4.0, 8.0, 4.0, 8.0, 4.0, 4.0, 4.0, 4.0, 4.0, 6.0, 6.0, 4.0, 4.0, 4.0, 4.0, 4.0, 4.0, 4.0, 4.0, 6.0, 4.0, 4.0, 4.0, 4.0, 4.0, 4.0, 4.0, 4.0, 4.0, 4.0, 4.0, 4.0, 4.0, 4.0, 4.0, 6.0, 4.0, 4.0, 4.0, 4.0, 4.0, 4.0, 6.0, 4.0, 4.0, 4.0, 4.0, 4.0, 4.0, 4.0, 4.0, 4.0, 4.0, 4.0, 4.0, 4.0, 4.0, 4.0, 4.0, 4.0, 4.0, 4.0, 6.0, 6.0, 6.0, 6.0, 8.0, 6.0, 6.0, 4.0, 4.0, 4.0, 4.0, 4.0, 4.0, 4.0, 4.0, 4.0, 4.0, 4.0, 4.0, 4.0, 4.0, 4.0, 4.0, 4.0, 4.0, 4.0, 6.0, 6.0, 4.0, 6.0, 4.0, 4.0, 4.0, 4.0, 4.0, 4.0, 4.0, 4.0]}, {\"label\": \"Displacement\", \"values\": [307.0, 350.0, 318.0, 304.0, 302.0, 429.0, 454.0, 440.0, 455.0, 390.0, 133.0, 350.0, 351.0, 383.0, 360.0, 383.0, 340.0, 302.0, 400.0, 455.0, 113.0, 198.0, 199.0, 200.0, 97.0, 97.0, 110.0, 107.0, 104.0, 121.0, 199.0, 360.0, 307.0, 318.0, 304.0, 97.0, 140.0, 113.0, 98.0, 97.0, 232.0, 225.0, 250.0, 250.0, 232.0, 350.0, 400.0, 351.0, 318.0, 383.0, 400.0, 400.0, 258.0, 140.0, 250.0, 250.0, 122.0, 116.0, 79.0, 88.0, 71.0, 72.0, 97.0, 91.0, 113.0, 97.5, 97.0, 140.0, 122.0, 350.0, 400.0, 318.0, 351.0, 304.0, 429.0, 350.0, 350.0, 400.0, 304.0, 307.0, 302.0, 318.0, 121.0, 121.0, 120.0, 96.0, 122.0, 97.0, 120.0, 98.0, 97.0, 350.0, 304.0, 350.0, 302.0, 318.0, 429.0, 400.0, 351.0, 318.0, 440.0, 455.0, 360.0, 225.0, 250.0, 232.0, 250.0, 198.0, 97.0, 400.0, 400.0, 360.0, 350.0, 232.0, 97.0, 140.0, 108.0, 122.0, 155.0, 98.0, 350.0, 400.0, 68.0, 116.0, 114.0, 121.0, 318.0, 121.0, 156.0, 350.0, 198.0, 200.0, 232.0, 250.0, 79.0, 122.0, 71.0, 140.0, 250.0, 258.0, 225.0, 302.0, 350.0, 318.0, 302.0, 304.0, 98.0, 79.0, 97.0, 76.0, 83.0, 90.0, 90.0, 116.0, 120.0, 108.0, 79.0, 225.0, 250.0, 250.0, 250.0, 400.0, 350.0, 318.0, 351.0, 231.0, 250.0, 258.0, 225.0, 231.0, 262.0, 302.0, 97.0, 140.0, 232.0, 140.0, 134.0, 90.0, 119.0, 171.0, 90.0, 232.0, 115.0, 120.0, 121.0, 121.0, 91.0, 107.0, 116.0, 140.0, 98.0, 101.0, 305.0, 318.0, 304.0, 351.0, 225.0, 250.0, 200.0, 232.0, 85.0, 98.0, 90.0, 91.0, 225.0, 250.0, 250.0, 258.0, 97.0, 85.0, 97.0, 140.0, 130.0, 318.0, 120.0, 156.0, 168.0, 350.0, 350.0, 302.0, 318.0, 98.0, 111.0, 79.0, 122.0, 85.0, 305.0, 260.0, 318.0, 302.0, 250.0, 231.0, 225.0, 250.0, 400.0, 350.0, 400.0, 351.0, 97.0, 151.0, 97.0, 140.0, 98.0, 98.0, 97.0, 97.0, 146.0, 121.0, 90.0, 98.0, 78.0, 85.0, 91.0, 260.0, 318.0, 302.0, 231.0, 200.0, 200.0, 140.0, 225.0, 232.0, 231.0, 200.0, 225.0, 258.0, 305.0, 231.0, 302.0, 318.0, 98.0, 134.0, 119.0, 105.0, 134.0, 156.0, 151.0, 119.0, 163.0, 121.0, 163.0, 89.0, 98.0, 231.0, 200.0, 140.0, 232.0, 225.0, 305.0, 302.0, 351.0, 318.0, 350.0, 351.0, 267.0, 360.0, 89.0, 86.0, 98.0, 121.0, 350.0, 141.0, 260.0, 105.0, 105.0, 85.0, 91.0, 151.0, 173.0, 173.0, 151.0, 98.0, 89.0, 98.0, 86.0, 151.0, 140.0, 151.0, 225.0, 97.0, 134.0, 120.0, 119.0, 108.0, 86.0, 156.0, 85.0, 90.0, 90.0, 146.0, 91.0, 85.0, 97.0, 89.0, 168.0, 122.0, 140.0, 107.0, 135.0, 151.0, 156.0, 173.0, 135.0, 79.0, 86.0, 81.0, 97.0, 85.0, 89.0, 91.0, 105.0, 98.0, 98.0, 105.0, 100.0, 107.0, 108.0, 119.0, 120.0, 141.0, 121.0, 145.0, 168.0, 146.0, 231.0, 350.0, 200.0, 225.0, 112.0, 112.0, 112.0, 112.0, 135.0, 151.0, 140.0, 151.0, 105.0, 91.0, 91.0, 105.0, 98.0, 120.0, 107.0, 108.0, 91.0, 91.0, 91.0, 181.0, 262.0, 156.0, 232.0, 144.0, 135.0, 151.0, 140.0, 97.0, 135.0, 120.0, 119.0]}, {\"label\": \"Horsepower\", \"values\": [130.0, 165.0, 150.0, 150.0, 140.0, 198.0, 220.0, 215.0, 225.0, 190.0, 115.0, 165.0, 153.0, 175.0, 175.0, 170.0, 160.0, 140.0, 150.0, 225.0, 95.0, 95.0, 97.0, 85.0, 88.0, 46.0, 87.0, 90.0, 95.0, 113.0, 90.0, 215.0, 200.0, 210.0, 193.0, 88.0, 90.0, 95.0, 150.0, 48.0, 100.0, 105.0, 100.0, 88.0, 100.0, 165.0, 175.0, 153.0, 150.0, 180.0, 170.0, 175.0, 110.0, 72.0, 100.0, 88.0, 86.0, 90.0, 70.0, 76.0, 65.0, 69.0, 60.0, 70.0, 95.0, 80.0, 54.0, 90.0, 86.0, 165.0, 175.0, 150.0, 153.0, 150.0, 208.0, 155.0, 160.0, 190.0, 150.0, 130.0, 140.0, 150.0, 112.0, 76.0, 87.0, 69.0, 86.0, 92.0, 97.0, 80.0, 88.0, 175.0, 150.0, 145.0, 137.0, 150.0, 198.0, 150.0, 158.0, 150.0, 215.0, 225.0, 175.0, 105.0, 100.0, 100.0, 88.0, 95.0, 46.0, 150.0, 167.0, 170.0, 180.0, 100.0, 88.0, 72.0, 94.0, 85.0, 107.0, 90.0, 145.0, 230.0, 49.0, 75.0, 91.0, 112.0, 150.0, 110.0, 122.0, 180.0, 95.0, 150.0, 100.0, 100.0, 67.0, 80.0, 65.0, 75.0, 100.0, 110.0, 105.0, 140.0, 150.0, 150.0, 140.0, 150.0, 83.0, 67.0, 78.0, 52.0, 61.0, 75.0, 75.0, 75.0, 97.0, 93.0, 67.0, 95.0, 105.0, 72.0, 72.0, 170.0, 145.0, 150.0, 148.0, 110.0, 105.0, 110.0, 95.0, 110.0, 110.0, 129.0, 75.0, 83.0, 100.0, 78.0, 96.0, 71.0, 97.0, 97.0, 70.0, 90.0, 95.0, 88.0, 98.0, 115.0, 53.0, 86.0, 81.0, 92.0, 79.0, 83.0, 140.0, 150.0, 120.0, 152.0, 100.0, 105.0, 81.0, 90.0, 52.0, 60.0, 70.0, 53.0, 100.0, 78.0, 110.0, 95.0, 71.0, 70.0, 75.0, 72.0, 102.0, 150.0, 88.0, 108.0, 120.0, 180.0, 145.0, 130.0, 150.0, 68.0, 80.0, 58.0, 96.0, 70.0, 145.0, 110.0, 145.0, 130.0, 110.0, 105.0, 100.0, 98.0, 180.0, 170.0, 190.0, 149.0, 78.0, 88.0, 75.0, 89.0, 63.0, 83.0, 67.0, 78.0, 97.0, 110.0, 48.0, 66.0, 52.0, 70.0, 60.0, 110.0, 140.0, 139.0, 105.0, 95.0, 85.0, 88.0, 100.0, 90.0, 105.0, 85.0, 110.0, 120.0, 145.0, 165.0, 139.0, 140.0, 68.0, 95.0, 97.0, 75.0, 95.0, 105.0, 85.0, 97.0, 125.0, 115.0, 133.0, 71.0, 68.0, 115.0, 85.0, 88.0, 90.0, 110.0, 130.0, 129.0, 138.0, 135.0, 155.0, 142.0, 125.0, 150.0, 71.0, 65.0, 80.0, 80.0, 125.0, 71.0, 90.0, 70.0, 70.0, 65.0, 69.0, 90.0, 115.0, 115.0, 90.0, 76.0, 60.0, 70.0, 65.0, 90.0, 88.0, 90.0, 90.0, 78.0, 90.0, 75.0, 92.0, 75.0, 65.0, 105.0, 65.0, 48.0, 48.0, 67.0, 67.0, 150.0, 67.0, 62.0, 132.0, 88.0, 150.0, 72.0, 84.0, 84.0, 92.0, 110.0, 84.0, 58.0, 64.0, 60.0, 67.0, 65.0, 62.0, 68.0, 63.0, 65.0, 65.0, 74.0, 150.0, 75.0, 75.0, 100.0, 74.0, 80.0, 110.0, 76.0, 116.0, 120.0, 110.0, 105.0, 88.0, 85.0, 88.0, 88.0, 88.0, 85.0, 84.0, 90.0, 92.0, 150.0, 74.0, 68.0, 68.0, 63.0, 70.0, 88.0, 75.0, 70.0, 67.0, 67.0, 67.0, 110.0, 85.0, 92.0, 112.0, 96.0, 84.0, 90.0, 86.0, 52.0, 84.0, 79.0, 82.0]}, {\"label\": \"MPG\", \"values\": [18.0, 15.0, 18.0, 16.0, 17.0, 15.0, 14.0, 14.0, 14.0, 15.0, 13.0, 13.0, 13.0, 13.0, 13.0, 15.0, 14.0, 13.0, 15.0, 14.0, 24.0, 22.0, 18.0, 21.0, 27.0, 26.0, 25.0, 24.0, 25.0, 26.0, 21.0, 10.0, 10.0, 11.0, 9.0, 27.0, 28.0, 25.0, 25.0, 13.0, 19.0, 16.0, 17.0, 19.0, 18.0, 14.0, 14.0, 14.0, 14.0, 12.0, 13.0, 13.0, 18.0, 22.0, 19.0, 18.0, 23.0, 28.0, 30.0, 30.0, 31.0, 35.0, 27.0, 26.0, 24.0, 25.0, 23.0, 20.0, 21.0, 13.0, 14.0, 15.0, 14.0, 17.0, 11.0, 13.0, 12.0, 13.0, 15.0, 13.0, 13.0, 14.0, 18.0, 22.0, 21.0, 26.0, 22.0, 28.0, 23.0, 28.0, 27.0, 13.0, 14.0, 13.0, 14.0, 15.0, 12.0, 13.0, 13.0, 14.0, 13.0, 12.0, 13.0, 18.0, 16.0, 18.0, 18.0, 23.0, 26.0, 11.0, 12.0, 13.0, 12.0, 18.0, 20.0, 21.0, 22.0, 19.0, 21.0, 26.0, 15.0, 16.0, 29.0, 24.0, 20.0, 19.0, 15.0, 24.0, 20.0, 11.0, 20.0, 21.0, 19.0, 15.0, 31.0, 26.0, 32.0, 25.0, 16.0, 16.0, 18.0, 16.0, 13.0, 14.0, 14.0, 14.0, 29.0, 26.0, 26.0, 31.0, 32.0, 28.0, 24.0, 26.0, 24.0, 26.0, 31.0, 19.0, 18.0, 15.0, 15.0, 16.0, 15.0, 16.0, 14.0, 17.0, 16.0, 15.0, 18.0, 21.0, 20.0, 13.0, 29.0, 23.0, 20.0, 23.0, 24.0, 25.0, 24.0, 18.0, 29.0, 19.0, 23.0, 23.0, 22.0, 25.0, 33.0, 28.0, 25.0, 25.0, 26.0, 27.0, 17.5, 16.0, 15.5, 14.5, 22.0, 22.0, 24.0, 22.5, 29.0, 24.5, 29.0, 33.0, 20.0, 18.0, 18.5, 17.5, 29.5, 32.0, 28.0, 26.5, 20.0, 13.0, 19.0, 19.0, 16.5, 16.5, 13.0, 13.0, 13.0, 31.5, 30.0, 36.0, 25.5, 33.5, 17.5, 17.0, 15.5, 15.0, 17.5, 20.5, 19.0, 18.5, 16.0, 15.5, 15.5, 16.0, 29.0, 24.5, 26.0, 25.5, 30.5, 33.5, 30.0, 30.5, 22.0, 21.5, 43.1, 36.1, 32.8, 39.4, 36.1, 19.9, 19.4, 20.2, 19.2, 20.5, 20.2, 25.1, 20.5, 19.4, 20.6, 20.8, 18.6, 18.1, 19.2, 17.7, 18.1, 17.5, 30.0, 27.5, 27.2, 30.9, 21.1, 23.2, 23.8, 23.9, 17.0, 21.6, 16.2, 31.5, 29.5, 21.5, 19.8, 22.3, 20.2, 20.6, 17.0, 17.6, 16.5, 18.2, 16.9, 15.5, 19.2, 18.5, 31.9, 34.1, 35.7, 27.4, 23.0, 27.2, 23.9, 34.2, 34.5, 31.8, 37.3, 28.4, 28.8, 26.8, 33.5, 41.5, 38.1, 32.1, 37.2, 28.0, 26.4, 24.3, 19.1, 34.3, 29.8, 31.3, 37.0, 32.2, 46.6, 27.9, 40.8, 44.3, 43.4, 30.0, 44.6, 40.9, 33.8, 29.8, 32.7, 35.0, 23.6, 32.4, 27.2, 26.6, 25.8, 23.5, 30.0, 39.1, 39.0, 35.1, 32.3, 37.0, 37.7, 34.1, 34.7, 34.4, 29.9, 33.0, 34.5, 33.7, 32.4, 32.9, 31.6, 28.1, 13.0, 30.7, 25.4, 24.2, 22.4, 26.6, 20.2, 17.6, 28.0, 27.0, 34.0, 31.0, 29.0, 27.0, 24.0, 23.0, 36.0, 37.0, 31.0, 38.0, 36.0, 36.0, 36.0, 34.0, 38.0, 32.0, 38.0, 25.0, 38.0, 26.0, 22.0, 32.0, 36.0, 27.0, 27.0, 44.0, 32.0, 28.0, 31.0]}, {\"label\": \"Weight\", \"values\": [3500.0, 3690.0, 3440.0, 3430.0, 3450.0, 4340.0, 4350.0, 4310.0, 4430.0, 3850.0, 3090.0, 4140.0, 4030.0, 4170.0, 3850.0, 3560.0, 3610.0, 3350.0, 3760.0, 3090.0, 2370.0, 2830.0, 2770.0, 2590.0, 2130.0, 1840.0, 2670.0, 2430.0, 2380.0, 2230.0, 2650.0, 4620.0, 4380.0, 4380.0, 4730.0, 2130.0, 2260.0, 2230.0, 2050.0, 1980.0, 2630.0, 3440.0, 3330.0, 3300.0, 3290.0, 4210.0, 4460.0, 4150.0, 4100.0, 4960.0, 4750.0, 5140.0, 2960.0, 2410.0, 3280.0, 3140.0, 2220.0, 2120.0, 2070.0, 2070.0, 1770.0, 1610.0, 1830.0, 1960.0, 2280.0, 2130.0, 2250.0, 2410.0, 2230.0, 4270.0, 4390.0, 4140.0, 4130.0, 3670.0, 4630.0, 4500.0, 4460.0, 4420.0, 3890.0, 4100.0, 4290.0, 4080.0, 2930.0, 2510.0, 2980.0, 2190.0, 2400.0, 2290.0, 2510.0, 2160.0, 2100.0, 4100.0, 3670.0, 3990.0, 4040.0, 3780.0, 4950.0, 4460.0, 4360.0, 4240.0, 4740.0, 4950.0, 3820.0, 3120.0, 3280.0, 2950.0, 3020.0, 2900.0, 1950.0, 5000.0, 4910.0, 4650.0, 4500.0, 2790.0, 2280.0, 2400.0, 2380.0, 2310.0, 2470.0, 2270.0, 4080.0, 4280.0, 1870.0, 2160.0, 2580.0, 2870.0, 3400.0, 2660.0, 2810.0, 3660.0, 3100.0, 2880.0, 2900.0, 3340.0, 1950.0, 2450.0, 1840.0, 2540.0, 3780.0, 3630.0, 3610.0, 4140.0, 4700.0, 4460.0, 4640.0, 4260.0, 2220.0, 1960.0, 2300.0, 1650.0, 2000.0, 2130.0, 2110.0, 2250.0, 2490.0, 2390.0, 2000.0, 3260.0, 3460.0, 3430.0, 3160.0, 4670.0, 4440.0, 4500.0, 4660.0, 3910.0, 3900.0, 3730.0, 3790.0, 3040.0, 3220.0, 3170.0, 2170.0, 2640.0, 2910.0, 2590.0, 2700.0, 2220.0, 2550.0, 2980.0, 1940.0, 3210.0, 2690.0, 2960.0, 2950.0, 2670.0, 1800.0, 2460.0, 2220.0, 2570.0, 2260.0, 2200.0, 4220.0, 4190.0, 3960.0, 4220.0, 3230.0, 3350.0, 3010.0, 3090.0, 2040.0, 2160.0, 1940.0, 1800.0, 3650.0, 3570.0, 3650.0, 3190.0, 1830.0, 1990.0, 2160.0, 2570.0, 3150.0, 3940.0, 3270.0, 2930.0, 3820.0, 4380.0, 4060.0, 3870.0, 3760.0, 2050.0, 2160.0, 1830.0, 2300.0, 1950.0, 3880.0, 4060.0, 4140.0, 4300.0, 3520.0, 3430.0, 3630.0, 3530.0, 4220.0, 4170.0, 4330.0, 4340.0, 1940.0, 2740.0, 2270.0, 2760.0, 2050.0, 2080.0, 1990.0, 2190.0, 2820.0, 2600.0, 1990.0, 1800.0, 1990.0, 2070.0, 1800.0, 3370.0, 3740.0, 3570.0, 3540.0, 3160.0, 2970.0, 2720.0, 3430.0, 3210.0, 3380.0, 3070.0, 3620.0, 3410.0, 3430.0, 3450.0, 3210.0, 4080.0, 2160.0, 2560.0, 2300.0, 2230.0, 2520.0, 2750.0, 2860.0, 2410.0, 3140.0, 2800.0, 3410.0, 1990.0, 2140.0, 3250.0, 2990.0, 2890.0, 3270.0, 3360.0, 3840.0, 3730.0, 3960.0, 3830.0, 4360.0, 4050.0, 3610.0, 3940.0, 1930.0, 1980.0, 1920.0, 2670.0, 3900.0, 3190.0, 3420.0, 2200.0, 2150.0, 2020.0, 2130.0, 2670.0, 2600.0, 2700.0, 2560.0, 2140.0, 1970.0, 2120.0, 2020.0, 2680.0, 2870.0, 3000.0, 3380.0, 2190.0, 2710.0, 2540.0, 2430.0, 2270.0, 2110.0, 2800.0, 2110.0, 2090.0, 2340.0, 3250.0, 1850.0, 1840.0, 2150.0, 1850.0, 2910.0, 2500.0, 2910.0, 2290.0, 2490.0, 2640.0, 2620.0, 2730.0, 2390.0, 1760.0, 1880.0, 1760.0, 2070.0, 1980.0, 2050.0, 1990.0, 2220.0, 2050.0, 2380.0, 2190.0, 2320.0, 2210.0, 2350.0, 2620.0, 2640.0, 3230.0, 2800.0, 3160.0, 2900.0, 2930.0, 3420.0, 3730.0, 3060.0, 3470.0, 2610.0, 2640.0, 2400.0, 2580.0, 2530.0, 2740.0, 2870.0, 3040.0, 1980.0, 2030.0, 1970.0, 2130.0, 2130.0, 2160.0, 2210.0, 2250.0, 1970.0, 1970.0, 2000.0, 2950.0, 3020.0, 2590.0, 2840.0, 2670.0, 2370.0, 2950.0, 2790.0, 2130.0, 2300.0, 2630.0, 2720.0]}], \"domain\": {\"x\": [0.0, 1.0], \"y\": [0.0, 1.0]}, \"line\": {\"color\": [8.0, 8.0, 8.0, 8.0, 8.0, 8.0, 8.0, 8.0, 8.0, 8.0, 4.0, 8.0, 8.0, 8.0, 8.0, 8.0, 8.0, 8.0, 8.0, 8.0, 4.0, 6.0, 6.0, 6.0, 4.0, 4.0, 4.0, 4.0, 4.0, 4.0, 6.0, 8.0, 8.0, 8.0, 8.0, 4.0, 4.0, 4.0, 4.0, 4.0, 6.0, 6.0, 6.0, 6.0, 6.0, 8.0, 8.0, 8.0, 8.0, 8.0, 8.0, 8.0, 6.0, 4.0, 6.0, 6.0, 4.0, 4.0, 4.0, 4.0, 4.0, 4.0, 4.0, 4.0, 4.0, 4.0, 4.0, 4.0, 4.0, 8.0, 8.0, 8.0, 8.0, 8.0, 8.0, 8.0, 8.0, 8.0, 8.0, 8.0, 8.0, 8.0, 4.0, 4.0, 4.0, 4.0, 4.0, 4.0, 4.0, 4.0, 4.0, 8.0, 8.0, 8.0, 8.0, 8.0, 8.0, 8.0, 8.0, 8.0, 8.0, 8.0, 8.0, 6.0, 6.0, 6.0, 6.0, 6.0, 4.0, 8.0, 8.0, 8.0, 8.0, 6.0, 4.0, 4.0, 4.0, 4.0, 6.0, 4.0, 8.0, 8.0, 4.0, 4.0, 4.0, 4.0, 8.0, 4.0, 6.0, 8.0, 6.0, 6.0, 6.0, 6.0, 4.0, 4.0, 4.0, 4.0, 6.0, 6.0, 6.0, 8.0, 8.0, 8.0, 8.0, 8.0, 4.0, 4.0, 4.0, 4.0, 4.0, 4.0, 4.0, 4.0, 4.0, 4.0, 4.0, 6.0, 6.0, 6.0, 6.0, 8.0, 8.0, 8.0, 8.0, 6.0, 6.0, 6.0, 6.0, 6.0, 8.0, 8.0, 4.0, 4.0, 6.0, 4.0, 4.0, 4.0, 4.0, 6.0, 4.0, 6.0, 4.0, 4.0, 4.0, 4.0, 4.0, 4.0, 4.0, 4.0, 4.0, 4.0, 8.0, 8.0, 8.0, 8.0, 6.0, 6.0, 6.0, 6.0, 4.0, 4.0, 4.0, 4.0, 6.0, 6.0, 6.0, 6.0, 4.0, 4.0, 4.0, 4.0, 4.0, 8.0, 4.0, 6.0, 6.0, 8.0, 8.0, 8.0, 8.0, 4.0, 4.0, 4.0, 4.0, 4.0, 8.0, 8.0, 8.0, 8.0, 6.0, 6.0, 6.0, 6.0, 8.0, 8.0, 8.0, 8.0, 4.0, 4.0, 4.0, 4.0, 4.0, 4.0, 4.0, 4.0, 6.0, 4.0, 4.0, 4.0, 4.0, 4.0, 4.0, 8.0, 8.0, 8.0, 6.0, 6.0, 6.0, 4.0, 6.0, 6.0, 6.0, 6.0, 6.0, 6.0, 8.0, 6.0, 8.0, 8.0, 4.0, 4.0, 4.0, 4.0, 4.0, 4.0, 4.0, 4.0, 6.0, 4.0, 6.0, 4.0, 4.0, 6.0, 6.0, 4.0, 6.0, 6.0, 8.0, 8.0, 8.0, 8.0, 8.0, 8.0, 8.0, 8.0, 4.0, 4.0, 4.0, 4.0, 8.0, 4.0, 8.0, 4.0, 4.0, 4.0, 4.0, 4.0, 6.0, 6.0, 4.0, 4.0, 4.0, 4.0, 4.0, 4.0, 4.0, 4.0, 6.0, 4.0, 4.0, 4.0, 4.0, 4.0, 4.0, 4.0, 4.0, 4.0, 4.0, 4.0, 4.0, 4.0, 4.0, 4.0, 6.0, 4.0, 4.0, 4.0, 4.0, 4.0, 4.0, 6.0, 4.0, 4.0, 4.0, 4.0, 4.0, 4.0, 4.0, 4.0, 4.0, 4.0, 4.0, 4.0, 4.0, 4.0, 4.0, 4.0, 4.0, 4.0, 4.0, 6.0, 6.0, 6.0, 6.0, 8.0, 6.0, 6.0, 4.0, 4.0, 4.0, 4.0, 4.0, 4.0, 4.0, 4.0, 4.0, 4.0, 4.0, 4.0, 4.0, 4.0, 4.0, 4.0, 4.0, 4.0, 4.0, 6.0, 6.0, 4.0, 6.0, 4.0, 4.0, 4.0, 4.0, 4.0, 4.0, 4.0, 4.0], \"coloraxis\": \"coloraxis\"}, \"name\": \"\", \"type\": \"parcoords\"}],\n",
              "                        {\"coloraxis\": {\"cmid\": 2, \"colorbar\": {\"title\": {\"text\": \"Cylinders\"}}, \"colorscale\": [[0.0, \"rgb(0, 147, 146)\"], [0.16666666666666666, \"rgb(114, 170, 161)\"], [0.3333333333333333, \"rgb(177, 199, 179)\"], [0.5, \"rgb(241, 234, 200)\"], [0.6666666666666666, \"rgb(229, 185, 173)\"], [0.8333333333333334, \"rgb(217, 137, 148)\"], [1.0, \"rgb(208, 88, 126)\"]]}, \"legend\": {\"tracegroupgap\": 0}, \"margin\": {\"t\": 60}, \"template\": {\"data\": {\"bar\": [{\"error_x\": {\"color\": \"#2a3f5f\"}, \"error_y\": {\"color\": \"#2a3f5f\"}, \"marker\": {\"line\": {\"color\": \"#E5ECF6\", \"width\": 0.5}}, \"type\": \"bar\"}], \"barpolar\": [{\"marker\": {\"line\": {\"color\": \"#E5ECF6\", \"width\": 0.5}}, \"type\": \"barpolar\"}], \"carpet\": [{\"aaxis\": {\"endlinecolor\": \"#2a3f5f\", \"gridcolor\": \"white\", \"linecolor\": \"white\", \"minorgridcolor\": \"white\", \"startlinecolor\": \"#2a3f5f\"}, \"baxis\": {\"endlinecolor\": \"#2a3f5f\", \"gridcolor\": \"white\", \"linecolor\": \"white\", \"minorgridcolor\": \"white\", \"startlinecolor\": \"#2a3f5f\"}, \"type\": \"carpet\"}], \"choropleth\": [{\"colorbar\": {\"outlinewidth\": 0, \"ticks\": \"\"}, \"type\": \"choropleth\"}], \"contour\": [{\"colorbar\": {\"outlinewidth\": 0, \"ticks\": \"\"}, \"colorscale\": [[0.0, \"#0d0887\"], [0.1111111111111111, \"#46039f\"], [0.2222222222222222, \"#7201a8\"], [0.3333333333333333, \"#9c179e\"], [0.4444444444444444, \"#bd3786\"], [0.5555555555555556, \"#d8576b\"], [0.6666666666666666, \"#ed7953\"], [0.7777777777777778, \"#fb9f3a\"], [0.8888888888888888, \"#fdca26\"], [1.0, \"#f0f921\"]], \"type\": \"contour\"}], \"contourcarpet\": [{\"colorbar\": {\"outlinewidth\": 0, \"ticks\": \"\"}, \"type\": \"contourcarpet\"}], \"heatmap\": [{\"colorbar\": {\"outlinewidth\": 0, \"ticks\": \"\"}, \"colorscale\": [[0.0, \"#0d0887\"], [0.1111111111111111, \"#46039f\"], [0.2222222222222222, \"#7201a8\"], [0.3333333333333333, \"#9c179e\"], [0.4444444444444444, \"#bd3786\"], [0.5555555555555556, \"#d8576b\"], [0.6666666666666666, \"#ed7953\"], [0.7777777777777778, \"#fb9f3a\"], [0.8888888888888888, \"#fdca26\"], [1.0, \"#f0f921\"]], \"type\": \"heatmap\"}], \"heatmapgl\": [{\"colorbar\": {\"outlinewidth\": 0, \"ticks\": \"\"}, \"colorscale\": [[0.0, \"#0d0887\"], [0.1111111111111111, \"#46039f\"], [0.2222222222222222, \"#7201a8\"], [0.3333333333333333, \"#9c179e\"], [0.4444444444444444, \"#bd3786\"], [0.5555555555555556, \"#d8576b\"], [0.6666666666666666, \"#ed7953\"], [0.7777777777777778, \"#fb9f3a\"], [0.8888888888888888, \"#fdca26\"], [1.0, \"#f0f921\"]], \"type\": \"heatmapgl\"}], \"histogram\": [{\"marker\": {\"colorbar\": {\"outlinewidth\": 0, \"ticks\": \"\"}}, \"type\": \"histogram\"}], \"histogram2d\": [{\"colorbar\": {\"outlinewidth\": 0, \"ticks\": \"\"}, \"colorscale\": [[0.0, \"#0d0887\"], [0.1111111111111111, \"#46039f\"], [0.2222222222222222, \"#7201a8\"], [0.3333333333333333, \"#9c179e\"], [0.4444444444444444, \"#bd3786\"], [0.5555555555555556, \"#d8576b\"], [0.6666666666666666, \"#ed7953\"], [0.7777777777777778, \"#fb9f3a\"], [0.8888888888888888, \"#fdca26\"], [1.0, \"#f0f921\"]], \"type\": \"histogram2d\"}], \"histogram2dcontour\": [{\"colorbar\": {\"outlinewidth\": 0, \"ticks\": \"\"}, \"colorscale\": [[0.0, \"#0d0887\"], [0.1111111111111111, \"#46039f\"], [0.2222222222222222, \"#7201a8\"], [0.3333333333333333, \"#9c179e\"], [0.4444444444444444, \"#bd3786\"], [0.5555555555555556, \"#d8576b\"], [0.6666666666666666, \"#ed7953\"], [0.7777777777777778, \"#fb9f3a\"], [0.8888888888888888, \"#fdca26\"], [1.0, \"#f0f921\"]], \"type\": \"histogram2dcontour\"}], \"mesh3d\": [{\"colorbar\": {\"outlinewidth\": 0, \"ticks\": \"\"}, \"type\": \"mesh3d\"}], \"parcoords\": [{\"line\": {\"colorbar\": {\"outlinewidth\": 0, \"ticks\": \"\"}}, \"type\": \"parcoords\"}], \"pie\": [{\"automargin\": true, \"type\": \"pie\"}], \"scatter\": [{\"marker\": {\"colorbar\": {\"outlinewidth\": 0, \"ticks\": \"\"}}, \"type\": \"scatter\"}], \"scatter3d\": [{\"line\": {\"colorbar\": {\"outlinewidth\": 0, \"ticks\": \"\"}}, \"marker\": {\"colorbar\": {\"outlinewidth\": 0, \"ticks\": \"\"}}, \"type\": \"scatter3d\"}], \"scattercarpet\": [{\"marker\": {\"colorbar\": {\"outlinewidth\": 0, \"ticks\": \"\"}}, \"type\": \"scattercarpet\"}], \"scattergeo\": [{\"marker\": {\"colorbar\": {\"outlinewidth\": 0, \"ticks\": \"\"}}, \"type\": \"scattergeo\"}], \"scattergl\": [{\"marker\": {\"colorbar\": {\"outlinewidth\": 0, \"ticks\": \"\"}}, \"type\": \"scattergl\"}], \"scattermapbox\": [{\"marker\": {\"colorbar\": {\"outlinewidth\": 0, \"ticks\": \"\"}}, \"type\": \"scattermapbox\"}], \"scatterpolar\": [{\"marker\": {\"colorbar\": {\"outlinewidth\": 0, \"ticks\": \"\"}}, \"type\": \"scatterpolar\"}], \"scatterpolargl\": [{\"marker\": {\"colorbar\": {\"outlinewidth\": 0, \"ticks\": \"\"}}, \"type\": \"scatterpolargl\"}], \"scatterternary\": [{\"marker\": {\"colorbar\": {\"outlinewidth\": 0, \"ticks\": \"\"}}, \"type\": \"scatterternary\"}], \"surface\": [{\"colorbar\": {\"outlinewidth\": 0, \"ticks\": \"\"}, \"colorscale\": [[0.0, \"#0d0887\"], [0.1111111111111111, \"#46039f\"], [0.2222222222222222, \"#7201a8\"], [0.3333333333333333, \"#9c179e\"], [0.4444444444444444, \"#bd3786\"], [0.5555555555555556, \"#d8576b\"], [0.6666666666666666, \"#ed7953\"], [0.7777777777777778, \"#fb9f3a\"], [0.8888888888888888, \"#fdca26\"], [1.0, \"#f0f921\"]], \"type\": \"surface\"}], \"table\": [{\"cells\": {\"fill\": {\"color\": \"#EBF0F8\"}, \"line\": {\"color\": \"white\"}}, \"header\": {\"fill\": {\"color\": \"#C8D4E3\"}, \"line\": {\"color\": \"white\"}}, \"type\": \"table\"}]}, \"layout\": {\"annotationdefaults\": {\"arrowcolor\": \"#2a3f5f\", \"arrowhead\": 0, \"arrowwidth\": 1}, \"coloraxis\": {\"colorbar\": {\"outlinewidth\": 0, \"ticks\": \"\"}}, \"colorscale\": {\"diverging\": [[0, \"#8e0152\"], [0.1, \"#c51b7d\"], [0.2, \"#de77ae\"], [0.3, \"#f1b6da\"], [0.4, \"#fde0ef\"], [0.5, \"#f7f7f7\"], [0.6, \"#e6f5d0\"], [0.7, \"#b8e186\"], [0.8, \"#7fbc41\"], [0.9, \"#4d9221\"], [1, \"#276419\"]], \"sequential\": [[0.0, \"#0d0887\"], [0.1111111111111111, \"#46039f\"], [0.2222222222222222, \"#7201a8\"], [0.3333333333333333, \"#9c179e\"], [0.4444444444444444, \"#bd3786\"], [0.5555555555555556, \"#d8576b\"], [0.6666666666666666, \"#ed7953\"], [0.7777777777777778, \"#fb9f3a\"], [0.8888888888888888, \"#fdca26\"], [1.0, \"#f0f921\"]], \"sequentialminus\": [[0.0, \"#0d0887\"], [0.1111111111111111, \"#46039f\"], [0.2222222222222222, \"#7201a8\"], [0.3333333333333333, \"#9c179e\"], [0.4444444444444444, \"#bd3786\"], [0.5555555555555556, \"#d8576b\"], [0.6666666666666666, \"#ed7953\"], [0.7777777777777778, \"#fb9f3a\"], [0.8888888888888888, \"#fdca26\"], [1.0, \"#f0f921\"]]}, \"colorway\": [\"#636efa\", \"#EF553B\", \"#00cc96\", \"#ab63fa\", \"#FFA15A\", \"#19d3f3\", \"#FF6692\", \"#B6E880\", \"#FF97FF\", \"#FECB52\"], \"font\": {\"color\": \"#2a3f5f\"}, \"geo\": {\"bgcolor\": \"white\", \"lakecolor\": \"white\", \"landcolor\": \"#E5ECF6\", \"showlakes\": true, \"showland\": true, \"subunitcolor\": \"white\"}, \"hoverlabel\": {\"align\": \"left\"}, \"hovermode\": \"closest\", \"mapbox\": {\"style\": \"light\"}, \"paper_bgcolor\": \"white\", \"plot_bgcolor\": \"#E5ECF6\", \"polar\": {\"angularaxis\": {\"gridcolor\": \"white\", \"linecolor\": \"white\", \"ticks\": \"\"}, \"bgcolor\": \"#E5ECF6\", \"radialaxis\": {\"gridcolor\": \"white\", \"linecolor\": \"white\", \"ticks\": \"\"}}, \"scene\": {\"xaxis\": {\"backgroundcolor\": \"#E5ECF6\", \"gridcolor\": \"white\", \"gridwidth\": 2, \"linecolor\": \"white\", \"showbackground\": true, \"ticks\": \"\", \"zerolinecolor\": \"white\"}, \"yaxis\": {\"backgroundcolor\": \"#E5ECF6\", \"gridcolor\": \"white\", \"gridwidth\": 2, \"linecolor\": \"white\", \"showbackground\": true, \"ticks\": \"\", \"zerolinecolor\": \"white\"}, \"zaxis\": {\"backgroundcolor\": \"#E5ECF6\", \"gridcolor\": \"white\", \"gridwidth\": 2, \"linecolor\": \"white\", \"showbackground\": true, \"ticks\": \"\", \"zerolinecolor\": \"white\"}}, \"shapedefaults\": {\"line\": {\"color\": \"#2a3f5f\"}}, \"ternary\": {\"aaxis\": {\"gridcolor\": \"white\", \"linecolor\": \"white\", \"ticks\": \"\"}, \"baxis\": {\"gridcolor\": \"white\", \"linecolor\": \"white\", \"ticks\": \"\"}, \"bgcolor\": \"#E5ECF6\", \"caxis\": {\"gridcolor\": \"white\", \"linecolor\": \"white\", \"ticks\": \"\"}}, \"title\": {\"x\": 0.05}, \"xaxis\": {\"automargin\": true, \"gridcolor\": \"white\", \"linecolor\": \"white\", \"ticks\": \"\", \"title\": {\"standoff\": 15}, \"zerolinecolor\": \"white\", \"zerolinewidth\": 2}, \"yaxis\": {\"automargin\": true, \"gridcolor\": \"white\", \"linecolor\": \"white\", \"ticks\": \"\", \"title\": {\"standoff\": 15}, \"zerolinecolor\": \"white\", \"zerolinewidth\": 2}}}, \"title\": {\"text\": \"Parallel Coordinate Plot\", \"x\": 0.5, \"xanchor\": \"center\", \"y\": 1.0, \"yanchor\": \"top\"}},\n",
              "                        {\"responsive\": true}\n",
              "                    ).then(function(){\n",
              "                            \n",
              "var gd = document.getElementById('405ddfe7-27a0-4004-bb6c-4f3bd3737e03');\n",
              "var x = new MutationObserver(function (mutations, observer) {{\n",
              "        var display = window.getComputedStyle(gd).display;\n",
              "        if (!display || display === 'none') {{\n",
              "            console.log([gd, 'removed!']);\n",
              "            Plotly.purge(gd);\n",
              "            observer.disconnect();\n",
              "        }}\n",
              "}});\n",
              "\n",
              "// Listen for the removal of the full notebook cells\n",
              "var notebookContainer = gd.closest('#notebook-container');\n",
              "if (notebookContainer) {{\n",
              "    x.observe(notebookContainer, {childList: true});\n",
              "}}\n",
              "\n",
              "// Listen for the clearing of the current output cell\n",
              "var outputEl = gd.closest('.output');\n",
              "if (outputEl) {{\n",
              "    x.observe(outputEl, {childList: true});\n",
              "}}\n",
              "\n",
              "                        })\n",
              "                };\n",
              "                \n",
              "            </script>\n",
              "        </div>\n",
              "</body>\n",
              "</html>"
            ]
          },
          "metadata": {
            "tags": []
          }
        }
      ]
    },
    {
      "cell_type": "markdown",
      "metadata": {
        "id": "NcH96u2W_XFq"
      },
      "source": [
        "Horsepower and Weight seem to exhibit same behaviour from the parallel coordinate plot above. We will further check the correlation among the features."
      ]
    },
    {
      "cell_type": "markdown",
      "metadata": {
        "id": "ww6I-oUnPc2F"
      },
      "source": [
        "##Correlation Matrix/Heatmap"
      ]
    },
    {
      "cell_type": "code",
      "metadata": {
        "colab": {
          "base_uri": "https://localhost:8080/",
          "height": 856
        },
        "id": "j_FmgjwltyKo",
        "outputId": "b73ed226-8ec1-41d7-e6f7-42c6c9b15900"
      },
      "source": [
        "#Compute the correlation matrix\n",
        "corr = carbigdfwtoutop.corr()\n",
        "# Generate a mask for the upper triangle\n",
        "mask = np.triu(np.ones_like(corr, dtype=bool))\n",
        "\n",
        "# Set up the matplotlib figure\n",
        "f, ax = plt.subplots(figsize=(15, 15))\n",
        "\n",
        "# Generate a custom diverging colormap\n",
        "cmap = sns.diverging_palette(230, 20, as_cmap=True)\n",
        "\n",
        "# Draw the heatmap with the mask and correct aspect ratio\n",
        "heat = sns.heatmap(corr, mask=mask, cmap=cmap, vmax=.3, center=0,\n",
        "            square=True, linewidths=.5, cbar_kws={\"shrink\": .99}, annot=True, annot_kws={\"size\":10})\n",
        "\n",
        "\n",
        "# Create a Rectangle patch\n",
        "rect = patches.Rectangle((0.1,23),22.9,0.9,linewidth=3,edgecolor='r',facecolor='none')\n",
        "# Add the patch to the Axes\n",
        "ax.add_patch(rect)"
      ],
      "execution_count": 12,
      "outputs": [
        {
          "output_type": "execute_result",
          "data": {
            "text/plain": [
              "<matplotlib.patches.Rectangle at 0x7fa39aafe7b8>"
            ]
          },
          "metadata": {
            "tags": []
          },
          "execution_count": 12
        },
        {
          "output_type": "display_data",
          "data": {
            "image/png": "[encoded data removed]",
            "text/plain": [
              "<Figure size 1080x1080 with 2 Axes>"
            ]
          },
          "metadata": {
            "tags": [],
            "needs_background": "light"
          }
        }
      ]
    },
    {
      "cell_type": "markdown",
      "metadata": {
        "id": "h6Os1QMB-cZl"
      },
      "source": [
        "Since Horsepower and Weight  are highly correlated with each other, they may exhibit same behaviour and hence those features can be dropped. \n",
        "\n",
        "Therefore, considering the features Displacement, Acceleration and MPG for further analysis."
      ]
    },
    {
      "cell_type": "markdown",
      "metadata": {
        "id": "n15NT5nKPjI7"
      },
      "source": [
        "##Pairplot"
      ]
    },
    {
      "cell_type": "code",
      "metadata": {
        "id": "xA4iCv0r5TT9",
        "colab": {
          "base_uri": "https://localhost:8080/",
          "height": 568
        },
        "outputId": "771f1aee-f484-485a-be6f-17e74cfae331"
      },
      "source": [
        "#Plotting pairplot\n",
        "g = sns.pairplot(carbigdf[['Displacement','Acceleration', 'MPG', 'Cylinders']],\n",
        "                 hue=\"Cylinders\", kind='scatter', diag_kind='hist') \n",
        "g.map_offdiag(sns.scatterplot)\n",
        "g.add_legend()"
      ],
      "execution_count": 13,
      "outputs": [
        {
          "output_type": "execute_result",
          "data": {
            "text/plain": [
              "<seaborn.axisgrid.PairGrid at 0x7fa39cfe6fd0>"
            ]
          },
          "metadata": {
            "tags": []
          },
          "execution_count": 13
        },
        {
          "output_type": "display_data",
          "data": {
            "image/png": "[encoded data removed]",
            "text/plain": [
              "<Figure size 649.5x540 with 12 Axes>"
            ]
          },
          "metadata": {
            "tags": [],
            "needs_background": "light"
          }
        }
      ]
    },
    {
      "cell_type": "markdown",
      "metadata": {
        "id": "aX0oeFZgoWJd"
      },
      "source": [
        "The pairplot seems to be doing just fine work. Other features again have been excluded in the analysis done above due to high correlation among each other."
      ]
    },
    {
      "cell_type": "markdown",
      "metadata": {
        "id": "ESPv3Gd3DRkt"
      },
      "source": [
        "Now, checking the 3D plots of the selected features for verification of the features selected."
      ]
    },
    {
      "cell_type": "markdown",
      "metadata": {
        "id": "tENs1FLdPl9v"
      },
      "source": [
        "##3D Plot"
      ]
    },
    {
      "cell_type": "code",
      "metadata": {
        "colab": {
          "base_uri": "https://localhost:8080/",
          "height": 575
        },
        "id": "COP0ahWeDDgj",
        "outputId": "3dc5593a-1a16-4703-cf44-6d121fe77d49"
      },
      "source": [
        "#Defining the axes for the 3D plot\n",
        "x = carbigdf['Displacement']\n",
        "y = carbigdf['Acceleration']\n",
        "z = carbigdf['MPG']\n",
        "\n",
        "#Plotting 3D plot\n",
        "fig = plt.figure(figsize=(15,10))\n",
        "ax = plt.axes(projection=\"3d\")\n",
        "ax.scatter3D(x, y, z, c=z, cmap='hsv');\n",
        "ax.set_xlabel(\"Displacement\", fontsize=12)\n",
        "ax.set_ylabel(\"Acceleration\", fontsize=12)\n",
        "ax.set_zlabel(\"MPG\", fontsize=12)\n",
        "ax.set_title(\"3D Plot of the features selected\", fontsize=20)\n",
        "\n",
        "plt.show()"
      ],
      "execution_count": 14,
      "outputs": [
        {
          "output_type": "display_data",
          "data": {
            "image/png": "[encoded data removed]",
            "text/plain": [
              "<Figure size 1080x720 with 1 Axes>"
            ]
          },
          "metadata": {
            "tags": [],
            "needs_background": "light"
          }
        }
      ]
    },
    {
      "cell_type": "markdown",
      "metadata": {
        "id": "vOtNpEmpDW0i"
      },
      "source": [
        "We can see that the data points can be differentiated distinctly and hence the selected features of Displacement, Acceleration and MPG are confirmed to be fit for further analysis."
      ]
    },
    {
      "cell_type": "markdown",
      "metadata": {
        "id": "PHMya900nvZH"
      },
      "source": [
        "#Model Implementation"
      ]
    },
    {
      "cell_type": "markdown",
      "metadata": {
        "id": "NlDgWtNZz1i9"
      },
      "source": [
        "For ensuring all of the classes are in the same proportion as they are in the dataset, **stratify=y** condition has been used. The train test split for the dataset was kept at 80:20 ratio."
      ]
    },
    {
      "cell_type": "markdown",
      "metadata": {
        "id": "9nVWOrqmHRkD"
      },
      "source": [
        "##Classification"
      ]
    },
    {
      "cell_type": "markdown",
      "metadata": {
        "id": "-T2VAVunaEM7"
      },
      "source": [
        "Splitting the data into dependent and independent variables"
      ]
    },
    {
      "cell_type": "code",
      "metadata": {
        "id": "VioJiMBi3NOC"
      },
      "source": [
        "#Splitting the dataframe\n",
        "X = carbigdf.drop(['Cylinders','Horsepower','Weight'], axis = 1)\n",
        "y = carbigdf['Cylinders']"
      ],
      "execution_count": 15,
      "outputs": []
    },
    {
      "cell_type": "markdown",
      "metadata": {
        "id": "9dRNY0q7aN38"
      },
      "source": [
        "Since the values in the columns are not at all in the same range, hence scaling the data to enable us to compare it."
      ]
    },
    {
      "cell_type": "code",
      "metadata": {
        "id": "OBT6Hnaa3ZYj"
      },
      "source": [
        "# Create the instance of the scaler\n",
        "scaler = StandardScaler()\n",
        "# Transform the inputs X\n",
        "X_scaled = scaler.fit_transform(X)"
      ],
      "execution_count": 16,
      "outputs": []
    },
    {
      "cell_type": "markdown",
      "metadata": {
        "id": "tLxUtvxTabiW"
      },
      "source": [
        "Splitting the data into training and testing sets for the model implementations in rest of the analysis"
      ]
    },
    {
      "cell_type": "code",
      "metadata": {
        "id": "dHF7VuhZ3k1N"
      },
      "source": [
        "# Split in train and test sets\n",
        "X0_train, X0_test, y0_train, y0_test = train_test_split(X_scaled, y, train_size = 0.8, test_size=0.2 , random_state=0, stratify=y)"
      ],
      "execution_count": 17,
      "outputs": []
    },
    {
      "cell_type": "markdown",
      "metadata": {
        "id": "BWLZW59GPpQX"
      },
      "source": [
        "##Logistic Regression"
      ]
    },
    {
      "cell_type": "markdown",
      "metadata": {
        "id": "n9lfkOeBcId3"
      },
      "source": [
        "First, defining the model"
      ]
    },
    {
      "cell_type": "code",
      "metadata": {
        "id": "u5rU-uNR3-GM"
      },
      "source": [
        "# define model\n",
        "model = LogisticRegression(multi_class = 'ovr', random_state=0)"
      ],
      "execution_count": 18,
      "outputs": []
    },
    {
      "cell_type": "markdown",
      "metadata": {
        "id": "Jptl3JzocOwD"
      },
      "source": [
        "Next, fitting the model on the training data"
      ]
    },
    {
      "cell_type": "code",
      "metadata": {
        "id": "OIbLvbKBcN67"
      },
      "source": [
        "# fit model\n",
        "lr_model = model.fit(X0_train, y0_train)"
      ],
      "execution_count": 19,
      "outputs": []
    },
    {
      "cell_type": "markdown",
      "metadata": {
        "id": "7vj-v4Aicd0l"
      },
      "source": [
        "Finally, using the fitted model for predicting class."
      ]
    },
    {
      "cell_type": "code",
      "metadata": {
        "id": "GlueyoHdcXgc"
      },
      "source": [
        "# make predictions\n",
        "yhat = lr_model.predict(X0_test)"
      ],
      "execution_count": 20,
      "outputs": []
    },
    {
      "cell_type": "code",
      "metadata": {
        "colab": {
          "base_uri": "https://localhost:8080/"
        },
        "id": "kK9CAp2C4DaO",
        "outputId": "1815fb77-9b92-4e2e-b194-442bd68ce491"
      },
      "source": [
        "#Dislpaying the predicted output\n",
        "yhat"
      ],
      "execution_count": 21,
      "outputs": [
        {
          "output_type": "execute_result",
          "data": {
            "text/plain": [
              "array([8., 8., 8., 4., 4., 6., 8., 4., 8., 4., 4., 8., 4., 4., 6., 4., 4.,\n",
              "       6., 4., 6., 8., 4., 4., 4., 4., 4., 8., 4., 6., 8., 4., 4., 4., 4.,\n",
              "       4., 6., 8., 6., 4., 4., 8., 6., 4., 4., 4., 4., 4., 4., 4., 8., 6.,\n",
              "       8., 8., 6., 8., 6., 8., 8., 8., 4., 8., 4., 4., 8., 4., 6., 4., 8.,\n",
              "       8., 4., 4., 4., 4., 4., 8., 4., 4., 4., 4., 8.])"
            ]
          },
          "metadata": {
            "tags": []
          },
          "execution_count": 21
        }
      ]
    },
    {
      "cell_type": "markdown",
      "metadata": {
        "id": "Pd6_17FQcr-x"
      },
      "source": [
        "To better exhibit the results of the logistic regression, confusion matrix is calculated and shown below. "
      ]
    },
    {
      "cell_type": "code",
      "metadata": {
        "colab": {
          "base_uri": "https://localhost:8080/"
        },
        "id": "HJrgDx9R4O01",
        "outputId": "5426619c-1373-4534-cdfe-5ea525ccde07"
      },
      "source": [
        "#Calculating the confusion matrix\n",
        "cm = confusion_matrix(y0_test, yhat)\n",
        "print(cm)"
      ],
      "execution_count": 22,
      "outputs": [
        {
          "output_type": "stream",
          "text": [
            "[[41  0  0]\n",
            " [ 3 12  2]\n",
            " [ 0  0 22]]\n"
          ],
          "name": "stdout"
        }
      ]
    },
    {
      "cell_type": "code",
      "metadata": {
        "colab": {
          "base_uri": "https://localhost:8080/",
          "height": 446
        },
        "id": "hB1uiVJjdlqZ",
        "outputId": "bac78300-8f7e-43e9-d24d-85464c33a15f"
      },
      "source": [
        "#Plotting the confusion matrix of the model\n",
        "cm=confusion_matrix(y0_test,yhat)\n",
        "plt.figure(figsize = (10,7))\n",
        "sns.heatmap(cm, annot=True, xticklabels=[4,6,8], yticklabels=[4,6,8])"
      ],
      "execution_count": 23,
      "outputs": [
        {
          "output_type": "execute_result",
          "data": {
            "text/plain": [
              "<matplotlib.axes._subplots.AxesSubplot at 0x7fa39adf5b38>"
            ]
          },
          "metadata": {
            "tags": []
          },
          "execution_count": 23
        },
        {
          "output_type": "display_data",
          "data": {
            "image/png": "[encoded data removed]",
            "text/plain": [
              "<Figure size 720x504 with 2 Axes>"
            ]
          },
          "metadata": {
            "tags": [],
            "needs_background": "light"
          }
        }
      ]
    },
    {
      "cell_type": "markdown",
      "metadata": {
        "id": "ipNmEs79e8i1"
      },
      "source": [
        "The diagonal values shows the accurately classified values for each class. Out of total 80 values in the test dataset, 75 were predicted accurately in their respective classes. 5 values were misclassified , with 3 of them being misclassified as '4' instead of '6' and 2 of them being misclassified as '8' instead of '6'."
      ]
    },
    {
      "cell_type": "code",
      "metadata": {
        "colab": {
          "base_uri": "https://localhost:8080/"
        },
        "id": "f_4Pz4Q14bJl",
        "outputId": "6ffa2757-5ee9-4dfa-83ae-6d76055d87aa"
      },
      "source": [
        "#Generating the classification report\n",
        "print(classification_report(y0_test, yhat, target_names = ['4', '6','8']))"
      ],
      "execution_count": 24,
      "outputs": [
        {
          "output_type": "stream",
          "text": [
            "              precision    recall  f1-score   support\n",
            "\n",
            "           4       0.93      1.00      0.96        41\n",
            "           6       1.00      0.71      0.83        17\n",
            "           8       0.92      1.00      0.96        22\n",
            "\n",
            "    accuracy                           0.94        80\n",
            "   macro avg       0.95      0.90      0.92        80\n",
            "weighted avg       0.94      0.94      0.93        80\n",
            "\n"
          ],
          "name": "stdout"
        }
      ]
    },
    {
      "cell_type": "markdown",
      "metadata": {
        "id": "EljvaHYdghWn"
      },
      "source": [
        "**Classification report** further expands on the confusion matrix and gives the parameters and further quantifies on how good the classification of the given model is. \n",
        "\n",
        "**Precision** in the classification report tells us the fraction of predictions of a positive class that were actually positive, i.e it gives us the accuracy of the positive predictions. It is fairly good for all the classes.\n",
        "\n",
        "**Recall** gives the fraction of all positive samples that were correctly predicted as positive by the classifier, i.e fraction of positives correctly identified. It is god for classes 4 and 8. \n",
        "\n",
        "**F1- score** combines the precision and recall into a single measurement, it is the harmonic mean between precision and recall. It is the best for class 4 and class 8.\n",
        "\n",
        "**Support** is the actual number of occurences of the class in the given dataset."
      ]
    },
    {
      "cell_type": "markdown",
      "metadata": {
        "id": "DZt-lcMblt5N"
      },
      "source": [
        "After the classification report, we find the accuracy of the applied model."
      ]
    },
    {
      "cell_type": "code",
      "metadata": {
        "colab": {
          "base_uri": "https://localhost:8080/"
        },
        "id": "rFxnwnQc4k4c",
        "outputId": "f3153098-4d9d-4ef3-f369-78187ca53622"
      },
      "source": [
        "#Finding the accuracy\n",
        "acc = accuracy_score(y0_test, yhat)\n",
        "print(\"The accuracy score of the multiclass logistic regression is\", acc*100, \"%\")"
      ],
      "execution_count": 25,
      "outputs": [
        {
          "output_type": "stream",
          "text": [
            "The accuracy score of the multiclass logistic regression is 93.75 %\n"
          ],
          "name": "stdout"
        }
      ]
    },
    {
      "cell_type": "markdown",
      "metadata": {
        "id": "T26Pj4n_o6kl"
      },
      "source": [
        "**Misclassification Rate**\n",
        "\n",
        "Source - https://www.ritchieng.com/machine-learning-evaluate-classification-model/\n",
        "\n",
        "\n",
        "Misclassification rate can be found by subtracting the accuracy score from the highest value that it can attain, i.e 1\n",
        "\n",
        "Misclassification rate = 1- accuracy_score value"
      ]
    },
    {
      "cell_type": "code",
      "metadata": {
        "colab": {
          "base_uri": "https://localhost:8080/"
        },
        "id": "38Cpm5jrqmZO",
        "outputId": "08c18f60-354d-40e6-9e22-bd76d3bc9e0e"
      },
      "source": [
        "#Finding the misclassification rate\n",
        "misclass_logreg = 1-acc\n",
        "print(\"The misclassification rate for the multiclass logistic regression is\", misclass_logreg, \"(\", misclass_logreg*100, \")\", \"%\")"
      ],
      "execution_count": 26,
      "outputs": [
        {
          "output_type": "stream",
          "text": [
            "The misclassification rate for the multiclass logistic regression is 0.0625 ( 6.25 ) %\n"
          ],
          "name": "stdout"
        }
      ]
    },
    {
      "cell_type": "markdown",
      "metadata": {
        "id": "fIxlP_ULb28J"
      },
      "source": [
        "**Final thoughts on Logistic Regression Implementation**\n",
        "\n",
        "The parameter multi_class was set to 'ovr' as the given dataset has a multiclass classification and 'ovr'does justice to the problem at hand (reference- scikitlearn logistic regression documentation). The model gave an accuracy of 93.75% with a misclassification rate of 6.25%."
      ]
    },
    {
      "cell_type": "markdown",
      "metadata": {
        "id": "uKO3rjxAmlfE"
      },
      "source": [
        "##Ordinal Logistic Regression (Extra) - Optional"
      ]
    },
    {
      "cell_type": "markdown",
      "metadata": {
        "id": "c_O6HqKVnF02"
      },
      "source": [
        "In this, the multi-class labels of 4,6,8 cylinders have been divided into binary classes named 0 and 1. We will be implementing the binary logistic regression model 2 times, each time changing the y_train split of the dataframe, starting with assigning class 0 to label 4 and class 1 to the labels 6 and 8, and then consecutively assigning class 0 to labels 4,6 and class 1 to  label 8. Each time, we will be calculating the probability of class 0 and storing it in a variable. At the end, all variables containing probabilities will be stored in a list which will be compared with the y_test split of the dataset for yielding the accuracy of the model implemented. "
      ]
    },
    {
      "cell_type": "code",
      "metadata": {
        "colab": {
          "base_uri": "https://localhost:8080/"
        },
        "id": "cz68lcq79aMB",
        "outputId": "f00ab29d-1aeb-4397-c8d9-0b33838dbf6b"
      },
      "source": [
        "#Checking the shape of training and testing data\n",
        "print(X0_train.shape)\n",
        "print(X0_test.shape)\n",
        "print(y0_train.shape)\n",
        "print(y0_test.shape)"
      ],
      "execution_count": 27,
      "outputs": [
        {
          "output_type": "stream",
          "text": [
            "(319, 3)\n",
            "(80, 3)\n",
            "(319,)\n",
            "(80,)\n"
          ],
          "name": "stdout"
        }
      ]
    },
    {
      "cell_type": "markdown",
      "metadata": {
        "id": "IgFJBpxjsG4v"
      },
      "source": [
        "First, defining the model"
      ]
    },
    {
      "cell_type": "code",
      "metadata": {
        "id": "Pq5fZlzV92iU"
      },
      "source": [
        "#Defining the Logistic Regression model\n",
        "model0 = LogisticRegression()"
      ],
      "execution_count": 28,
      "outputs": []
    },
    {
      "cell_type": "markdown",
      "metadata": {
        "id": "AKF4dZk7vRZE"
      },
      "source": [
        "Taking the approach metioned above"
      ]
    },
    {
      "cell_type": "code",
      "metadata": {
        "colab": {
          "base_uri": "https://localhost:8080/"
        },
        "id": "XqrKeSgE97fQ",
        "outputId": "4f2713e1-d6f1-4462-a705-4691841823eb"
      },
      "source": [
        "#Classification 1 - label 4 - 0 ; Rest all - 1 \n",
        "y_train_0 = y0_train.map({4:4, 6:6, 8:6})\n",
        "model_0 = model0.fit(X0_train, y_train_0)\n",
        "prob_0 = model_0.predict_proba(X0_test)\n",
        "class_0_prob_1 = prob_0[:,0]\n",
        "class_0_prob_1"
      ],
      "execution_count": 29,
      "outputs": [
        {
          "output_type": "execute_result",
          "data": {
            "text/plain": [
              "array([5.70342018e-04, 2.67261047e-06, 3.05824925e-04, 9.96832512e-01,\n",
              "       6.64128055e-01, 1.58398317e-02, 2.50385107e-05, 9.95930803e-01,\n",
              "       4.01686449e-04, 9.81613453e-01, 8.01188140e-01, 3.89578232e-04,\n",
              "       9.33329701e-01, 9.98904836e-01, 9.91222169e-03, 9.93145619e-01,\n",
              "       8.87814543e-01, 6.35515280e-02, 9.93190414e-01, 1.72135019e-01,\n",
              "       3.24852793e-05, 9.87562676e-01, 9.97728145e-01, 8.48296213e-01,\n",
              "       9.91589922e-01, 9.94710537e-01, 4.09144746e-06, 9.99655154e-01,\n",
              "       1.26315105e-02, 4.67386974e-04, 9.82254512e-01, 8.90839291e-01,\n",
              "       8.98102747e-01, 9.93894954e-01, 9.92794672e-01, 7.26680708e-02,\n",
              "       9.95676552e-05, 6.30017186e-02, 9.28064181e-01, 9.40313321e-01,\n",
              "       2.34684335e-04, 1.65769520e-01, 4.60334491e-01, 9.52392505e-01,\n",
              "       7.96297641e-01, 9.97955461e-01, 9.45105356e-01, 9.84821280e-01,\n",
              "       9.85896388e-01, 5.93461507e-04, 4.46180138e-02, 4.46385945e-04,\n",
              "       1.64599778e-07, 7.26732638e-02, 8.38899782e-04, 1.19513238e-02,\n",
              "       9.18982602e-03, 1.18905848e-02, 2.67261047e-06, 9.99725083e-01,\n",
              "       3.24169707e-04, 9.42015042e-01, 9.28125787e-01, 4.53753296e-04,\n",
              "       9.89591870e-01, 6.77794720e-02, 2.54891612e-01, 5.53057505e-04,\n",
              "       1.14764703e-04, 9.86871651e-01, 9.92864953e-01, 9.95562203e-01,\n",
              "       8.82821036e-01, 9.95360966e-01, 4.02653442e-05, 9.89049304e-01,\n",
              "       8.89854636e-01, 9.99794461e-01, 9.74638202e-01, 9.64464390e-03])"
            ]
          },
          "metadata": {
            "tags": []
          },
          "execution_count": 29
        }
      ]
    },
    {
      "cell_type": "code",
      "metadata": {
        "colab": {
          "base_uri": "https://localhost:8080/"
        },
        "id": "rZ-JXYhI-v2D",
        "outputId": "f479cefb-81dc-48e4-81ff-558004772a0b"
      },
      "source": [
        "#Classification 2 - label 4,6 - 0 ; label 8- 1 \n",
        "y_train_1 = y0_train.map({4:4, 6:4, 8:6})\n",
        "model_1 = model0.fit(X0_train, y_train_1)\n",
        "prob_1 = model_1.predict_proba(X0_test)\n",
        "class_0_prob_2  = prob_1[: ,0] - prob_0[:,0]\n",
        "class_0_prob_2"
      ],
      "execution_count": 30,
      "outputs": [
        {
          "output_type": "execute_result",
          "data": {
            "text/plain": [
              "array([1.69585488e-01, 2.05625998e-03, 1.11471033e-01, 3.06310987e-03,\n",
              "       3.30326342e-01, 8.09699304e-01, 1.41245757e-02, 3.97140357e-03,\n",
              "       1.12012663e-01, 1.80174815e-02, 1.96284733e-01, 1.15402031e-01,\n",
              "       6.55018886e-02, 1.06486745e-03, 7.33845270e-01, 6.67824991e-03,\n",
              "       1.10204878e-01, 8.62886752e-01, 6.64188004e-03, 7.97989063e-01,\n",
              "       1.78042705e-02, 1.22027624e-02, 2.22077179e-03, 1.50156470e-01,\n",
              "       8.21870937e-03, 5.17395148e-03, 2.83536305e-03, 3.33728989e-04,\n",
              "       7.44679337e-01, 1.57287519e-01, 1.72968909e-02, 1.07647014e-01,\n",
              "       9.98721045e-02, 6.00970144e-03, 7.09954773e-03, 8.72557321e-01,\n",
              "       3.12441339e-02, 8.70279225e-01, 7.06432928e-02, 5.88436151e-02,\n",
              "       8.16359102e-02, 8.01475736e-01, 5.25840780e-01, 4.71717118e-02,\n",
              "       2.00945735e-01, 2.00901117e-03, 5.41154283e-02, 1.49250705e-02,\n",
              "       1.37767348e-02, 1.87102705e-01, 8.56293517e-01, 1.59728836e-01,\n",
              "       1.67146016e-04, 8.67060488e-01, 1.91874280e-01, 7.62286756e-01,\n",
              "       6.71698158e-01, 7.17824317e-01, 2.05625998e-03, 2.65639929e-04,\n",
              "       1.07559312e-01, 5.73408034e-02, 7.08977375e-02, 1.27738020e-01,\n",
              "       1.01400257e-02, 8.75406697e-01, 7.23097496e-01, 1.96708180e-01,\n",
              "       5.35832061e-02, 1.27871444e-02, 6.95778492e-03, 4.36014167e-03,\n",
              "       1.15537703e-01, 4.51529807e-03, 2.15939606e-02, 1.07171742e-02,\n",
              "       1.08357342e-01, 1.99377010e-04, 2.48016265e-02, 6.87411729e-01])"
            ]
          },
          "metadata": {
            "tags": []
          },
          "execution_count": 30
        }
      ]
    },
    {
      "cell_type": "code",
      "metadata": {
        "colab": {
          "base_uri": "https://localhost:8080/"
        },
        "id": "3EgQfGtU_oK1",
        "outputId": "9d62bc59-c8cc-444c-82cb-c9c4ae97646d"
      },
      "source": [
        "#Classification 3\n",
        "class_0_prob_3  = 1 -prob_1[: ,0]\n",
        "class_0_prob_3 "
      ],
      "execution_count": 31,
      "outputs": [
        {
          "output_type": "execute_result",
          "data": {
            "text/plain": [
              "array([8.29844170e-01, 9.97941067e-01, 8.88223142e-01, 1.04378235e-04,\n",
              "       5.54560306e-03, 1.74460865e-01, 9.85850386e-01, 9.77929546e-05,\n",
              "       8.87585650e-01, 3.69065478e-04, 2.52712671e-03, 8.84208391e-01,\n",
              "       1.16841040e-03, 3.02969132e-05, 2.56242509e-01, 1.76130599e-04,\n",
              "       1.98057922e-03, 7.35617200e-02, 1.67706094e-04, 2.98759173e-02,\n",
              "       9.82163244e-01, 2.34561883e-04, 5.10832620e-05, 1.54731703e-03,\n",
              "       1.91368643e-04, 1.15511184e-04, 9.97160546e-01, 1.11174829e-05,\n",
              "       2.42689152e-01, 8.42245094e-01, 4.48597611e-04, 1.51369493e-03,\n",
              "       2.02514898e-03, 9.53448238e-05, 1.05780653e-04, 5.47746080e-02,\n",
              "       9.68656298e-01, 6.67190566e-02, 1.29252667e-03, 8.43064304e-04,\n",
              "       9.18129405e-01, 3.27547433e-02, 1.38247283e-02, 4.35783685e-04,\n",
              "       2.75662351e-03, 3.55280220e-05, 7.79215753e-04, 2.53649237e-04,\n",
              "       3.26877347e-04, 8.12303833e-01, 9.90884692e-02, 8.39824778e-01,\n",
              "       9.99832689e-01, 6.02662481e-02, 8.07286820e-01, 2.25761921e-01,\n",
              "       3.19112016e-01, 2.70285098e-01, 9.97941067e-01, 9.27669537e-06,\n",
              "       8.92116519e-01, 6.44154684e-04, 9.76475967e-04, 8.71808226e-01,\n",
              "       2.68103850e-04, 5.68138313e-02, 2.20108921e-02, 8.02738763e-01,\n",
              "       9.46302029e-01, 3.41204170e-04, 1.77261753e-04, 7.76553793e-05,\n",
              "       1.64126124e-03, 1.23736130e-04, 9.78365774e-01, 2.33521904e-04,\n",
              "       1.78802142e-03, 6.16203647e-06, 5.60171302e-04, 3.02943627e-01])"
            ]
          },
          "metadata": {
            "tags": []
          },
          "execution_count": 31
        }
      ]
    },
    {
      "cell_type": "code",
      "metadata": {
        "id": "CsgSYC69BXhC"
      },
      "source": [
        "#Class 0 probabilities consolidated into one list\n",
        "class_0_prob_all = []\n",
        "class_0_prob_all = [class_0_prob_1, class_0_prob_2, class_0_prob_3]"
      ],
      "execution_count": 32,
      "outputs": []
    },
    {
      "cell_type": "code",
      "metadata": {
        "id": "3jVvL3V1Bj2o"
      },
      "source": [
        "#Converting the list into a dataframe\n",
        "class_0_prob_all = pd.DataFrame(class_0_prob_all)"
      ],
      "execution_count": 33,
      "outputs": []
    },
    {
      "cell_type": "code",
      "metadata": {
        "colab": {
          "base_uri": "https://localhost:8080/",
          "height": 210
        },
        "id": "USWXZURyCZvD",
        "outputId": "4ee50040-71c9-427b-8417-41c3562657a4"
      },
      "source": [
        "#Displaying the probabilities dataframe\n",
        "class_0_prob_all"
      ],
      "execution_count": 34,
      "outputs": [
        {
          "output_type": "execute_result",
          "data": {
            "text/html": [
              "<div>\n",
              "<style scoped>\n",
              "    .dataframe tbody tr th:only-of-type {\n",
              "        vertical-align: middle;\n",
              "    }\n",
              "\n",
              "    .dataframe tbody tr th {\n",
              "        vertical-align: top;\n",
              "    }\n",
              "\n",
              "    .dataframe thead th {\n",
              "        text-align: right;\n",
              "    }\n",
              "</style>\n",
              "<table border=\"1\" class=\"dataframe\">\n",
              "  <thead>\n",
              "    <tr style=\"text-align: right;\">\n",
              "      <th></th>\n",
              "      <th>0</th>\n",
              "      <th>1</th>\n",
              "      <th>2</th>\n",
              "      <th>3</th>\n",
              "      <th>4</th>\n",
              "      <th>5</th>\n",
              "      <th>6</th>\n",
              "      <th>7</th>\n",
              "      <th>8</th>\n",
              "      <th>9</th>\n",
              "      <th>10</th>\n",
              "      <th>11</th>\n",
              "      <th>12</th>\n",
              "      <th>13</th>\n",
              "      <th>14</th>\n",
              "      <th>15</th>\n",
              "      <th>16</th>\n",
              "      <th>17</th>\n",
              "      <th>18</th>\n",
              "      <th>19</th>\n",
              "      <th>20</th>\n",
              "      <th>21</th>\n",
              "      <th>22</th>\n",
              "      <th>23</th>\n",
              "      <th>24</th>\n",
              "      <th>25</th>\n",
              "      <th>26</th>\n",
              "      <th>27</th>\n",
              "      <th>28</th>\n",
              "      <th>29</th>\n",
              "      <th>30</th>\n",
              "      <th>31</th>\n",
              "      <th>32</th>\n",
              "      <th>33</th>\n",
              "      <th>34</th>\n",
              "      <th>35</th>\n",
              "      <th>36</th>\n",
              "      <th>37</th>\n",
              "      <th>38</th>\n",
              "      <th>39</th>\n",
              "      <th>40</th>\n",
              "      <th>41</th>\n",
              "      <th>42</th>\n",
              "      <th>43</th>\n",
              "      <th>44</th>\n",
              "      <th>45</th>\n",
              "      <th>46</th>\n",
              "      <th>47</th>\n",
              "      <th>48</th>\n",
              "      <th>49</th>\n",
              "      <th>50</th>\n",
              "      <th>51</th>\n",
              "      <th>52</th>\n",
              "      <th>53</th>\n",
              "      <th>54</th>\n",
              "      <th>55</th>\n",
              "      <th>56</th>\n",
              "      <th>57</th>\n",
              "      <th>58</th>\n",
              "      <th>59</th>\n",
              "      <th>60</th>\n",
              "      <th>61</th>\n",
              "      <th>62</th>\n",
              "      <th>63</th>\n",
              "      <th>64</th>\n",
              "      <th>65</th>\n",
              "      <th>66</th>\n",
              "      <th>67</th>\n",
              "      <th>68</th>\n",
              "      <th>69</th>\n",
              "      <th>70</th>\n",
              "      <th>71</th>\n",
              "      <th>72</th>\n",
              "      <th>73</th>\n",
              "      <th>74</th>\n",
              "      <th>75</th>\n",
              "      <th>76</th>\n",
              "      <th>77</th>\n",
              "      <th>78</th>\n",
              "      <th>79</th>\n",
              "    </tr>\n",
              "  </thead>\n",
              "  <tbody>\n",
              "    <tr>\n",
              "      <th>0</th>\n",
              "      <td>0.000570</td>\n",
              "      <td>0.000003</td>\n",
              "      <td>0.000306</td>\n",
              "      <td>0.996833</td>\n",
              "      <td>0.664128</td>\n",
              "      <td>0.015840</td>\n",
              "      <td>0.000025</td>\n",
              "      <td>0.995931</td>\n",
              "      <td>0.000402</td>\n",
              "      <td>0.981613</td>\n",
              "      <td>0.801188</td>\n",
              "      <td>0.000390</td>\n",
              "      <td>0.933330</td>\n",
              "      <td>0.998905</td>\n",
              "      <td>0.009912</td>\n",
              "      <td>0.993146</td>\n",
              "      <td>0.887815</td>\n",
              "      <td>0.063552</td>\n",
              "      <td>0.993190</td>\n",
              "      <td>0.172135</td>\n",
              "      <td>0.000032</td>\n",
              "      <td>0.987563</td>\n",
              "      <td>0.997728</td>\n",
              "      <td>0.848296</td>\n",
              "      <td>0.991590</td>\n",
              "      <td>0.994711</td>\n",
              "      <td>0.000004</td>\n",
              "      <td>0.999655</td>\n",
              "      <td>0.012632</td>\n",
              "      <td>0.000467</td>\n",
              "      <td>0.982255</td>\n",
              "      <td>0.890839</td>\n",
              "      <td>0.898103</td>\n",
              "      <td>0.993895</td>\n",
              "      <td>0.992795</td>\n",
              "      <td>0.072668</td>\n",
              "      <td>0.000100</td>\n",
              "      <td>0.063002</td>\n",
              "      <td>0.928064</td>\n",
              "      <td>0.940313</td>\n",
              "      <td>0.000235</td>\n",
              "      <td>0.165770</td>\n",
              "      <td>0.460334</td>\n",
              "      <td>0.952393</td>\n",
              "      <td>0.796298</td>\n",
              "      <td>0.997955</td>\n",
              "      <td>0.945105</td>\n",
              "      <td>0.984821</td>\n",
              "      <td>0.985896</td>\n",
              "      <td>0.000593</td>\n",
              "      <td>0.044618</td>\n",
              "      <td>0.000446</td>\n",
              "      <td>1.645998e-07</td>\n",
              "      <td>0.072673</td>\n",
              "      <td>0.000839</td>\n",
              "      <td>0.011951</td>\n",
              "      <td>0.009190</td>\n",
              "      <td>0.011891</td>\n",
              "      <td>0.000003</td>\n",
              "      <td>0.999725</td>\n",
              "      <td>0.000324</td>\n",
              "      <td>0.942015</td>\n",
              "      <td>0.928126</td>\n",
              "      <td>0.000454</td>\n",
              "      <td>0.989592</td>\n",
              "      <td>0.067779</td>\n",
              "      <td>0.254892</td>\n",
              "      <td>0.000553</td>\n",
              "      <td>0.000115</td>\n",
              "      <td>0.986872</td>\n",
              "      <td>0.992865</td>\n",
              "      <td>0.995562</td>\n",
              "      <td>0.882821</td>\n",
              "      <td>0.995361</td>\n",
              "      <td>0.000040</td>\n",
              "      <td>0.989049</td>\n",
              "      <td>0.889855</td>\n",
              "      <td>0.999794</td>\n",
              "      <td>0.974638</td>\n",
              "      <td>0.009645</td>\n",
              "    </tr>\n",
              "    <tr>\n",
              "      <th>1</th>\n",
              "      <td>0.169585</td>\n",
              "      <td>0.002056</td>\n",
              "      <td>0.111471</td>\n",
              "      <td>0.003063</td>\n",
              "      <td>0.330326</td>\n",
              "      <td>0.809699</td>\n",
              "      <td>0.014125</td>\n",
              "      <td>0.003971</td>\n",
              "      <td>0.112013</td>\n",
              "      <td>0.018017</td>\n",
              "      <td>0.196285</td>\n",
              "      <td>0.115402</td>\n",
              "      <td>0.065502</td>\n",
              "      <td>0.001065</td>\n",
              "      <td>0.733845</td>\n",
              "      <td>0.006678</td>\n",
              "      <td>0.110205</td>\n",
              "      <td>0.862887</td>\n",
              "      <td>0.006642</td>\n",
              "      <td>0.797989</td>\n",
              "      <td>0.017804</td>\n",
              "      <td>0.012203</td>\n",
              "      <td>0.002221</td>\n",
              "      <td>0.150156</td>\n",
              "      <td>0.008219</td>\n",
              "      <td>0.005174</td>\n",
              "      <td>0.002835</td>\n",
              "      <td>0.000334</td>\n",
              "      <td>0.744679</td>\n",
              "      <td>0.157288</td>\n",
              "      <td>0.017297</td>\n",
              "      <td>0.107647</td>\n",
              "      <td>0.099872</td>\n",
              "      <td>0.006010</td>\n",
              "      <td>0.007100</td>\n",
              "      <td>0.872557</td>\n",
              "      <td>0.031244</td>\n",
              "      <td>0.870279</td>\n",
              "      <td>0.070643</td>\n",
              "      <td>0.058844</td>\n",
              "      <td>0.081636</td>\n",
              "      <td>0.801476</td>\n",
              "      <td>0.525841</td>\n",
              "      <td>0.047172</td>\n",
              "      <td>0.200946</td>\n",
              "      <td>0.002009</td>\n",
              "      <td>0.054115</td>\n",
              "      <td>0.014925</td>\n",
              "      <td>0.013777</td>\n",
              "      <td>0.187103</td>\n",
              "      <td>0.856294</td>\n",
              "      <td>0.159729</td>\n",
              "      <td>1.671460e-04</td>\n",
              "      <td>0.867060</td>\n",
              "      <td>0.191874</td>\n",
              "      <td>0.762287</td>\n",
              "      <td>0.671698</td>\n",
              "      <td>0.717824</td>\n",
              "      <td>0.002056</td>\n",
              "      <td>0.000266</td>\n",
              "      <td>0.107559</td>\n",
              "      <td>0.057341</td>\n",
              "      <td>0.070898</td>\n",
              "      <td>0.127738</td>\n",
              "      <td>0.010140</td>\n",
              "      <td>0.875407</td>\n",
              "      <td>0.723097</td>\n",
              "      <td>0.196708</td>\n",
              "      <td>0.053583</td>\n",
              "      <td>0.012787</td>\n",
              "      <td>0.006958</td>\n",
              "      <td>0.004360</td>\n",
              "      <td>0.115538</td>\n",
              "      <td>0.004515</td>\n",
              "      <td>0.021594</td>\n",
              "      <td>0.010717</td>\n",
              "      <td>0.108357</td>\n",
              "      <td>0.000199</td>\n",
              "      <td>0.024802</td>\n",
              "      <td>0.687412</td>\n",
              "    </tr>\n",
              "    <tr>\n",
              "      <th>2</th>\n",
              "      <td>0.829844</td>\n",
              "      <td>0.997941</td>\n",
              "      <td>0.888223</td>\n",
              "      <td>0.000104</td>\n",
              "      <td>0.005546</td>\n",
              "      <td>0.174461</td>\n",
              "      <td>0.985850</td>\n",
              "      <td>0.000098</td>\n",
              "      <td>0.887586</td>\n",
              "      <td>0.000369</td>\n",
              "      <td>0.002527</td>\n",
              "      <td>0.884208</td>\n",
              "      <td>0.001168</td>\n",
              "      <td>0.000030</td>\n",
              "      <td>0.256243</td>\n",
              "      <td>0.000176</td>\n",
              "      <td>0.001981</td>\n",
              "      <td>0.073562</td>\n",
              "      <td>0.000168</td>\n",
              "      <td>0.029876</td>\n",
              "      <td>0.982163</td>\n",
              "      <td>0.000235</td>\n",
              "      <td>0.000051</td>\n",
              "      <td>0.001547</td>\n",
              "      <td>0.000191</td>\n",
              "      <td>0.000116</td>\n",
              "      <td>0.997161</td>\n",
              "      <td>0.000011</td>\n",
              "      <td>0.242689</td>\n",
              "      <td>0.842245</td>\n",
              "      <td>0.000449</td>\n",
              "      <td>0.001514</td>\n",
              "      <td>0.002025</td>\n",
              "      <td>0.000095</td>\n",
              "      <td>0.000106</td>\n",
              "      <td>0.054775</td>\n",
              "      <td>0.968656</td>\n",
              "      <td>0.066719</td>\n",
              "      <td>0.001293</td>\n",
              "      <td>0.000843</td>\n",
              "      <td>0.918129</td>\n",
              "      <td>0.032755</td>\n",
              "      <td>0.013825</td>\n",
              "      <td>0.000436</td>\n",
              "      <td>0.002757</td>\n",
              "      <td>0.000036</td>\n",
              "      <td>0.000779</td>\n",
              "      <td>0.000254</td>\n",
              "      <td>0.000327</td>\n",
              "      <td>0.812304</td>\n",
              "      <td>0.099088</td>\n",
              "      <td>0.839825</td>\n",
              "      <td>9.998327e-01</td>\n",
              "      <td>0.060266</td>\n",
              "      <td>0.807287</td>\n",
              "      <td>0.225762</td>\n",
              "      <td>0.319112</td>\n",
              "      <td>0.270285</td>\n",
              "      <td>0.997941</td>\n",
              "      <td>0.000009</td>\n",
              "      <td>0.892117</td>\n",
              "      <td>0.000644</td>\n",
              "      <td>0.000976</td>\n",
              "      <td>0.871808</td>\n",
              "      <td>0.000268</td>\n",
              "      <td>0.056814</td>\n",
              "      <td>0.022011</td>\n",
              "      <td>0.802739</td>\n",
              "      <td>0.946302</td>\n",
              "      <td>0.000341</td>\n",
              "      <td>0.000177</td>\n",
              "      <td>0.000078</td>\n",
              "      <td>0.001641</td>\n",
              "      <td>0.000124</td>\n",
              "      <td>0.978366</td>\n",
              "      <td>0.000234</td>\n",
              "      <td>0.001788</td>\n",
              "      <td>0.000006</td>\n",
              "      <td>0.000560</td>\n",
              "      <td>0.302944</td>\n",
              "    </tr>\n",
              "  </tbody>\n",
              "</table>\n",
              "</div>"
            ],
            "text/plain": [
              "         0         1         2   ...        77        78        79\n",
              "0  0.000570  0.000003  0.000306  ...  0.999794  0.974638  0.009645\n",
              "1  0.169585  0.002056  0.111471  ...  0.000199  0.024802  0.687412\n",
              "2  0.829844  0.997941  0.888223  ...  0.000006  0.000560  0.302944\n",
              "\n",
              "[3 rows x 80 columns]"
            ]
          },
          "metadata": {
            "tags": []
          },
          "execution_count": 34
        }
      ]
    },
    {
      "cell_type": "code",
      "metadata": {
        "colab": {
          "base_uri": "https://localhost:8080/"
        },
        "id": "ddsURbwnCeq2",
        "outputId": "91a7dffb-721c-46d9-ebad-9838303af830"
      },
      "source": [
        "#Finding the highest probabilities in each column\n",
        "all_labels_prob = class_0_prob_all.idxmax(axis=0)\n",
        "all_labels_prob"
      ],
      "execution_count": 35,
      "outputs": [
        {
          "output_type": "execute_result",
          "data": {
            "text/plain": [
              "0     2\n",
              "1     2\n",
              "2     2\n",
              "3     0\n",
              "4     0\n",
              "     ..\n",
              "75    0\n",
              "76    0\n",
              "77    0\n",
              "78    0\n",
              "79    1\n",
              "Length: 80, dtype: int64"
            ]
          },
          "metadata": {
            "tags": []
          },
          "execution_count": 35
        }
      ]
    },
    {
      "cell_type": "code",
      "metadata": {
        "id": "pHcHsFTxLbdE"
      },
      "source": [
        "#Replacing the labels 0, 1 and 2 with the original labels to avoid misunderstanding in classification report and confusion matrix\n",
        "all_labels_prob.replace({0:4, 1:6, 2:8}, inplace=True)"
      ],
      "execution_count": 36,
      "outputs": []
    },
    {
      "cell_type": "code",
      "metadata": {
        "colab": {
          "base_uri": "https://localhost:8080/",
          "height": 446
        },
        "id": "pwtulfSCDMk0",
        "outputId": "c0669fbc-16a8-46af-863c-11512595f1d6"
      },
      "source": [
        "#Plotting the confusion matrix of the model\n",
        "cm=confusion_matrix(y0_test,all_labels_prob)\n",
        "plt.figure(figsize = (10,7))\n",
        "sns.heatmap(cm, annot=True, xticklabels=[4,6,8], yticklabels=[4,6,8])"
      ],
      "execution_count": 37,
      "outputs": [
        {
          "output_type": "execute_result",
          "data": {
            "text/plain": [
              "<matplotlib.axes._subplots.AxesSubplot at 0x7fa39ae4d4a8>"
            ]
          },
          "metadata": {
            "tags": []
          },
          "execution_count": 37
        },
        {
          "output_type": "display_data",
          "data": {
            "image/png": "[encoded data removed]",
            "text/plain": [
              "<Figure size 720x504 with 2 Axes>"
            ]
          },
          "metadata": {
            "tags": [],
            "needs_background": "light"
          }
        }
      ]
    },
    {
      "cell_type": "markdown",
      "metadata": {
        "id": "0Urt7EPYuK3t"
      },
      "source": [
        "The diagonal values shows the accurately classified values for each class. Out of total 80 values in the test dataset, 78 were predicted accurately in their respective classes. 2 values were misclassified , with 1 being misclassified as class '4' instead of class '6' and 1 misclassified as class '6' instead of class '8'."
      ]
    },
    {
      "cell_type": "code",
      "metadata": {
        "colab": {
          "base_uri": "https://localhost:8080/"
        },
        "id": "CpLcFes3EXav",
        "outputId": "4ce09656-d136-450c-820f-d0cfa4226333"
      },
      "source": [
        "#Classification report of the confusion matrix represented above\n",
        "cr = classification_report(y0_test,all_labels_prob)\n",
        "print(\"\\nClassification report:\\n\", cr)"
      ],
      "execution_count": 38,
      "outputs": [
        {
          "output_type": "stream",
          "text": [
            "\n",
            "Classification report:\n",
            "               precision    recall  f1-score   support\n",
            "\n",
            "         4.0       0.98      1.00      0.99        41\n",
            "         6.0       0.94      0.94      0.94        17\n",
            "         8.0       1.00      0.95      0.98        22\n",
            "\n",
            "    accuracy                           0.97        80\n",
            "   macro avg       0.97      0.97      0.97        80\n",
            "weighted avg       0.98      0.97      0.97        80\n",
            "\n"
          ],
          "name": "stdout"
        }
      ]
    },
    {
      "cell_type": "markdown",
      "metadata": {
        "id": "EzfeV0jTxpmF"
      },
      "source": [
        "**Classification report** further expands on the confusion matrix and gives the parameters and further quantifies on how good the classification of the given model is. \n",
        "\n",
        "**Precision** in the classification report tells us the fraction of predictions of a positive class that were actually positive, i.e it gives us the accuracy of the positive predictions. It is good value for all the classes.\n",
        "\n",
        "**Recall** gives the fraction of all positive samples that were correctly predicted as positive by the classifier, i.e fraction of positives correctly identified. It is also good for all classes in this case\n",
        "\n",
        "**F1- score** combines the precision and recall into a single measurement, it is the harmonic mean between precision and recall. It is good for all the classes.\n",
        "\n",
        "**Support** is the actual number of occurences of the class in the given dataset."
      ]
    },
    {
      "cell_type": "markdown",
      "metadata": {
        "id": "otqxmDpuxyBX"
      },
      "source": [
        "After the classification report, we find the accuracy of the applied model."
      ]
    },
    {
      "cell_type": "code",
      "metadata": {
        "colab": {
          "base_uri": "https://localhost:8080/"
        },
        "id": "0RIhb9pkDA0x",
        "outputId": "8b529bfc-dc0f-4b36-d296-a6c7311a7d5c"
      },
      "source": [
        "#Accuracy of the model\n",
        "score =accuracy_score(y0_test,all_labels_prob)\n",
        "print(\"The Accuracy of the model is\", score*100, \"%\")"
      ],
      "execution_count": 39,
      "outputs": [
        {
          "output_type": "stream",
          "text": [
            "The Accuracy of the model is 97.5 %\n"
          ],
          "name": "stdout"
        }
      ]
    },
    {
      "cell_type": "markdown",
      "metadata": {
        "id": "AxWVD50wx7-Y"
      },
      "source": [
        "**Misclassification Rate**\n",
        "\n",
        "Source - https://www.ritchieng.com/machine-learning-evaluate-classification-model/\n",
        "\n",
        "\n",
        "Misclassification rate can be found by subtracting the accuracy score from the highest value that it can attain, i.e 1\n",
        "\n",
        "Misclassifictaion rate = 1- accuracy_score value"
      ]
    },
    {
      "cell_type": "code",
      "metadata": {
        "colab": {
          "base_uri": "https://localhost:8080/"
        },
        "id": "2W-3ah04yB7-",
        "outputId": "436e2b6b-079a-4ec2-c9c1-2c02d7a45812"
      },
      "source": [
        "#Finding the misclassification rate\n",
        "misclass_logrego = 1-score\n",
        "print(\"The misclassification rate for the ordinal logistic regression is\", misclass_logrego, \"(\", misclass_logrego*100, \")\", \"%\")"
      ],
      "execution_count": 40,
      "outputs": [
        {
          "output_type": "stream",
          "text": [
            "The misclassification rate for the ordinal logistic regression is 0.025000000000000022 ( 2.500000000000002 ) %\n"
          ],
          "name": "stdout"
        }
      ]
    },
    {
      "cell_type": "markdown",
      "metadata": {
        "id": "8RK3kY1Nsq3l"
      },
      "source": [
        "**Final thoughts on Ordinary Logistic Regression approach**\n",
        "\n",
        "When this approach is compared to the simple logistic regression approach done above, it yields more accuracy as the classes have been nested together and then analysed. OneVsRest argument has been properly incorporated in this method. Hence, this approach can definitely be considered while dealing with multiclass classification problems."
      ]
    },
    {
      "cell_type": "markdown",
      "metadata": {
        "id": "qbiX3lPmtFxm"
      },
      "source": [
        "##Support Vector Classifier"
      ]
    },
    {
      "cell_type": "markdown",
      "metadata": {
        "id": "N0v2uQlDu_27"
      },
      "source": [
        "First, defining the model"
      ]
    },
    {
      "cell_type": "code",
      "metadata": {
        "id": "9Y19DkCGa6YY"
      },
      "source": [
        "#Defining model\n",
        "svclassifier = SVC(C= 100, gamma = 0.01, kernel = 'rbf')"
      ],
      "execution_count": 41,
      "outputs": []
    },
    {
      "cell_type": "markdown",
      "metadata": {
        "id": "7Cv42Kj2vanC"
      },
      "source": [
        "Next, fitting the model on the training data"
      ]
    },
    {
      "cell_type": "code",
      "metadata": {
        "id": "BVM0hjz9vE6U"
      },
      "source": [
        "#Fitting model\n",
        "svc_model = svclassifier.fit(X0_train, y0_train)"
      ],
      "execution_count": 42,
      "outputs": []
    },
    {
      "cell_type": "markdown",
      "metadata": {
        "id": "vzcnNPoXvnqj"
      },
      "source": [
        "Finally, using the fitted model for predicting class."
      ]
    },
    {
      "cell_type": "code",
      "metadata": {
        "id": "63S74znfa-DY",
        "colab": {
          "base_uri": "https://localhost:8080/"
        },
        "outputId": "0adbeed4-e736-4969-f7c2-525f9f0dcb42"
      },
      "source": [
        "#Making predictions\n",
        "y_predi = svc_model.predict(X0_test)\n",
        "y_predi"
      ],
      "execution_count": 43,
      "outputs": [
        {
          "output_type": "execute_result",
          "data": {
            "text/plain": [
              "array([8., 8., 8., 4., 4., 6., 8., 4., 8., 4., 4., 8., 4., 4., 6., 4., 4.,\n",
              "       6., 4., 6., 8., 4., 4., 4., 4., 4., 8., 4., 6., 8., 4., 4., 4., 4.,\n",
              "       4., 6., 8., 6., 4., 4., 8., 6., 6., 4., 4., 4., 4., 4., 4., 8., 6.,\n",
              "       8., 8., 6., 8., 6., 6., 6., 8., 4., 8., 4., 4., 8., 4., 6., 6., 8.,\n",
              "       8., 4., 4., 4., 4., 4., 8., 4., 4., 4., 4., 6.])"
            ]
          },
          "metadata": {
            "tags": []
          },
          "execution_count": 43
        }
      ]
    },
    {
      "cell_type": "markdown",
      "metadata": {
        "id": "hQ66YrdUvwXD"
      },
      "source": [
        "To better exhibit the results, confusion matrix is calculated and shown below. "
      ]
    },
    {
      "cell_type": "code",
      "metadata": {
        "colab": {
          "base_uri": "https://localhost:8080/"
        },
        "id": "USrVcQwybCpL",
        "outputId": "3ce1f4a3-142d-4c71-9b93-cc203e944551"
      },
      "source": [
        "#Calculating the confusion matrix\n",
        "print(confusion_matrix(y0_test,y_predi))"
      ],
      "execution_count": 44,
      "outputs": [
        {
          "output_type": "stream",
          "text": [
            "[[41  0  0]\n",
            " [ 1 16  0]\n",
            " [ 0  1 21]]\n"
          ],
          "name": "stdout"
        }
      ]
    },
    {
      "cell_type": "code",
      "metadata": {
        "colab": {
          "base_uri": "https://localhost:8080/",
          "height": 446
        },
        "id": "ySiRCSjExFD1",
        "outputId": "45659e1f-4531-404b-d1f1-37278b67cfca"
      },
      "source": [
        "#Plotting the confusion matrix of the model\n",
        "cm=confusion_matrix(y0_test,y_predi)\n",
        "plt.figure(figsize = (10,7))\n",
        "sns.heatmap(cm, annot=True, xticklabels=[4,6,8], yticklabels=[4,6,8])"
      ],
      "execution_count": 45,
      "outputs": [
        {
          "output_type": "execute_result",
          "data": {
            "text/plain": [
              "<matplotlib.axes._subplots.AxesSubplot at 0x7fa396084e48>"
            ]
          },
          "metadata": {
            "tags": []
          },
          "execution_count": 45
        },
        {
          "output_type": "display_data",
          "data": {
            "image/png": "[encoded data removed]",
            "text/plain": [
              "<Figure size 720x504 with 2 Axes>"
            ]
          },
          "metadata": {
            "tags": [],
            "needs_background": "light"
          }
        }
      ]
    },
    {
      "cell_type": "markdown",
      "metadata": {
        "id": "ydqz93dIS_92"
      },
      "source": [
        "The diagonal values shows the accurately classified values for each class. Out of total 80 values in the test dataset, 78 were predicted accurately in their respective classes. 2 values were misclassified , with 1 being misclassified as class '4' instead of class '6' and 1 misclassified as class '6' instead of class '8'."
      ]
    },
    {
      "cell_type": "code",
      "metadata": {
        "colab": {
          "base_uri": "https://localhost:8080/"
        },
        "id": "iibj5Q0Bv2V7",
        "outputId": "e1e6e8d8-a2b9-41eb-f18b-3b20329e7944"
      },
      "source": [
        "#Classification report\n",
        "print(classification_report(y0_test,y_predi))"
      ],
      "execution_count": 46,
      "outputs": [
        {
          "output_type": "stream",
          "text": [
            "              precision    recall  f1-score   support\n",
            "\n",
            "         4.0       0.98      1.00      0.99        41\n",
            "         6.0       0.94      0.94      0.94        17\n",
            "         8.0       1.00      0.95      0.98        22\n",
            "\n",
            "    accuracy                           0.97        80\n",
            "   macro avg       0.97      0.97      0.97        80\n",
            "weighted avg       0.98      0.97      0.97        80\n",
            "\n"
          ],
          "name": "stdout"
        }
      ]
    },
    {
      "cell_type": "markdown",
      "metadata": {
        "id": "FuP21ZsCTMxY"
      },
      "source": [
        "**Classification report** further expands on the confusion matrix and gives the parameters and further quantifies on how good the classification of the given model is. \n",
        "\n",
        "**Precision** in the classification report tells us the fraction of predictions of a positive class that were actually positive, i.e it gives us the accuracy of the positive predictions. It is good value for all the classes.\n",
        "\n",
        "**Recall** gives the fraction of all positive samples that were correctly predicted as positive by the classifier, i.e fraction of positives correctly identified. It is also good for all classes in this case\n",
        "\n",
        "**F1- score** combines the precision and recall into a single measurement, it is the harmonic mean between precision and recall. It is good for all the classes.\n",
        "\n",
        "**Support** is the actual number of occurences of the class in the given dataset."
      ]
    },
    {
      "cell_type": "markdown",
      "metadata": {
        "id": "mHSWBDMoxzF4"
      },
      "source": [
        "After the classification report, we find the accuracy of the applied model."
      ]
    },
    {
      "cell_type": "code",
      "metadata": {
        "colab": {
          "base_uri": "https://localhost:8080/"
        },
        "id": "3hGvSmXbbILX",
        "outputId": "9f2b5ff9-c53f-4e92-f351-f8ae060e074c"
      },
      "source": [
        "#Accuracy of the model\n",
        "svc_score =accuracy_score(y0_test,y_predi)\n",
        "print(\"The Accuracy of the model is\", svc_score*100, \"%\")"
      ],
      "execution_count": 47,
      "outputs": [
        {
          "output_type": "stream",
          "text": [
            "The Accuracy of the model is 97.5 %\n"
          ],
          "name": "stdout"
        }
      ]
    },
    {
      "cell_type": "markdown",
      "metadata": {
        "id": "YDViY4b4yZUB"
      },
      "source": [
        "**Misclassification Rate**\n",
        "\n",
        "Source - https://www.ritchieng.com/machine-learning-evaluate-classification-model/\n",
        "\n",
        "\n",
        "Misclassification rate can be found by subtracting the accuracy score from the highest value that it can attain, i.e 1\n",
        "\n",
        "Misclassification rate = 1- accuracy_score value"
      ]
    },
    {
      "cell_type": "code",
      "metadata": {
        "colab": {
          "base_uri": "https://localhost:8080/"
        },
        "id": "hLiuh8mDyckG",
        "outputId": "48a4b5a5-c884-455a-ecca-88ad4935ecc0"
      },
      "source": [
        "#Finding the misclassification rate\n",
        "misclass_svc = 1-svc_score\n",
        "print(\"The misclassification rate for the Support Vector Classifier is\", misclass_svc, \"(\",misclass_svc*100, \")\", \"%\")"
      ],
      "execution_count": 48,
      "outputs": [
        {
          "output_type": "stream",
          "text": [
            "The misclassification rate for the Support Vector Classifier is 0.025000000000000022 ( 2.500000000000002 ) %\n"
          ],
          "name": "stdout"
        }
      ]
    },
    {
      "cell_type": "markdown",
      "metadata": {
        "id": "wXc2cK851egQ"
      },
      "source": [
        "Hyperparameter tuning for finding optimal parameters"
      ]
    },
    {
      "cell_type": "code",
      "metadata": {
        "colab": {
          "base_uri": "https://localhost:8080/"
        },
        "id": "1KCL0vO6atN2",
        "outputId": "7cfea5b3-c77e-431f-c3e1-026e34fc217f"
      },
      "source": [
        "#Hyperparameter tuning\n",
        "# defining parameter range \n",
        "param_grid = {'C': [0.1, 1, 10, 100, 1000],  \n",
        "              'gamma': [1, 0.1, 0.01, 0.001, 0.0001], \n",
        "              'kernel': ['rbf']}  \n",
        "  \n",
        "grid = GridSearchCV(SVC(), param_grid, refit = True, verbose = 3) \n",
        "  \n",
        "# fitting the model for grid search \n",
        "grid.fit(X0_train, y0_train) "
      ],
      "execution_count": 49,
      "outputs": [
        {
          "output_type": "stream",
          "text": [
            "Fitting 5 folds for each of 25 candidates, totalling 125 fits\n",
            "[CV] C=0.1, gamma=1, kernel=rbf ......................................\n",
            "[CV] .......... C=0.1, gamma=1, kernel=rbf, score=0.875, total=   0.0s\n",
            "[CV] C=0.1, gamma=1, kernel=rbf ......................................\n",
            "[CV] .......... C=0.1, gamma=1, kernel=rbf, score=0.984, total=   0.0s\n",
            "[CV] C=0.1, gamma=1, kernel=rbf ......................................\n",
            "[CV] .......... C=0.1, gamma=1, kernel=rbf, score=0.875, total=   0.0s\n",
            "[CV] C=0.1, gamma=1, kernel=rbf ......................................\n",
            "[CV] .......... C=0.1, gamma=1, kernel=rbf, score=0.938, total=   0.0s\n",
            "[CV] C=0.1, gamma=1, kernel=rbf ......................................\n",
            "[CV] .......... C=0.1, gamma=1, kernel=rbf, score=0.952, total=   0.0s\n",
            "[CV] C=0.1, gamma=0.1, kernel=rbf ....................................\n",
            "[CV] ........ C=0.1, gamma=0.1, kernel=rbf, score=0.844, total=   0.0s\n",
            "[CV] C=0.1, gamma=0.1, kernel=rbf ....................................\n",
            "[CV] ........ C=0.1, gamma=0.1, kernel=rbf, score=0.938, total=   0.0s\n",
            "[CV] C=0.1, gamma=0.1, kernel=rbf ....................................\n",
            "[CV] ........ C=0.1, gamma=0.1, kernel=rbf, score=0.875, total=   0.0s\n",
            "[CV] C=0.1, gamma=0.1, kernel=rbf ....................................\n",
            "[CV] ........ C=0.1, gamma=0.1, kernel=rbf, score=0.922, total=   0.0s\n",
            "[CV] C=0.1, gamma=0.1, kernel=rbf ....................................\n",
            "[CV] ........ C=0.1, gamma=0.1, kernel=rbf, score=0.921, total=   0.0s\n",
            "[CV] C=0.1, gamma=0.01, kernel=rbf ...................................\n",
            "[CV] ....... C=0.1, gamma=0.01, kernel=rbf, score=0.703, total=   0.0s\n",
            "[CV] C=0.1, gamma=0.01, kernel=rbf ...................................\n",
            "[CV] ....... C=0.1, gamma=0.01, kernel=rbf, score=0.719, total=   0.0s\n",
            "[CV] C=0.1, gamma=0.01, kernel=rbf ...................................\n",
            "[CV] ....... C=0.1, gamma=0.01, kernel=rbf, score=0.688, total=   0.0s\n",
            "[CV] C=0.1, gamma=0.01, kernel=rbf ...................................\n",
            "[CV] ....... C=0.1, gamma=0.01, kernel=rbf, score=0.656, total=   0.0s\n",
            "[CV] C=0.1, gamma=0.01, kernel=rbf ...................................\n",
            "[CV] ....... C=0.1, gamma=0.01, kernel=rbf, score=0.730, total=   0.0s\n",
            "[CV] C=0.1, gamma=0.001, kernel=rbf ..................................\n",
            "[CV] ...... C=0.1, gamma=0.001, kernel=rbf, score=0.531, total=   0.0s\n",
            "[CV] C=0.1, gamma=0.001, kernel=rbf ..................................\n",
            "[CV] ...... C=0.1, gamma=0.001, kernel=rbf, score=0.516, total=   0.0s\n",
            "[CV] C=0.1, gamma=0.001, kernel=rbf ..................................\n",
            "[CV] ...... C=0.1, gamma=0.001, kernel=rbf, score=0.516, total=   0.0s\n",
            "[CV] C=0.1, gamma=0.001, kernel=rbf ..................................\n",
            "[CV] ...... C=0.1, gamma=0.001, kernel=rbf, score=0.516, total=   0.0s\n",
            "[CV] C=0.1, gamma=0.001, kernel=rbf ..................................\n",
            "[CV] ...... C=0.1, gamma=0.001, kernel=rbf, score=0.524, total=   0.0s\n",
            "[CV] C=0.1, gamma=0.0001, kernel=rbf .................................\n",
            "[CV] ..... C=0.1, gamma=0.0001, kernel=rbf, score=0.531, total=   0.0s\n",
            "[CV] C=0.1, gamma=0.0001, kernel=rbf .................................\n",
            "[CV] ..... C=0.1, gamma=0.0001, kernel=rbf, score=0.516, total=   0.0s\n",
            "[CV] C=0.1, gamma=0.0001, kernel=rbf .................................\n",
            "[CV] ..... C=0.1, gamma=0.0001, kernel=rbf, score=0.516, total=   0.0s\n",
            "[CV] C=0.1, gamma=0.0001, kernel=rbf .................................\n",
            "[CV] ..... C=0.1, gamma=0.0001, kernel=rbf, score=0.516, total=   0.0s\n",
            "[CV] C=0.1, gamma=0.0001, kernel=rbf .................................\n",
            "[CV] ..... C=0.1, gamma=0.0001, kernel=rbf, score=0.524, total=   0.0s\n",
            "[CV] C=1, gamma=1, kernel=rbf ........................................\n",
            "[CV] ............ C=1, gamma=1, kernel=rbf, score=0.922, total=   0.0s\n",
            "[CV] C=1, gamma=1, kernel=rbf ........................................\n",
            "[CV] ............ C=1, gamma=1, kernel=rbf, score=1.000, total=   0.0s\n",
            "[CV] C=1, gamma=1, kernel=rbf ........................................\n",
            "[CV] ............ C=1, gamma=1, kernel=rbf, score=0.922, total=   0.0s\n",
            "[CV] C=1, gamma=1, kernel=rbf ........................................\n",
            "[CV] ............ C=1, gamma=1, kernel=rbf, score=0.969, total=   0.0s\n",
            "[CV] C=1, gamma=1, kernel=rbf ........................................\n",
            "[CV] ............ C=1, gamma=1, kernel=rbf, score=0.968, total=   0.0s\n",
            "[CV] C=1, gamma=0.1, kernel=rbf ......................................\n",
            "[CV] .......... C=1, gamma=0.1, kernel=rbf, score=0.906, total=   0.0s\n",
            "[CV] C=1, gamma=0.1, kernel=rbf ......................................\n",
            "[CV] .......... C=1, gamma=0.1, kernel=rbf, score=0.984, total=   0.0s\n",
            "[CV] C=1, gamma=0.1, kernel=rbf ......................................\n",
            "[CV] .......... C=1, gamma=0.1, kernel=rbf, score=0.906, total=   0.0s\n",
            "[CV] C=1, gamma=0.1, kernel=rbf ......................................\n",
            "[CV] .......... C=1, gamma=0.1, kernel=rbf, score=0.953, total=   0.0s\n",
            "[CV] C=1, gamma=0.1, kernel=rbf ......................................\n",
            "[CV] .......... C=1, gamma=0.1, kernel=rbf, score=0.984, total=   0.0s\n",
            "[CV] C=1, gamma=0.01, kernel=rbf .....................................\n",
            "[CV] ......... C=1, gamma=0.01, kernel=rbf, score=0.891, total=   0.0s\n",
            "[CV] C=1, gamma=0.01, kernel=rbf .....................................\n",
            "[CV] ......... C=1, gamma=0.01, kernel=rbf, score=0.953, total=   0.0s\n",
            "[CV] C=1, gamma=0.01, kernel=rbf .....................................\n"
          ],
          "name": "stdout"
        },
        {
          "output_type": "stream",
          "text": [
            "[Parallel(n_jobs=1)]: Using backend SequentialBackend with 1 concurrent workers.\n",
            "[Parallel(n_jobs=1)]: Done   1 out of   1 | elapsed:    0.0s remaining:    0.0s\n",
            "[Parallel(n_jobs=1)]: Done   2 out of   2 | elapsed:    0.0s remaining:    0.0s\n"
          ],
          "name": "stderr"
        },
        {
          "output_type": "stream",
          "text": [
            "[CV] ......... C=1, gamma=0.01, kernel=rbf, score=0.891, total=   0.0s\n",
            "[CV] C=1, gamma=0.01, kernel=rbf .....................................\n",
            "[CV] ......... C=1, gamma=0.01, kernel=rbf, score=0.922, total=   0.0s\n",
            "[CV] C=1, gamma=0.01, kernel=rbf .....................................\n",
            "[CV] ......... C=1, gamma=0.01, kernel=rbf, score=0.952, total=   0.0s\n",
            "[CV] C=1, gamma=0.001, kernel=rbf ....................................\n",
            "[CV] ........ C=1, gamma=0.001, kernel=rbf, score=0.719, total=   0.0s\n",
            "[CV] C=1, gamma=0.001, kernel=rbf ....................................\n",
            "[CV] ........ C=1, gamma=0.001, kernel=rbf, score=0.734, total=   0.0s\n",
            "[CV] C=1, gamma=0.001, kernel=rbf ....................................\n",
            "[CV] ........ C=1, gamma=0.001, kernel=rbf, score=0.766, total=   0.0s\n",
            "[CV] C=1, gamma=0.001, kernel=rbf ....................................\n",
            "[CV] ........ C=1, gamma=0.001, kernel=rbf, score=0.703, total=   0.0s\n",
            "[CV] C=1, gamma=0.001, kernel=rbf ....................................\n",
            "[CV] ........ C=1, gamma=0.001, kernel=rbf, score=0.746, total=   0.0s\n",
            "[CV] C=1, gamma=0.0001, kernel=rbf ...................................\n",
            "[CV] ....... C=1, gamma=0.0001, kernel=rbf, score=0.531, total=   0.0s\n",
            "[CV] C=1, gamma=0.0001, kernel=rbf ...................................\n",
            "[CV] ....... C=1, gamma=0.0001, kernel=rbf, score=0.516, total=   0.0s\n",
            "[CV] C=1, gamma=0.0001, kernel=rbf ...................................\n",
            "[CV] ....... C=1, gamma=0.0001, kernel=rbf, score=0.516, total=   0.0s\n",
            "[CV] C=1, gamma=0.0001, kernel=rbf ...................................\n",
            "[CV] ....... C=1, gamma=0.0001, kernel=rbf, score=0.516, total=   0.0s\n",
            "[CV] C=1, gamma=0.0001, kernel=rbf ...................................\n",
            "[CV] ....... C=1, gamma=0.0001, kernel=rbf, score=0.524, total=   0.0s\n",
            "[CV] C=10, gamma=1, kernel=rbf .......................................\n",
            "[CV] ........... C=10, gamma=1, kernel=rbf, score=0.938, total=   0.0s\n",
            "[CV] C=10, gamma=1, kernel=rbf .......................................\n",
            "[CV] ........... C=10, gamma=1, kernel=rbf, score=1.000, total=   0.0s\n",
            "[CV] C=10, gamma=1, kernel=rbf .......................................\n",
            "[CV] ........... C=10, gamma=1, kernel=rbf, score=0.953, total=   0.0s\n",
            "[CV] C=10, gamma=1, kernel=rbf .......................................\n",
            "[CV] ........... C=10, gamma=1, kernel=rbf, score=0.969, total=   0.0s\n",
            "[CV] C=10, gamma=1, kernel=rbf .......................................\n",
            "[CV] ........... C=10, gamma=1, kernel=rbf, score=0.952, total=   0.0s\n",
            "[CV] C=10, gamma=0.1, kernel=rbf .....................................\n",
            "[CV] ......... C=10, gamma=0.1, kernel=rbf, score=0.969, total=   0.0s\n",
            "[CV] C=10, gamma=0.1, kernel=rbf .....................................\n",
            "[CV] ......... C=10, gamma=0.1, kernel=rbf, score=1.000, total=   0.0s\n",
            "[CV] C=10, gamma=0.1, kernel=rbf .....................................\n",
            "[CV] ......... C=10, gamma=0.1, kernel=rbf, score=0.969, total=   0.0s\n",
            "[CV] C=10, gamma=0.1, kernel=rbf .....................................\n",
            "[CV] ......... C=10, gamma=0.1, kernel=rbf, score=0.953, total=   0.0s\n",
            "[CV] C=10, gamma=0.1, kernel=rbf .....................................\n",
            "[CV] ......... C=10, gamma=0.1, kernel=rbf, score=0.968, total=   0.0s\n",
            "[CV] C=10, gamma=0.01, kernel=rbf ....................................\n",
            "[CV] ........ C=10, gamma=0.01, kernel=rbf, score=0.922, total=   0.0s\n",
            "[CV] C=10, gamma=0.01, kernel=rbf ....................................\n",
            "[CV] ........ C=10, gamma=0.01, kernel=rbf, score=0.984, total=   0.0s\n",
            "[CV] C=10, gamma=0.01, kernel=rbf ....................................\n",
            "[CV] ........ C=10, gamma=0.01, kernel=rbf, score=0.922, total=   0.0s\n",
            "[CV] C=10, gamma=0.01, kernel=rbf ....................................\n",
            "[CV] ........ C=10, gamma=0.01, kernel=rbf, score=0.953, total=   0.0s\n",
            "[CV] C=10, gamma=0.01, kernel=rbf ....................................\n",
            "[CV] ........ C=10, gamma=0.01, kernel=rbf, score=0.984, total=   0.0s\n",
            "[CV] C=10, gamma=0.001, kernel=rbf ...................................\n",
            "[CV] ....... C=10, gamma=0.001, kernel=rbf, score=0.891, total=   0.0s\n",
            "[CV] C=10, gamma=0.001, kernel=rbf ...................................\n",
            "[CV] ....... C=10, gamma=0.001, kernel=rbf, score=0.953, total=   0.0s\n",
            "[CV] C=10, gamma=0.001, kernel=rbf ...................................\n",
            "[CV] ....... C=10, gamma=0.001, kernel=rbf, score=0.891, total=   0.0s\n",
            "[CV] C=10, gamma=0.001, kernel=rbf ...................................\n",
            "[CV] ....... C=10, gamma=0.001, kernel=rbf, score=0.922, total=   0.0s\n",
            "[CV] C=10, gamma=0.001, kernel=rbf ...................................\n",
            "[CV] ....... C=10, gamma=0.001, kernel=rbf, score=0.968, total=   0.0s\n",
            "[CV] C=10, gamma=0.0001, kernel=rbf ..................................\n",
            "[CV] ...... C=10, gamma=0.0001, kernel=rbf, score=0.719, total=   0.0s\n",
            "[CV] C=10, gamma=0.0001, kernel=rbf ..................................\n",
            "[CV] ...... C=10, gamma=0.0001, kernel=rbf, score=0.766, total=   0.0s\n",
            "[CV] C=10, gamma=0.0001, kernel=rbf ..................................\n",
            "[CV] ...... C=10, gamma=0.0001, kernel=rbf, score=0.766, total=   0.0s\n",
            "[CV] C=10, gamma=0.0001, kernel=rbf ..................................\n",
            "[CV] ...... C=10, gamma=0.0001, kernel=rbf, score=0.703, total=   0.0s\n",
            "[CV] C=10, gamma=0.0001, kernel=rbf ..................................\n",
            "[CV] ...... C=10, gamma=0.0001, kernel=rbf, score=0.746, total=   0.0s\n",
            "[CV] C=100, gamma=1, kernel=rbf ......................................\n",
            "[CV] .......... C=100, gamma=1, kernel=rbf, score=0.938, total=   0.0s\n",
            "[CV] C=100, gamma=1, kernel=rbf ......................................\n",
            "[CV] .......... C=100, gamma=1, kernel=rbf, score=0.984, total=   0.0s\n",
            "[CV] C=100, gamma=1, kernel=rbf ......................................\n",
            "[CV] .......... C=100, gamma=1, kernel=rbf, score=0.922, total=   0.0s\n",
            "[CV] C=100, gamma=1, kernel=rbf ......................................\n",
            "[CV] .......... C=100, gamma=1, kernel=rbf, score=0.922, total=   0.0s\n",
            "[CV] C=100, gamma=1, kernel=rbf ......................................\n",
            "[CV] .......... C=100, gamma=1, kernel=rbf, score=0.952, total=   0.0s\n",
            "[CV] C=100, gamma=0.1, kernel=rbf ....................................\n",
            "[CV] ........ C=100, gamma=0.1, kernel=rbf, score=0.969, total=   0.0s\n",
            "[CV] C=100, gamma=0.1, kernel=rbf ....................................\n",
            "[CV] ........ C=100, gamma=0.1, kernel=rbf, score=1.000, total=   0.0s\n",
            "[CV] C=100, gamma=0.1, kernel=rbf ....................................\n",
            "[CV] ........ C=100, gamma=0.1, kernel=rbf, score=0.953, total=   0.0s\n",
            "[CV] C=100, gamma=0.1, kernel=rbf ....................................\n",
            "[CV] ........ C=100, gamma=0.1, kernel=rbf, score=0.953, total=   0.0s\n",
            "[CV] C=100, gamma=0.1, kernel=rbf ....................................\n",
            "[CV] ........ C=100, gamma=0.1, kernel=rbf, score=0.968, total=   0.0s\n",
            "[CV] C=100, gamma=0.01, kernel=rbf ...................................\n",
            "[CV] ....... C=100, gamma=0.01, kernel=rbf, score=0.969, total=   0.0s\n",
            "[CV] C=100, gamma=0.01, kernel=rbf ...................................\n",
            "[CV] ....... C=100, gamma=0.01, kernel=rbf, score=1.000, total=   0.0s\n",
            "[CV] C=100, gamma=0.01, kernel=rbf ...................................\n",
            "[CV] ....... C=100, gamma=0.01, kernel=rbf, score=0.953, total=   0.0s\n",
            "[CV] C=100, gamma=0.01, kernel=rbf ...................................\n",
            "[CV] ....... C=100, gamma=0.01, kernel=rbf, score=0.969, total=   0.0s\n",
            "[CV] C=100, gamma=0.01, kernel=rbf ...................................\n",
            "[CV] ....... C=100, gamma=0.01, kernel=rbf, score=0.984, total=   0.0s\n",
            "[CV] C=100, gamma=0.001, kernel=rbf ..................................\n",
            "[CV] ...... C=100, gamma=0.001, kernel=rbf, score=0.922, total=   0.0s\n",
            "[CV] C=100, gamma=0.001, kernel=rbf ..................................\n",
            "[CV] ...... C=100, gamma=0.001, kernel=rbf, score=0.984, total=   0.0s\n",
            "[CV] C=100, gamma=0.001, kernel=rbf ..................................\n",
            "[CV] ...... C=100, gamma=0.001, kernel=rbf, score=0.922, total=   0.0s\n",
            "[CV] C=100, gamma=0.001, kernel=rbf ..................................\n",
            "[CV] ...... C=100, gamma=0.001, kernel=rbf, score=0.953, total=   0.0s\n",
            "[CV] C=100, gamma=0.001, kernel=rbf ..................................\n",
            "[CV] ...... C=100, gamma=0.001, kernel=rbf, score=0.984, total=   0.0s\n",
            "[CV] C=100, gamma=0.0001, kernel=rbf .................................\n",
            "[CV] ..... C=100, gamma=0.0001, kernel=rbf, score=0.891, total=   0.0s\n",
            "[CV] C=100, gamma=0.0001, kernel=rbf .................................\n",
            "[CV] ..... C=100, gamma=0.0001, kernel=rbf, score=0.953, total=   0.0s\n",
            "[CV] C=100, gamma=0.0001, kernel=rbf .................................\n",
            "[CV] ..... C=100, gamma=0.0001, kernel=rbf, score=0.891, total=   0.0s\n",
            "[CV] C=100, gamma=0.0001, kernel=rbf .................................\n",
            "[CV] ..... C=100, gamma=0.0001, kernel=rbf, score=0.922, total=   0.0s\n",
            "[CV] C=100, gamma=0.0001, kernel=rbf .................................\n",
            "[CV] ..... C=100, gamma=0.0001, kernel=rbf, score=0.968, total=   0.0s\n",
            "[CV] C=1000, gamma=1, kernel=rbf .....................................\n",
            "[CV] ......... C=1000, gamma=1, kernel=rbf, score=0.938, total=   0.0s\n",
            "[CV] C=1000, gamma=1, kernel=rbf .....................................\n",
            "[CV] ......... C=1000, gamma=1, kernel=rbf, score=0.984, total=   0.0s\n",
            "[CV] C=1000, gamma=1, kernel=rbf .....................................\n",
            "[CV] ......... C=1000, gamma=1, kernel=rbf, score=0.922, total=   0.0s\n",
            "[CV] C=1000, gamma=1, kernel=rbf .....................................\n",
            "[CV] ......... C=1000, gamma=1, kernel=rbf, score=0.906, total=   0.0s\n",
            "[CV] C=1000, gamma=1, kernel=rbf .....................................\n",
            "[CV] ......... C=1000, gamma=1, kernel=rbf, score=0.968, total=   0.0s\n",
            "[CV] C=1000, gamma=0.1, kernel=rbf ...................................\n",
            "[CV] ....... C=1000, gamma=0.1, kernel=rbf, score=0.969, total=   0.0s\n",
            "[CV] C=1000, gamma=0.1, kernel=rbf ...................................\n",
            "[CV] ....... C=1000, gamma=0.1, kernel=rbf, score=0.969, total=   0.0s\n",
            "[CV] C=1000, gamma=0.1, kernel=rbf ...................................\n",
            "[CV] ....... C=1000, gamma=0.1, kernel=rbf, score=0.969, total=   0.0s\n",
            "[CV] C=1000, gamma=0.1, kernel=rbf ...................................\n",
            "[CV] ....... C=1000, gamma=0.1, kernel=rbf, score=0.906, total=   0.0s\n",
            "[CV] C=1000, gamma=0.1, kernel=rbf ...................................\n",
            "[CV] ....... C=1000, gamma=0.1, kernel=rbf, score=1.000, total=   0.0s\n",
            "[CV] C=1000, gamma=0.01, kernel=rbf ..................................\n",
            "[CV] ...... C=1000, gamma=0.01, kernel=rbf, score=0.969, total=   0.0s\n",
            "[CV] C=1000, gamma=0.01, kernel=rbf ..................................\n",
            "[CV] ...... C=1000, gamma=0.01, kernel=rbf, score=1.000, total=   0.0s\n",
            "[CV] C=1000, gamma=0.01, kernel=rbf ..................................\n",
            "[CV] ...... C=1000, gamma=0.01, kernel=rbf, score=0.969, total=   0.0s\n",
            "[CV] C=1000, gamma=0.01, kernel=rbf ..................................\n",
            "[CV] ...... C=1000, gamma=0.01, kernel=rbf, score=0.969, total=   0.0s\n",
            "[CV] C=1000, gamma=0.01, kernel=rbf ..................................\n",
            "[CV] ...... C=1000, gamma=0.01, kernel=rbf, score=0.952, total=   0.0s\n",
            "[CV] C=1000, gamma=0.001, kernel=rbf .................................\n",
            "[CV] ..... C=1000, gamma=0.001, kernel=rbf, score=0.969, total=   0.0s\n",
            "[CV] C=1000, gamma=0.001, kernel=rbf .................................\n",
            "[CV] ..... C=1000, gamma=0.001, kernel=rbf, score=1.000, total=   0.0s\n",
            "[CV] C=1000, gamma=0.001, kernel=rbf .................................\n",
            "[CV] ..... C=1000, gamma=0.001, kernel=rbf, score=0.938, total=   0.0s\n",
            "[CV] C=1000, gamma=0.001, kernel=rbf .................................\n",
            "[CV] ..... C=1000, gamma=0.001, kernel=rbf, score=0.969, total=   0.0s\n",
            "[CV] C=1000, gamma=0.001, kernel=rbf .................................\n",
            "[CV] ..... C=1000, gamma=0.001, kernel=rbf, score=0.984, total=   0.0s\n",
            "[CV] C=1000, gamma=0.0001, kernel=rbf ................................\n",
            "[CV] .... C=1000, gamma=0.0001, kernel=rbf, score=0.922, total=   0.0s\n",
            "[CV] C=1000, gamma=0.0001, kernel=rbf ................................\n",
            "[CV] .... C=1000, gamma=0.0001, kernel=rbf, score=0.984, total=   0.0s\n",
            "[CV] C=1000, gamma=0.0001, kernel=rbf ................................\n",
            "[CV] .... C=1000, gamma=0.0001, kernel=rbf, score=0.922, total=   0.0s\n",
            "[CV] C=1000, gamma=0.0001, kernel=rbf ................................\n",
            "[CV] .... C=1000, gamma=0.0001, kernel=rbf, score=0.953, total=   0.0s\n",
            "[CV] C=1000, gamma=0.0001, kernel=rbf ................................\n",
            "[CV] .... C=1000, gamma=0.0001, kernel=rbf, score=0.984, total=   0.0s\n"
          ],
          "name": "stdout"
        },
        {
          "output_type": "stream",
          "text": [
            "[Parallel(n_jobs=1)]: Done 125 out of 125 | elapsed:    0.6s finished\n"
          ],
          "name": "stderr"
        },
        {
          "output_type": "execute_result",
          "data": {
            "text/plain": [
              "GridSearchCV(cv=None, error_score=nan,\n",
              "             estimator=SVC(C=1.0, break_ties=False, cache_size=200,\n",
              "                           class_weight=None, coef0=0.0,\n",
              "                           decision_function_shape='ovr', degree=3,\n",
              "                           gamma='scale', kernel='rbf', max_iter=-1,\n",
              "                           probability=False, random_state=None, shrinking=True,\n",
              "                           tol=0.001, verbose=False),\n",
              "             iid='deprecated', n_jobs=None,\n",
              "             param_grid={'C': [0.1, 1, 10, 100, 1000],\n",
              "                         'gamma': [1, 0.1, 0.01, 0.001, 0.0001],\n",
              "                         'kernel': ['rbf']},\n",
              "             pre_dispatch='2*n_jobs', refit=True, return_train_score=False,\n",
              "             scoring=None, verbose=3)"
            ]
          },
          "metadata": {
            "tags": []
          },
          "execution_count": 49
        }
      ]
    },
    {
      "cell_type": "code",
      "metadata": {
        "colab": {
          "base_uri": "https://localhost:8080/"
        },
        "id": "aMvwlwSZa4oE",
        "outputId": "aa263039-844e-4e65-8603-e724f768433f"
      },
      "source": [
        "# print best parameter after tuning \n",
        "print(grid.best_params_) \n",
        "  \n",
        "# print how our model looks after hyper-parameter tuning \n",
        "print(grid.best_estimator_) "
      ],
      "execution_count": 50,
      "outputs": [
        {
          "output_type": "stream",
          "text": [
            "{'C': 100, 'gamma': 0.01, 'kernel': 'rbf'}\n",
            "SVC(C=100, break_ties=False, cache_size=200, class_weight=None, coef0=0.0,\n",
            "    decision_function_shape='ovr', degree=3, gamma=0.01, kernel='rbf',\n",
            "    max_iter=-1, probability=False, random_state=None, shrinking=True,\n",
            "    tol=0.001, verbose=False)\n"
          ],
          "name": "stdout"
        }
      ]
    },
    {
      "cell_type": "markdown",
      "metadata": {
        "id": "AfVKizghy9hu"
      },
      "source": [
        "**Final Thoughts on Support Vector Classifier**\n",
        "\n",
        "The parameters for the Support Vector Classifier were found by applying the hyperparameter tuning GridSearchCV (5-fold cross validation). The optimal parameters of C, gamma and kernel were obtained as 100, 0.01 and rbf respectively. Hence using these values, the results obtained from Support Vector Classifier are similar to those obtained from Ordinal Logistic Regression approach. Both the methods generate an accuracy of 97.5%, and a misclassification rate of 2.5%. Hence both can be said to be performing equally well."
      ]
    },
    {
      "cell_type": "markdown",
      "metadata": {
        "id": "3DHNMSyszkkW"
      },
      "source": [
        "##Decision Tree Classifier"
      ]
    },
    {
      "cell_type": "markdown",
      "metadata": {
        "id": "sf54TFuZ0rkY"
      },
      "source": [
        "First, defining the model"
      ]
    },
    {
      "cell_type": "code",
      "metadata": {
        "id": "qydE8nXQiOEy"
      },
      "source": [
        "#Defining model\n",
        "estimator = DecisionTreeClassifier(criterion = 'gini', random_state=0)"
      ],
      "execution_count": 51,
      "outputs": []
    },
    {
      "cell_type": "markdown",
      "metadata": {
        "id": "KXCS2o0002bT"
      },
      "source": [
        "Next, fitting the model on the training data"
      ]
    },
    {
      "cell_type": "code",
      "metadata": {
        "id": "Gtzq2HNL0vH1"
      },
      "source": [
        "#Fitting model\n",
        "model_dt  = estimator.fit(X0_train, y0_train)"
      ],
      "execution_count": 52,
      "outputs": []
    },
    {
      "cell_type": "markdown",
      "metadata": {
        "id": "RH_P_yS809MK"
      },
      "source": [
        "Finally, using the fitted model for predicting class."
      ]
    },
    {
      "cell_type": "code",
      "metadata": {
        "colab": {
          "base_uri": "https://localhost:8080/"
        },
        "id": "zoyaHbdpytZZ",
        "outputId": "471d78d4-6180-4c60-cd56-93c4d02958a1"
      },
      "source": [
        "#Making Predictions\n",
        "y_dt = model_dt.predict(X0_test)\n",
        "y_dt"
      ],
      "execution_count": 53,
      "outputs": [
        {
          "output_type": "execute_result",
          "data": {
            "text/plain": [
              "array([8., 8., 8., 4., 6., 6., 8., 4., 8., 4., 4., 8., 4., 4., 6., 4., 4.,\n",
              "       6., 4., 6., 8., 4., 4., 4., 4., 4., 8., 4., 6., 8., 4., 4., 6., 4.,\n",
              "       4., 6., 8., 6., 4., 4., 8., 6., 6., 4., 4., 4., 4., 4., 4., 8., 6.,\n",
              "       8., 8., 6., 8., 6., 6., 6., 8., 4., 8., 4., 4., 8., 4., 6., 6., 8.,\n",
              "       8., 4., 4., 4., 4., 4., 8., 4., 4., 4., 4., 8.])"
            ]
          },
          "metadata": {
            "tags": []
          },
          "execution_count": 53
        }
      ]
    },
    {
      "cell_type": "markdown",
      "metadata": {
        "id": "EC9zYx3f1PR_"
      },
      "source": [
        "To better exhibit the results, confusion matrix is calculated and shown below. "
      ]
    },
    {
      "cell_type": "code",
      "metadata": {
        "colab": {
          "base_uri": "https://localhost:8080/"
        },
        "id": "EXX6wMbG01_Y",
        "outputId": "18842e20-e050-4b09-dd2a-b682b8626ec5"
      },
      "source": [
        "#Calculating the confusion matrix\n",
        "cm = confusion_matrix(y0_test, y_dt)\n",
        "print(cm)"
      ],
      "execution_count": 54,
      "outputs": [
        {
          "output_type": "stream",
          "text": [
            "[[40  1  0]\n",
            " [ 0 17  0]\n",
            " [ 0  0 22]]\n"
          ],
          "name": "stdout"
        }
      ]
    },
    {
      "cell_type": "code",
      "metadata": {
        "colab": {
          "base_uri": "https://localhost:8080/",
          "height": 450
        },
        "id": "U2V1uSCh1Zfd",
        "outputId": "2cc7eda9-b41b-40b2-e0a4-946a40dfb1fd"
      },
      "source": [
        "#Plotting the confusion matrix of the model\n",
        "cm=confusion_matrix(y0_test,y_dt)\n",
        "plt.figure(figsize = (10,7))\n",
        "sns.heatmap(cm, annot=True, xticklabels=[4,6,8], yticklabels=[4,6,8])"
      ],
      "execution_count": 55,
      "outputs": [
        {
          "output_type": "execute_result",
          "data": {
            "text/plain": [
              "<matplotlib.axes._subplots.AxesSubplot at 0x7fa3960846a0>"
            ]
          },
          "metadata": {
            "tags": []
          },
          "execution_count": 55
        },
        {
          "output_type": "display_data",
          "data": {
            "image/png": "[encoded data removed]",
            "text/plain": [
              "<Figure size 720x504 with 2 Axes>"
            ]
          },
          "metadata": {
            "tags": [],
            "needs_background": "light"
          }
        }
      ]
    },
    {
      "cell_type": "markdown",
      "metadata": {
        "id": "VeH9gfrM1nJR"
      },
      "source": [
        "The diagonal values shows the accurately classified values for each class. Out of total 80 values in the test dataset, 79 were predicted accurately in their respective classes. 1 value was misclassified as class '6' instead of class '4'."
      ]
    },
    {
      "cell_type": "code",
      "metadata": {
        "colab": {
          "base_uri": "https://localhost:8080/"
        },
        "id": "F6GfAXCe3y2V",
        "outputId": "fc11b212-abdd-405c-d7d8-fa965d3b9c88"
      },
      "source": [
        "#Classification report\n",
        "print(classification_report(y0_test, y_dt, target_names = ['4', '6', '8']))"
      ],
      "execution_count": 56,
      "outputs": [
        {
          "output_type": "stream",
          "text": [
            "              precision    recall  f1-score   support\n",
            "\n",
            "           4       1.00      0.98      0.99        41\n",
            "           6       0.94      1.00      0.97        17\n",
            "           8       1.00      1.00      1.00        22\n",
            "\n",
            "    accuracy                           0.99        80\n",
            "   macro avg       0.98      0.99      0.99        80\n",
            "weighted avg       0.99      0.99      0.99        80\n",
            "\n"
          ],
          "name": "stdout"
        }
      ]
    },
    {
      "cell_type": "markdown",
      "metadata": {
        "id": "cobv7lSIU702"
      },
      "source": [
        "**Classification report** further expands on the confusion matrix and gives the parameters and further quantifies on how good the classification of the given model is. \n",
        "\n",
        "**Precision** in the classification report tells us the fraction of predictions of a positive class that were actually positive, i.e it gives us the accuracy of the positive predictions. It is good value for all the classes.\n",
        "\n",
        "**Recall** gives the fraction of all positive samples that were correctly predicted as positive by the classifier, i.e fraction of positives correctly identified. It is also good for all classes in this case\n",
        "\n",
        "**F1- score** combines the precision and recall into a single measurement, it is the harmonic mean between precision and recall. It is good for all the classes.\n",
        "\n",
        "**Support** is the actual number of occurences of the class in the given dataset."
      ]
    },
    {
      "cell_type": "markdown",
      "metadata": {
        "id": "hrj8AQZjU8oI"
      },
      "source": [
        "Plotting the decision tree classifier below"
      ]
    },
    {
      "cell_type": "code",
      "metadata": {
        "colab": {
          "base_uri": "https://localhost:8080/",
          "height": 699
        },
        "id": "YbNqpLLCyWNI",
        "outputId": "7366a976-3a6c-45b1-d4ae-c8ef83c1a3e2"
      },
      "source": [
        "#Plotting the decision tree classifier\n",
        "fig_1 = plt.figure(figsize=(24,12))\n",
        "\n",
        "fig_1_a = plt.subplot(121)\n",
        "axs1 = plot_tree(estimator, filled=True, feature_names = list(X.columns), class_names = ['4', '6','8'], rounded = True, precision = 2, node_ids=True)\n",
        "fig_1_a.set_title('Sample counts per node')\n",
        "\n",
        "plt.show()"
      ],
      "execution_count": 57,
      "outputs": [
        {
          "output_type": "display_data",
          "data": {
            "image/png": "[encoded data removed]",
            "text/plain": [
              "<Figure size 1728x864 with 1 Axes>"
            ]
          },
          "metadata": {
            "tags": [],
            "needs_background": "light"
          }
        }
      ]
    },
    {
      "cell_type": "markdown",
      "metadata": {
        "id": "YTXmP7MB185A"
      },
      "source": [
        "After this, we find the accuracy of the applied model."
      ]
    },
    {
      "cell_type": "code",
      "metadata": {
        "id": "aE209o4v47iR",
        "colab": {
          "base_uri": "https://localhost:8080/"
        },
        "outputId": "d6833f94-07ef-43e3-ad7c-00e3b17a0b00"
      },
      "source": [
        "#Accuracy of the model\n",
        "dtc_score =accuracy_score(y0_test,y_dt)\n",
        "print(\"The Accuracy of the model is\", dtc_score*100, \"%\")"
      ],
      "execution_count": 58,
      "outputs": [
        {
          "output_type": "stream",
          "text": [
            "The Accuracy of the model is 98.75 %\n"
          ],
          "name": "stdout"
        }
      ]
    },
    {
      "cell_type": "markdown",
      "metadata": {
        "id": "vmHlGK8j2XN7"
      },
      "source": [
        "**Misclassification Rate**\n",
        "\n",
        "Source - https://www.ritchieng.com/machine-learning-evaluate-classification-model/\n",
        "\n",
        "\n",
        "Misclassification rate can be found by subtracting the accuracy score from the highest value that it can attain, i.e 1\n",
        "\n",
        "Misclassificaion rate = 1- accuracy_score value"
      ]
    },
    {
      "cell_type": "code",
      "metadata": {
        "colab": {
          "base_uri": "https://localhost:8080/"
        },
        "id": "rbPvYxn42gMh",
        "outputId": "d958e383-373a-413e-9795-27c51b49c126"
      },
      "source": [
        "#Finding the misclassification rate\n",
        "misclass_dtc = 1-dtc_score\n",
        "print(\"The misclassification rate for the Decision Tree Classifier is\", misclass_dtc, \"(\",misclass_dtc*100, \")\", \"%\")"
      ],
      "execution_count": 59,
      "outputs": [
        {
          "output_type": "stream",
          "text": [
            "The misclassification rate for the Decision Tree Classifier is 0.012499999999999956 ( 1.2499999999999956 ) %\n"
          ],
          "name": "stdout"
        }
      ]
    },
    {
      "cell_type": "markdown",
      "metadata": {
        "id": "ofYgcPxG202s"
      },
      "source": [
        "Now for justification for selection of max_depth =2 , the hyperparamter tuning for the parameter was done as shown below. "
      ]
    },
    {
      "cell_type": "code",
      "metadata": {
        "id": "GXCQjF5TgU2w"
      },
      "source": [
        "#Tuning for max depth parameter\n",
        "# List of values to try for max_depth:\n",
        "max_depth_range = list(range(1, 6))\n",
        "# List to store the average RMSE for each value of max_depth:\n",
        "accuracy = []\n",
        "for depth in max_depth_range:\n",
        "    \n",
        "    clf = DecisionTreeClassifier(max_depth = depth, \n",
        "                             random_state = 0)\n",
        "    clf.fit(X0_train, y0_train)\n",
        "    score = clf.score(X0_test, y0_test)\n",
        "    accuracy.append(score)"
      ],
      "execution_count": 60,
      "outputs": []
    },
    {
      "cell_type": "code",
      "metadata": {
        "colab": {
          "base_uri": "https://localhost:8080/",
          "height": 650
        },
        "id": "w38Ri41Egq1Y",
        "outputId": "9998afbb-915c-4d30-cb4a-cedc1cc1a316"
      },
      "source": [
        "#Plotting the hyperparameter tuning analysis done above\n",
        "plt.figure(figsize=(20,10))\n",
        "plt.plot(max_depth_range, accuracy)\n",
        "plt.xlabel(\"Max Depth\", fontsize=15)\n",
        "plt.ylabel(\"Accuracy Score\", fontsize=15)\n",
        "plt.title(\"Hyperparameter Tuning for max_depth parameter\", fontsize=20)"
      ],
      "execution_count": 61,
      "outputs": [
        {
          "output_type": "execute_result",
          "data": {
            "text/plain": [
              "Text(0.5, 1.0, 'Hyperparameter Tuning for max_depth parameter')"
            ]
          },
          "metadata": {
            "tags": []
          },
          "execution_count": 61
        },
        {
          "output_type": "display_data",
          "data": {
            "image/png": "[encoded data removed]",
            "text/plain": [
              "<Figure size 1440x720 with 1 Axes>"
            ]
          },
          "metadata": {
            "tags": [],
            "needs_background": "light"
          }
        }
      ]
    },
    {
      "cell_type": "markdown",
      "metadata": {
        "id": "fer-0m3I3s8U"
      },
      "source": [
        "Thus, from hyperparameter tuning, we can clearly infer that max_depth=2 gives the highest accuracy for decision tree classifer model, hence the value is used in the analysis."
      ]
    },
    {
      "cell_type": "markdown",
      "metadata": {
        "id": "UyGr78Qv35gL"
      },
      "source": [
        "**Final Thoughts on Decision Tree Classifier**\n",
        "\n",
        "The parameter for max_depth was subjected to tuning as shown in the analysis above and an optimal values were found to be greater than and equal to 2. Also, the criterion of gini index and entropy gives the same result hence was not tuned. Decision Tree Classifier gives the best results of accuracy 98.75% and misclassification rate of 1.25%, among all of the models applied for the classification. Hence classification can be best applied on this dataset by Decision Tree Classifier."
      ]
    },
    {
      "cell_type": "markdown",
      "metadata": {
        "id": "t5kchW1mgP3w"
      },
      "source": [
        "Comparison for all models implemented in the classification is given below. From the overall analysis done for the classification, it can be concluded that Decision Tree Classifier performs the best on the given dataset."
      ]
    },
    {
      "cell_type": "markdown",
      "metadata": {
        "id": "-qSrX16tgHmb"
      },
      "source": [
        "![image.png](data:image/png;base64,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)"
      ]
    },
    {
      "cell_type": "markdown",
      "metadata": {
        "id": "j4b4WiBCMcD1"
      },
      "source": [
        "#Regression"
      ]
    },
    {
      "cell_type": "markdown",
      "metadata": {
        "id": "ZcQd3cid-c8c"
      },
      "source": [
        "##Least Squares and LASSO Regularization"
      ]
    },
    {
      "cell_type": "markdown",
      "metadata": {
        "id": "ia7U5qge2fLH"
      },
      "source": [
        "###LASSO Regularization\n"
      ]
    },
    {
      "cell_type": "markdown",
      "metadata": {
        "id": "C8_3CSgg_yGT"
      },
      "source": [
        "First, defining the model"
      ]
    },
    {
      "cell_type": "code",
      "metadata": {
        "id": "DQJK4ebvIAS9"
      },
      "source": [
        "#Defining the model\n",
        "lassoreg = Lasso(alpha=0.02)"
      ],
      "execution_count": 62,
      "outputs": []
    },
    {
      "cell_type": "markdown",
      "metadata": {
        "id": "pTQ6G4AmApyF"
      },
      "source": [
        "Next, fitting the model on the training data"
      ]
    },
    {
      "cell_type": "code",
      "metadata": {
        "id": "l2KvWRcY_4AE"
      },
      "source": [
        "#Fitting the model\n",
        "lassoreg_model = lassoreg.fit(X0_train, y0_train)"
      ],
      "execution_count": 63,
      "outputs": []
    },
    {
      "cell_type": "markdown",
      "metadata": {
        "id": "hJDnoP-AAtzX"
      },
      "source": [
        "Finally, using the fitted model for predicting class."
      ]
    },
    {
      "cell_type": "code",
      "metadata": {
        "id": "t3Y2FZLWITn3",
        "colab": {
          "base_uri": "https://localhost:8080/"
        },
        "outputId": "b2471768-196e-4ea6-80d6-0b59e1b22676"
      },
      "source": [
        "#Making predictions\n",
        "y_lsq = lassoreg_model.predict(X0_test)\n",
        "y_lsq"
      ],
      "execution_count": 64,
      "outputs": [
        {
          "output_type": "execute_result",
          "data": {
            "text/plain": [
              "array([7.09061418, 8.55376755, 7.32621359, 3.83619561, 4.75330595,\n",
              "       6.32491611, 7.82422174, 3.86970729, 7.15083432, 4.19233619,\n",
              "       4.81486656, 7.30342565, 4.52432817, 3.75454817, 6.33161844,\n",
              "       3.99217846, 4.36507487, 5.92596129, 3.87640963, 5.53240869,\n",
              "       7.81751941, 3.99156875, 3.70641241, 4.67836084, 4.11332933,\n",
              "       3.88311196, 8.53701172, 3.78728874, 6.31151144, 7.10401885,\n",
              "       4.27662421, 4.39990684, 4.65683266, 3.91662364, 4.00497342,\n",
              "       5.93936596, 7.11072119, 5.93668503, 4.28474772, 4.34232728,\n",
              "       7.11072119, 5.55515628, 5.11870873, 4.39056392, 4.53111121,\n",
              "       3.80816686, 4.19375736, 4.01969838, 3.88179167, 7.09731652,\n",
              "       5.93668503, 7.11072119, 9.35693818, 5.92998269, 7.06246437,\n",
              "       6.43266231, 6.31151144, 6.3048091 , 8.55376755, 3.77924594,\n",
              "       7.31616008, 4.37715925, 4.36375457, 7.12473557, 4.06580327,\n",
              "       6.02369434, 5.14823936, 7.11072119, 7.35972527, 4.25519691,\n",
              "       3.96943087, 3.99355927, 4.38786281, 3.86233472, 7.82554204,\n",
              "       4.12405306, 4.62474216, 3.78527804, 4.28267649, 6.44602663])"
            ]
          },
          "metadata": {
            "tags": []
          },
          "execution_count": 64
        }
      ]
    },
    {
      "cell_type": "markdown",
      "metadata": {
        "id": "mt2a_3rJeYcc"
      },
      "source": [
        "Now, the predicted results from the LASSO regularization will not make sense because of the predictions other than the given classes of 4,6 and 8 cylinders. So, to scale or convert it to the required classes, again, the code is written below."
      ]
    },
    {
      "cell_type": "code",
      "metadata": {
        "colab": {
          "base_uri": "https://localhost:8080/"
        },
        "id": "Sx42Q143V2X7",
        "outputId": "1c37106c-29a1-43c7-cf40-0a4ef261c959"
      },
      "source": [
        "#Code for converting the predicted output to nearest 4,6,8 class\n",
        "num = []\n",
        "for i in y_lsq:\n",
        "  if i<=5:\n",
        "    i = 4\n",
        "  elif 5<=i<=7:\n",
        "    i = 6\n",
        "  elif i>=7:\n",
        "    i = 8 \n",
        "  num.append(i)\n",
        "num= np.asarray(num)\n",
        "num"
      ],
      "execution_count": 65,
      "outputs": [
        {
          "output_type": "execute_result",
          "data": {
            "text/plain": [
              "array([8, 8, 8, 4, 4, 6, 8, 4, 8, 4, 4, 8, 4, 4, 6, 4, 4, 6, 4, 6, 8, 4,\n",
              "       4, 4, 4, 4, 8, 4, 6, 8, 4, 4, 4, 4, 4, 6, 8, 6, 4, 4, 8, 6, 6, 4,\n",
              "       4, 4, 4, 4, 4, 8, 6, 8, 8, 6, 8, 6, 6, 6, 8, 4, 8, 4, 4, 8, 4, 6,\n",
              "       6, 8, 8, 4, 4, 4, 4, 4, 8, 4, 4, 4, 4, 6])"
            ]
          },
          "metadata": {
            "tags": []
          },
          "execution_count": 65
        }
      ]
    },
    {
      "cell_type": "markdown",
      "metadata": {
        "id": "irrvEKaSE31l"
      },
      "source": [
        "Next, for finding accuracy of the model implemented, we compare the predicted output "
      ]
    },
    {
      "cell_type": "code",
      "metadata": {
        "id": "MzbuTcTSD7-V"
      },
      "source": [
        "#Comparing the predicted output to the test split of the dataset\n",
        "y_comp_lasso = (y0_test == num)"
      ],
      "execution_count": 66,
      "outputs": []
    },
    {
      "cell_type": "markdown",
      "metadata": {
        "id": "AzWjf7YMK7NX"
      },
      "source": [
        "The accuracy score in this case can be found out by dividing the number of values similar in both test split and predicted output by the length of the test split. The calculations mentioned are shown below."
      ]
    },
    {
      "cell_type": "code",
      "metadata": {
        "colab": {
          "base_uri": "https://localhost:8080/"
        },
        "id": "t2ZwwSsnDLn8",
        "outputId": "73395411-c11a-48f0-b109-8ccfaa20eb8c"
      },
      "source": [
        "#Calculating accuracy\n",
        "acc_lasso = (sum(y_comp_lasso)/len(y0_test))\n",
        "print(\"Accuracy of the model is\", acc_lasso*100, \"%\")"
      ],
      "execution_count": 67,
      "outputs": [
        {
          "output_type": "stream",
          "text": [
            "Accuracy of the model is 97.5 %\n"
          ],
          "name": "stdout"
        }
      ]
    },
    {
      "cell_type": "markdown",
      "metadata": {
        "id": "7AKbQKUUV7xz"
      },
      "source": [
        "Finding the R2 score, Mean squared error and root mean squared error for this model implementation."
      ]
    },
    {
      "cell_type": "code",
      "metadata": {
        "colab": {
          "base_uri": "https://localhost:8080/"
        },
        "id": "XEMKYI5TIb7-",
        "outputId": "95fca5fc-f8e2-42fc-fbd1-a92f11386999"
      },
      "source": [
        "#Squares calculation\n",
        "print(\"R-Square Value\",r2_score(y0_test,num))\n",
        "print(\"\\n\")\n",
        "print (\"mean_squared_error : \",mean_squared_error(y0_test,num))\n",
        "print(\"\\n\")\n",
        "print (\"root_mean_squared_error : \",np.sqrt(mean_squared_error(y0_test,num)))"
      ],
      "execution_count": 68,
      "outputs": [
        {
          "output_type": "stream",
          "text": [
            "R-Square Value 0.9658046591151955\n",
            "\n",
            "\n",
            "mean_squared_error :  0.1\n",
            "\n",
            "\n",
            "root_mean_squared_error :  0.31622776601683794\n"
          ],
          "name": "stdout"
        }
      ]
    },
    {
      "cell_type": "markdown",
      "metadata": {
        "id": "6rEcT9r2NVBX"
      },
      "source": [
        "For the selection of value for alpha, following hyperparameter tuning was done. RepeatedKFold and GridSearchCV was used in the tuning."
      ]
    },
    {
      "cell_type": "code",
      "metadata": {
        "colab": {
          "base_uri": "https://localhost:8080/"
        },
        "id": "HN2Zwa6FAzkv",
        "outputId": "01701ee1-5159-42d8-f629-fe78875cce23"
      },
      "source": [
        "#Source - https://machinelearningmastery.com/lasso-regression-with-python/ \n",
        "# grid search hyperparameters for lasso regression\n",
        "# define model\n",
        "model_lasso = Lasso()\n",
        "# define model evaluation method\n",
        "cv = RepeatedKFold(n_splits=10, n_repeats=3, random_state=1)\n",
        "# define grid\n",
        "grid = dict()\n",
        "grid['alpha'] = arange(0, 1, 0.01)\n",
        "# define search\n",
        "search = GridSearchCV(model_lasso, grid, scoring='neg_mean_absolute_error', cv=cv, n_jobs=-1)\n",
        "# perform the search\n",
        "results = search.fit(X0_train, y0_train)\n",
        "# summarize\n",
        "print('Config: %s' % results.best_params_)"
      ],
      "execution_count": 69,
      "outputs": [
        {
          "output_type": "stream",
          "text": [
            "Config: {'alpha': 0.02}\n"
          ],
          "name": "stdout"
        }
      ]
    },
    {
      "cell_type": "markdown",
      "metadata": {
        "id": "3HPQU32qWcOV"
      },
      "source": [
        "**Final thoughts on LASSO regularization**\n",
        "\n",
        "The value for parameter alpha was found to be 0.02 by hyperparameter tuning and the model was implemented on this value. The accuracy obtained was 97.5% with a R-square value of 0.97, and root mean square value of 0.32. The predicted was rounded off to nearest 4,6 or 8 class integer and the accuracy was found by comparing the predicted output to the test split and dividing it by the length of the test split."
      ]
    },
    {
      "cell_type": "markdown",
      "metadata": {
        "id": "3GZYtNRU4aIi"
      },
      "source": [
        "###Least Squares"
      ]
    },
    {
      "cell_type": "markdown",
      "metadata": {
        "id": "JB3m65jl4ijJ"
      },
      "source": [
        "First, defining the model"
      ]
    },
    {
      "cell_type": "code",
      "metadata": {
        "id": "3R7NcR5J4mBN"
      },
      "source": [
        "#Defining the model\n",
        "leastsq = Lasso(alpha=0)"
      ],
      "execution_count": 70,
      "outputs": []
    },
    {
      "cell_type": "markdown",
      "metadata": {
        "id": "gOk4FysQ4p1V"
      },
      "source": [
        "Next, fitting the model on the training data"
      ]
    },
    {
      "cell_type": "code",
      "metadata": {
        "colab": {
          "base_uri": "https://localhost:8080/"
        },
        "id": "9Hw5xWu95Rkx",
        "outputId": "c1d5d8b1-5185-4c72-f51c-564d2bb4beb2"
      },
      "source": [
        "#Fitting the model\n",
        "leastsq_model = leastsq.fit(X0_train, y0_train)"
      ],
      "execution_count": 71,
      "outputs": [
        {
          "output_type": "stream",
          "text": [
            "/usr/local/lib/python3.6/dist-packages/ipykernel_launcher.py:2: UserWarning:\n",
            "\n",
            "With alpha=0, this algorithm does not converge well. You are advised to use the LinearRegression estimator\n",
            "\n",
            "/usr/local/lib/python3.6/dist-packages/sklearn/linear_model/_coordinate_descent.py:476: UserWarning:\n",
            "\n",
            "Coordinate descent with no regularization may lead to unexpected results and is discouraged.\n",
            "\n",
            "/usr/local/lib/python3.6/dist-packages/sklearn/linear_model/_coordinate_descent.py:476: ConvergenceWarning:\n",
            "\n",
            "Objective did not converge. You might want to increase the number of iterations. Duality gap: 42.93355600739908, tolerance: 0.09277492163009403\n",
            "\n"
          ],
          "name": "stderr"
        }
      ]
    },
    {
      "cell_type": "markdown",
      "metadata": {
        "id": "5a4orr-25UAi"
      },
      "source": [
        "Finally, using the fitted model for predicting class."
      ]
    },
    {
      "cell_type": "code",
      "metadata": {
        "colab": {
          "base_uri": "https://localhost:8080/"
        },
        "id": "EHqy_Hcq5Wp4",
        "outputId": "b8db17a5-86cb-4402-858b-3c9876e8775f"
      },
      "source": [
        "#Making predictions\n",
        "y_lsq1 = leastsq_model.predict(X0_test)\n",
        "y_lsq1"
      ],
      "execution_count": 72,
      "outputs": [
        {
          "output_type": "execute_result",
          "data": {
            "text/plain": [
              "array([7.11223707, 8.58725483, 7.35325414, 3.79541197, 4.74105169,\n",
              "       6.35948248, 7.85237719, 3.84744869, 7.16077344, 4.17055111,\n",
              "       4.81662898, 7.31952515, 4.50464466, 3.7359257 , 6.36001378,\n",
              "       3.96161758, 4.33933196, 5.94045259, 3.84698242, 5.54225393,\n",
              "       7.84685799, 3.97496547, 3.6925633 , 4.69257132, 4.0903724 ,\n",
              "       3.86447258, 8.56821953, 3.77205853, 6.33098642, 7.13075733,\n",
              "       4.24126748, 4.39074886, 4.62811203, 3.91900325, 4.01094337,\n",
              "       5.96695349, 7.10634914, 5.95876033, 4.25927429, 4.33498737,\n",
              "       7.12630073, 5.56156222, 5.09711568, 4.41440153, 4.52454036,\n",
              "       3.81399705, 4.18453509, 4.009391  , 3.84863234, 7.12473933,\n",
              "       5.9502809 , 7.14126443, 9.3891891 , 5.95074717, 7.07259635,\n",
              "       6.46323278, 6.32350458, 6.31798537, 8.58725483, 3.76344032,\n",
              "       7.33724409, 4.38640427, 4.35790822, 7.13745858, 4.03166695,\n",
              "       6.05408571, 5.14579668, 7.14625233, 7.38833201, 4.22084058,\n",
              "       3.94031413, 3.9931034 , 4.37755006, 3.83165117, 7.85624648,\n",
              "       4.10269466, 4.6085145 , 3.78062796, 4.25269693, 6.46234443])"
            ]
          },
          "metadata": {
            "tags": []
          },
          "execution_count": 72
        }
      ]
    },
    {
      "cell_type": "markdown",
      "metadata": {
        "id": "Mh8kDhmcdoj8"
      },
      "source": [
        "Now, the predicted results from the Least squares implementation will not make sense because of the predictions other than the given classes of 4,6 and 8 cylinders. So, to scale or convert it to the required classes, again, the code is written below."
      ]
    },
    {
      "cell_type": "code",
      "metadata": {
        "colab": {
          "base_uri": "https://localhost:8080/"
        },
        "id": "yTUmnptBZWZ3",
        "outputId": "e5deea99-7b8b-4a6d-a7f5-6a4953a608a5"
      },
      "source": [
        "#Code for converting the predicted output to nearest 4,6,8 class\n",
        "num1 = []\n",
        "for i1 in y_lsq1:\n",
        "  if i1<=5:\n",
        "    i1 = 4\n",
        "  elif 5<=i1<=7:\n",
        "    i1 = 6\n",
        "  elif i1>=7:\n",
        "    i1 = 8 \n",
        "  num1.append(i1)\n",
        "num1= np.asarray(num1)\n",
        "num1"
      ],
      "execution_count": 73,
      "outputs": [
        {
          "output_type": "execute_result",
          "data": {
            "text/plain": [
              "array([8, 8, 8, 4, 4, 6, 8, 4, 8, 4, 4, 8, 4, 4, 6, 4, 4, 6, 4, 6, 8, 4,\n",
              "       4, 4, 4, 4, 8, 4, 6, 8, 4, 4, 4, 4, 4, 6, 8, 6, 4, 4, 8, 6, 6, 4,\n",
              "       4, 4, 4, 4, 4, 8, 6, 8, 8, 6, 8, 6, 6, 6, 8, 4, 8, 4, 4, 8, 4, 6,\n",
              "       6, 8, 8, 4, 4, 4, 4, 4, 8, 4, 4, 4, 4, 6])"
            ]
          },
          "metadata": {
            "tags": []
          },
          "execution_count": 73
        }
      ]
    },
    {
      "cell_type": "markdown",
      "metadata": {
        "id": "suG4iIc45iKj"
      },
      "source": [
        "Next, for finding accuracy of the model implemented, we compare the predicted output "
      ]
    },
    {
      "cell_type": "code",
      "metadata": {
        "id": "C6altRff5kmB"
      },
      "source": [
        "#Comparing the predicted output to the test split of the dataset\n",
        "y_comp_lsq = (y0_test == num1)"
      ],
      "execution_count": 74,
      "outputs": []
    },
    {
      "cell_type": "markdown",
      "metadata": {
        "id": "zYe2PxzU5nof"
      },
      "source": [
        "The accuracy score in this case can be found out by dividing the number of values similar in both test split and predicted output by the length of the test split. The calculations mentioned are shown below."
      ]
    },
    {
      "cell_type": "code",
      "metadata": {
        "colab": {
          "base_uri": "https://localhost:8080/"
        },
        "id": "52dCp1I05sK3",
        "outputId": "a72fdcdc-5911-4204-ada7-cf18a2934ae2"
      },
      "source": [
        "#Calculating accuracy\n",
        "acc_lsq = (sum(y_comp_lsq)/len(y0_test))\n",
        "print(\"Accuracy of the model is\", acc_lsq*100, \"%\")"
      ],
      "execution_count": 75,
      "outputs": [
        {
          "output_type": "stream",
          "text": [
            "Accuracy of the model is 97.5 %\n"
          ],
          "name": "stdout"
        }
      ]
    },
    {
      "cell_type": "code",
      "metadata": {
        "colab": {
          "base_uri": "https://localhost:8080/"
        },
        "id": "kWm4glpm5u9r",
        "outputId": "b6bc7436-e98b-4073-b7f7-0d0faca999fd"
      },
      "source": [
        "#Squares calculation\n",
        "print(\"R-Square Value\",r2_score(y0_test,num1))\n",
        "print(\"\\n\")\n",
        "print (\"mean_squared_error : \",mean_squared_error(y0_test,num1))\n",
        "print(\"\\n\")\n",
        "print (\"root_mean_squared_error : \",np.sqrt(mean_squared_error(y0_test,num1)))"
      ],
      "execution_count": 76,
      "outputs": [
        {
          "output_type": "stream",
          "text": [
            "R-Square Value 0.9658046591151955\n",
            "\n",
            "\n",
            "mean_squared_error :  0.1\n",
            "\n",
            "\n",
            "root_mean_squared_error :  0.31622776601683794\n"
          ],
          "name": "stdout"
        }
      ]
    },
    {
      "cell_type": "markdown",
      "metadata": {
        "id": "NDtq4r4SYD8E"
      },
      "source": [
        "**Final thoughts on Least Squares Implementation**\n",
        "\n",
        "The value for parameter alpha was put to be 0 and the model was implemented on this value. The accuracy obtained was 97.5% with a R-square value of 0.97, and root mean square value of 0.32. The predicted was rounded off to nearest 4,6 or 8 integer and the accuracy was found by comparing the predicted output to the test split and dividing it by the length of the test split. No change was observed in LASSO and least squares implementation."
      ]
    },
    {
      "cell_type": "markdown",
      "metadata": {
        "id": "uG-FhUpsPDvp"
      },
      "source": [
        "##Support Vector Regression"
      ]
    },
    {
      "cell_type": "markdown",
      "metadata": {
        "id": "pIQqftqPPJhi"
      },
      "source": [
        "First, defining the model"
      ]
    },
    {
      "cell_type": "code",
      "metadata": {
        "id": "va3ykhg5JiWP"
      },
      "source": [
        "#Defining model\n",
        "regressor = SVR(C=10, epsilon=0.3, gamma= 1e-07, kernel= 'linear')"
      ],
      "execution_count": 77,
      "outputs": []
    },
    {
      "cell_type": "markdown",
      "metadata": {
        "id": "uzb9-cYrPcOP"
      },
      "source": [
        "Next, fitting the model on the training data"
      ]
    },
    {
      "cell_type": "code",
      "metadata": {
        "id": "GNq9-fOnPOvM"
      },
      "source": [
        "#Fitting model\n",
        "model_svr = regressor.fit(X0_train,y0_train)"
      ],
      "execution_count": 78,
      "outputs": []
    },
    {
      "cell_type": "markdown",
      "metadata": {
        "id": "ay_Vhi68Pffc"
      },
      "source": [
        "Finally, using the fitted model for predicting class."
      ]
    },
    {
      "cell_type": "code",
      "metadata": {
        "colab": {
          "base_uri": "https://localhost:8080/"
        },
        "id": "oAFTN2UgM88w",
        "outputId": "1cfdba03-3621-40d4-fe6d-bd66a1ca662e"
      },
      "source": [
        "#Making predictions\n",
        "y_svr = model_svr.predict(X0_test)\n",
        "y_svr"
      ],
      "execution_count": 79,
      "outputs": [
        {
          "output_type": "execute_result",
          "data": {
            "text/plain": [
              "array([7.0114522 , 8.45951179, 7.25233678, 3.76751786, 4.67445406,\n",
              "       6.28414128, 7.73164675, 3.82023461, 7.05478995, 4.13193425,\n",
              "       4.7652951 , 7.21950118, 4.45799035, 3.72499136, 6.27672273,\n",
              "       3.92938269, 4.27752063, 5.86914102, 3.81100173, 5.47310872,\n",
              "       7.72999363, 3.93618149, 3.66986562, 4.64355951, 4.06063037,\n",
              "       3.83442685, 8.44585375, 3.78014823, 6.24908421, 7.02836594,\n",
              "       4.20374203, 4.33353844, 4.57757796, 3.89167944, 3.98484605,\n",
              "       5.90056942, 6.97558907, 5.88902218, 4.20200853, 4.28591682,\n",
              "       7.01187573, 5.49192753, 5.02907094, 4.37608453, 4.46136922,\n",
              "       3.79990363, 4.13126912, 3.96968135, 3.8011893 , 7.02580566,\n",
              "       5.87360034, 7.03909072, 9.24762832, 5.88283322, 6.97457261,\n",
              "       6.38668206, 6.23547671, 6.23382359, 8.45951179, 3.77453582,\n",
              "       7.23579602, 4.34193463, 4.30687756, 7.03287667, 3.99507718,\n",
              "       5.99002266, 5.06850478, 7.04816239, 7.27420988, 4.18731711,\n",
              "       3.90693522, 3.97275943, 4.31852073, 3.80072644, 7.74311231,\n",
              "       4.06962553, 4.55776124, 3.79824921, 4.21087748, 6.38050734])"
            ]
          },
          "metadata": {
            "tags": []
          },
          "execution_count": 79
        }
      ]
    },
    {
      "cell_type": "markdown",
      "metadata": {
        "id": "nbLkxhJWdiEw"
      },
      "source": [
        "Now, the predicted results from the Support Vector Regressor will not make sense because of the predictions other than the given classes of 4,6 and 8 cylinders. So, to scale or convert it to the required classes, again, the code is written below."
      ]
    },
    {
      "cell_type": "code",
      "metadata": {
        "colab": {
          "base_uri": "https://localhost:8080/"
        },
        "id": "fnRdacbub6KJ",
        "outputId": "b2f0db56-9d6f-490c-cebd-59aec216ba50"
      },
      "source": [
        "#Code for converting the predicted output to nearest 4,6,8 class\n",
        "num2 = []\n",
        "for i2 in y_svr:\n",
        "  if i2<=5:\n",
        "    i2 = 4\n",
        "  elif 5<=i2<=7:\n",
        "    i2 = 6\n",
        "  elif i2>=7:\n",
        "    i2 = 8 \n",
        "  num2.append(i2)\n",
        "num2= np.asarray(num2)\n",
        "num2"
      ],
      "execution_count": 80,
      "outputs": [
        {
          "output_type": "execute_result",
          "data": {
            "text/plain": [
              "array([8, 8, 8, 4, 4, 6, 8, 4, 8, 4, 4, 8, 4, 4, 6, 4, 4, 6, 4, 6, 8, 4,\n",
              "       4, 4, 4, 4, 8, 4, 6, 8, 4, 4, 4, 4, 4, 6, 6, 6, 4, 4, 8, 6, 6, 4,\n",
              "       4, 4, 4, 4, 4, 8, 6, 8, 8, 6, 6, 6, 6, 6, 8, 4, 8, 4, 4, 8, 4, 6,\n",
              "       6, 8, 8, 4, 4, 4, 4, 4, 8, 4, 4, 4, 4, 6])"
            ]
          },
          "metadata": {
            "tags": []
          },
          "execution_count": 80
        }
      ]
    },
    {
      "cell_type": "markdown",
      "metadata": {
        "id": "1G0QEFoxaa7e"
      },
      "source": [
        "Next, for finding accuracy of the model implemented, we compare the predicted output "
      ]
    },
    {
      "cell_type": "code",
      "metadata": {
        "id": "yf5ctLW_adsW"
      },
      "source": [
        "#Comparing the predicted output to the test split of the dataset\n",
        "y_comp_svr = (y0_test ==num2)"
      ],
      "execution_count": 81,
      "outputs": []
    },
    {
      "cell_type": "markdown",
      "metadata": {
        "id": "iIKjc_bpamrK"
      },
      "source": [
        "The accuracy score in this case can be found out by dividing the number of values similar in both test split and predicted output by the length of the test split. The calculations mentioned are shown below."
      ]
    },
    {
      "cell_type": "code",
      "metadata": {
        "colab": {
          "base_uri": "https://localhost:8080/"
        },
        "id": "024llRg2bIq3",
        "outputId": "88de062c-5eee-4c09-ee2b-63e3f74f12c1"
      },
      "source": [
        "#Calculating accuracy\n",
        "acc_svr = (sum(y_comp_svr)/len(y0_test))\n",
        "print(\"Accuracy of the model is\", acc_svr*100, \"%\")"
      ],
      "execution_count": 82,
      "outputs": [
        {
          "output_type": "stream",
          "text": [
            "Accuracy of the model is 95.0 %\n"
          ],
          "name": "stdout"
        }
      ]
    },
    {
      "cell_type": "markdown",
      "metadata": {
        "id": "lDL-XH0tWM4Y"
      },
      "source": [
        "Finding the R2 score, Mean squared error and root mean squared error for this model implementation."
      ]
    },
    {
      "cell_type": "code",
      "metadata": {
        "colab": {
          "base_uri": "https://localhost:8080/"
        },
        "id": "ZKNdx0PYeq6e",
        "outputId": "842cd14b-e4a0-4eab-d5ba-60a1ca3e5c86"
      },
      "source": [
        "#Squares calculation\n",
        "print(\"R-Square Value\",r2_score(y0_test,num2))\n",
        "print(\"\\n\")\n",
        "print (\"mean_squared_error : \",mean_squared_error(y0_test,num2))\n",
        "print(\"\\n\")\n",
        "print (\"root_mean_squared_error : \",np.sqrt(mean_squared_error(y0_test,num2)))"
      ],
      "execution_count": 83,
      "outputs": [
        {
          "output_type": "stream",
          "text": [
            "R-Square Value 0.9316093182303911\n",
            "\n",
            "\n",
            "mean_squared_error :  0.2\n",
            "\n",
            "\n",
            "root_mean_squared_error :  0.4472135954999579\n"
          ],
          "name": "stdout"
        }
      ]
    },
    {
      "cell_type": "markdown",
      "metadata": {
        "id": "ebuMiKbrbSK5"
      },
      "source": [
        "The arguments for the SVR model were selected based on the following hyperparameter tuning"
      ]
    },
    {
      "cell_type": "code",
      "metadata": {
        "colab": {
          "base_uri": "https://localhost:8080/"
        },
        "id": "7wiTLlhnSe7_",
        "outputId": "fa0b584e-af1b-423a-f064-fdaebad8ccb9"
      },
      "source": [
        "#Hyperparameter Tuning \n",
        "parameters = {'kernel': ('linear', 'rbf','poly'), 'C':[1.5, 10],'gamma': [1e-7, 1e-4],'epsilon':[0.1,0.2,0.5,0.3]}\n",
        "svr = SVR()\n",
        "clf_ = GridSearchCV(svr, parameters)\n",
        "clf_.fit(X0_train,y0_train)\n",
        "clf_.best_params_"
      ],
      "execution_count": 84,
      "outputs": [
        {
          "output_type": "execute_result",
          "data": {
            "text/plain": [
              "{'C': 10, 'epsilon': 0.3, 'gamma': 1e-07, 'kernel': 'linear'}"
            ]
          },
          "metadata": {
            "tags": []
          },
          "execution_count": 84
        }
      ]
    },
    {
      "cell_type": "markdown",
      "metadata": {
        "id": "BxV1dZhzYSHz"
      },
      "source": [
        "**Final thoughts on Support Vector Regression**\n",
        "\n",
        "The value for parameters C, epsilon, gamma and kernel were found to be 10, 0.3, 10^-7 and linear respectively by hyperparameter tuning and the model was implemented on these values. The accuracy obtained was 95% with a R-square value of 0.93, and root mean square value of 0.45.The predicted was rounded off to nearest 4,6 or 8 integer and the accuracy was found by comparing the predicted output to the test split and dividing it by the length of the test split. This model seems to be performing better than the previously implemented LASSO and Least squares models."
      ]
    },
    {
      "cell_type": "markdown",
      "metadata": {
        "id": "e1sBmM4jbsbp"
      },
      "source": [
        "##Decision Tree Regressor"
      ]
    },
    {
      "cell_type": "markdown",
      "metadata": {
        "id": "bRdodbZkcNFV"
      },
      "source": [
        "First, defining the model"
      ]
    },
    {
      "cell_type": "code",
      "metadata": {
        "id": "wv0MdDGtORe7"
      },
      "source": [
        "#Defining model\n",
        "dtr_regressor = DecisionTreeRegressor(max_depth=4,random_state=0) "
      ],
      "execution_count": 85,
      "outputs": []
    },
    {
      "cell_type": "markdown",
      "metadata": {
        "id": "1vcZXj2cdLiZ"
      },
      "source": [
        "Next, fitting the model on the training data"
      ]
    },
    {
      "cell_type": "code",
      "metadata": {
        "id": "kW2n5tmEcP3a"
      },
      "source": [
        "#Fitting model\n",
        "model_dtr = dtr_regressor.fit(X0_train, y0_train) "
      ],
      "execution_count": 86,
      "outputs": []
    },
    {
      "cell_type": "markdown",
      "metadata": {
        "id": "exwDEJrjdRz0"
      },
      "source": [
        "Finally, using the fitted model for predicting class."
      ]
    },
    {
      "cell_type": "code",
      "metadata": {
        "id": "Ub-O6z0gOq75",
        "colab": {
          "base_uri": "https://localhost:8080/"
        },
        "outputId": "2898bfe6-1e1a-4ef3-c153-99a24181d25d"
      },
      "source": [
        "#Making predicitons\n",
        "y_dtr = model_dtr.predict(X0_test) \n",
        "y_dtr"
      ],
      "execution_count": 87,
      "outputs": [
        {
          "output_type": "execute_result",
          "data": {
            "text/plain": [
              "array([8.        , 8.        , 8.        , 4.        , 5.33333333,\n",
              "       6.        , 8.        , 4.        , 8.        , 4.        ,\n",
              "       4.        , 8.        , 4.        , 4.        , 6.        ,\n",
              "       4.        , 4.        , 6.        , 4.        , 6.        ,\n",
              "       8.        , 4.        , 4.        , 4.        , 4.        ,\n",
              "       4.        , 8.        , 4.        , 6.        , 8.        ,\n",
              "       4.        , 4.        , 5.33333333, 4.        , 4.        ,\n",
              "       6.        , 8.        , 6.        , 4.        , 4.        ,\n",
              "       8.        , 6.        , 6.        , 4.        , 4.        ,\n",
              "       4.        , 4.        , 4.        , 4.        , 8.        ,\n",
              "       6.        , 8.        , 8.        , 6.        , 8.        ,\n",
              "       6.        , 6.        , 6.        , 8.        , 4.        ,\n",
              "       8.        , 4.        , 4.        , 8.        , 4.        ,\n",
              "       6.        , 6.        , 8.        , 8.        , 4.        ,\n",
              "       4.        , 4.        , 4.        , 4.        , 8.        ,\n",
              "       4.        , 4.        , 4.        , 4.        , 8.        ])"
            ]
          },
          "metadata": {
            "tags": []
          },
          "execution_count": 87
        }
      ]
    },
    {
      "cell_type": "markdown",
      "metadata": {
        "id": "tpQW4qKkdeZo"
      },
      "source": [
        "Now, the predicted results from the Decision Tree Regressor will not make sense because of the predictions other than the given classes of 4,6 and 8 cylinders. So, to scale or convert it to the required classes, again, the code is written below."
      ]
    },
    {
      "cell_type": "code",
      "metadata": {
        "colab": {
          "base_uri": "https://localhost:8080/"
        },
        "id": "gLjzjp-4co1W",
        "outputId": "df3bb733-8560-468f-910b-49345e3ea820"
      },
      "source": [
        "#Code for converting the predicted output to nearest 4,6,8 class\n",
        "num3 = []\n",
        "for i3 in y_dtr:\n",
        "  if i3<=5:\n",
        "    i3 = 4\n",
        "  elif 5<=i3<=7:\n",
        "    i3 = 6\n",
        "  elif i3>=7:\n",
        "    i3 = 8 \n",
        "  num3.append(i3)\n",
        "num3= np.asarray(num3)\n",
        "num3"
      ],
      "execution_count": 88,
      "outputs": [
        {
          "output_type": "execute_result",
          "data": {
            "text/plain": [
              "array([8, 8, 8, 4, 6, 6, 8, 4, 8, 4, 4, 8, 4, 4, 6, 4, 4, 6, 4, 6, 8, 4,\n",
              "       4, 4, 4, 4, 8, 4, 6, 8, 4, 4, 6, 4, 4, 6, 8, 6, 4, 4, 8, 6, 6, 4,\n",
              "       4, 4, 4, 4, 4, 8, 6, 8, 8, 6, 8, 6, 6, 6, 8, 4, 8, 4, 4, 8, 4, 6,\n",
              "       6, 8, 8, 4, 4, 4, 4, 4, 8, 4, 4, 4, 4, 8])"
            ]
          },
          "metadata": {
            "tags": []
          },
          "execution_count": 88
        }
      ]
    },
    {
      "cell_type": "markdown",
      "metadata": {
        "id": "4oYuU9t9eT1U"
      },
      "source": [
        "Next, for finding accuracy of the model implemented, we compare the predicted output "
      ]
    },
    {
      "cell_type": "code",
      "metadata": {
        "id": "ZOIPTlyUeWsV"
      },
      "source": [
        "#Comparing the predicted output to the test split of the dataset\n",
        "y_comp_dtr = (y0_test == num3)"
      ],
      "execution_count": 89,
      "outputs": []
    },
    {
      "cell_type": "markdown",
      "metadata": {
        "id": "IEjIracCec1w"
      },
      "source": [
        "The accuracy score in this case can be found out by dividing the number of values similar in both test split and predicted output by the length of the test split. The calculations mentioned are shown below."
      ]
    },
    {
      "cell_type": "code",
      "metadata": {
        "colab": {
          "base_uri": "https://localhost:8080/"
        },
        "id": "iHlAnvlSehDg",
        "outputId": "7e5892e0-9d9a-4b2f-df4f-aa46fdf161fb"
      },
      "source": [
        "#Calculating accuracy\n",
        "acc_dtr = (sum(y_comp_dtr)/len(y0_test))\n",
        "print(\"Accuracy of the model is\", acc_dtr*100, \"%\")"
      ],
      "execution_count": 90,
      "outputs": [
        {
          "output_type": "stream",
          "text": [
            "Accuracy of the model is 98.75 %\n"
          ],
          "name": "stdout"
        }
      ]
    },
    {
      "cell_type": "markdown",
      "metadata": {
        "id": "-NpTjAQfWN7D"
      },
      "source": [
        "Finding the R2 score, Mean squared error and root mean squared error for this model implementation."
      ]
    },
    {
      "cell_type": "code",
      "metadata": {
        "colab": {
          "base_uri": "https://localhost:8080/"
        },
        "id": "Uu5N3vAqe2UT",
        "outputId": "6dd82543-3377-4781-979f-4393976d0304"
      },
      "source": [
        "#Squares calculation\n",
        "print(\"R-Square Value\",r2_score(y0_test,num3))\n",
        "print(\"\\n\")\n",
        "print (\"mean_squared_error : \",mean_squared_error(y0_test,num3))\n",
        "print(\"\\n\")\n",
        "print (\"root_mean_squared_error : \",np.sqrt(mean_squared_error(y0_test,num3)))"
      ],
      "execution_count": 91,
      "outputs": [
        {
          "output_type": "stream",
          "text": [
            "R-Square Value 0.9829023295575978\n",
            "\n",
            "\n",
            "mean_squared_error :  0.05\n",
            "\n",
            "\n",
            "root_mean_squared_error :  0.22360679774997896\n"
          ],
          "name": "stdout"
        }
      ]
    },
    {
      "cell_type": "markdown",
      "metadata": {
        "id": "0Hy_xxqkWTKm"
      },
      "source": [
        "Plotting the decision tree below"
      ]
    },
    {
      "cell_type": "code",
      "metadata": {
        "colab": {
          "base_uri": "https://localhost:8080/",
          "height": 699
        },
        "id": "tzI45R-kyGn5",
        "outputId": "fda8efc2-84b3-44bc-e1eb-6a758e17a6de"
      },
      "source": [
        "#Plotting the decision tree classifier\n",
        "fig_2 = plt.figure(figsize=(24,12))\n",
        "\n",
        "fig_2_a = plt.subplot(121)\n",
        "axs2 = plot_tree(dtr_regressor, filled=True, feature_names = list(X.columns), class_names = ['4', '6','8'], rounded = True, precision = 2, node_ids=True)\n",
        "fig_2_a.set_title('Sample counts per node')\n",
        "\n",
        "plt.show()"
      ],
      "execution_count": 92,
      "outputs": [
        {
          "output_type": "display_data",
          "data": {
            "image/png": "[encoded data removed]",
            "text/plain": [
              "<Figure size 1728x864 with 1 Axes>"
            ]
          },
          "metadata": {
            "tags": [],
            "needs_background": "light"
          }
        }
      ]
    },
    {
      "cell_type": "markdown",
      "metadata": {
        "id": "78OoSUWLfw-K"
      },
      "source": [
        "Now for justification for selection of max_depth =4 , the hyperparamter tuning for the parameter was done as shown below. "
      ]
    },
    {
      "cell_type": "code",
      "metadata": {
        "id": "XMT4dWkINdkx"
      },
      "source": [
        "#Tuning for max depth parameter\n",
        "# List of values to try for max_depth:\n",
        "max_depth_range1 = list(range(1, 6))\n",
        "# List to store the average RMSE for each value of max_depth:\n",
        "accuracy1 = []\n",
        "for depth in max_depth_range1:\n",
        "    \n",
        "    clf1 = DecisionTreeRegressor(max_depth = depth, \n",
        "                             random_state = 0)\n",
        "    clf1.fit(X0_train, y0_train)\n",
        "    score1 = clf1.score(X0_test, y0_test)\n",
        "    accuracy1.append(score1)"
      ],
      "execution_count": 93,
      "outputs": []
    },
    {
      "cell_type": "code",
      "metadata": {
        "colab": {
          "base_uri": "https://localhost:8080/",
          "height": 650
        },
        "id": "qEM_k9TBYtEC",
        "outputId": "c60bf828-477b-4781-f155-352084b519c2"
      },
      "source": [
        "#Plotting the hyperparameter tuning analysis done above\n",
        "plt.figure(figsize=(20,10))\n",
        "plt.plot(max_depth_range1, accuracy1)\n",
        "plt.xlabel(\"Max Depth\", fontsize=15)\n",
        "plt.ylabel(\"Accuracy Score\", fontsize=15)\n",
        "plt.title(\"Hyperparameter Tuning for max_depth parameter\", fontsize=20)"
      ],
      "execution_count": 94,
      "outputs": [
        {
          "output_type": "execute_result",
          "data": {
            "text/plain": [
              "Text(0.5, 1.0, 'Hyperparameter Tuning for max_depth parameter')"
            ]
          },
          "metadata": {
            "tags": []
          },
          "execution_count": 94
        },
        {
          "output_type": "display_data",
          "data": {
            "image/png": "[encoded data removed]",
            "text/plain": [
              "<Figure size 1440x720 with 1 Axes>"
            ]
          },
          "metadata": {
            "tags": [],
            "needs_background": "light"
          }
        }
      ]
    },
    {
      "cell_type": "markdown",
      "metadata": {
        "id": "CW683ZOXZjIb"
      },
      "source": [
        "**Final Thoughts on Decision Tree Regressor**\n",
        "\n",
        "The parameter for max_depth was subjected to tuning as shown in the analysis above and an optimal values was found to be 4. Also, the criterion of gini index and entropy gives the same result hence was not tuned. The accuracy obtained was 98.75% with a R-square value of 0.98, and root mean square value of 0.22.The predicted was rounded off to nearest 4,6 or 8 integer and the accuracy was found by comparing the predicted output to the test split and dividing it by the length of the test split\n",
        "\n",
        "Decision Tree regressor gives the best results among all of the models applied for the regression too. Hence regression can be best applied on this dataset by Decision Tree Regressor."
      ]
    },
    {
      "cell_type": "markdown",
      "metadata": {
        "id": "9oMnwHNpiN_x"
      },
      "source": [
        "Comparison of all models implemented in the regression is given below. From the analysis, Decision Tree Regressor, again is found to be the best performing regression model on the given dataset."
      ]
    },
    {
      "cell_type": "markdown",
      "metadata": {
        "id": "gDKX08DJidJV"
      },
      "source": [
        "![image.png](data:image/png;base64,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)"
      ]
    }
  ]
}